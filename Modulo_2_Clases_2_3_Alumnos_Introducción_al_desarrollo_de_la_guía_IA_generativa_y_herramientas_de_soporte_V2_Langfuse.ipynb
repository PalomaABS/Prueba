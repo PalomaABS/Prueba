{
  "cells": [
    {
      "cell_type": "markdown",
      "metadata": {
        "id": "view-in-github",
        "colab_type": "text"
      },
      "source": [
        "<a href=\"https://colab.research.google.com/github/PalomaABS/Prueba/blob/main/Modulo_2_Clases_2_3_Alumnos_Introduccio%CC%81n_al_desarrollo_de_la_gui%CC%81a_IA_generativa_y_herramientas_de_soporte_V2_Langfuse.ipynb\" target=\"_parent\"><img src=\"https://colab.research.google.com/assets/colab-badge.svg\" alt=\"Open In Colab\"/></a>"
      ]
    },
    {
      "cell_type": "markdown",
      "source": [
        "# Grupos de trabajo\n",
        "\n",
        "## Grupo 1\n",
        "\n",
        "* Yamur Aliquintui\n",
        "* Paulo Araya\n",
        "* Víctor Vásquez\n",
        "* Luis Lopez\n",
        "\n",
        "## Grupo 2\n",
        "\n",
        "* Matías Mella\n",
        "* David Lugo\n",
        "* Jose Arandia\n",
        "* Javier Araya\n",
        "\n",
        "## Grupo 3\n",
        "\n",
        "* Pablo Lastra Bachmann\n",
        "* Oscar Rivera\n",
        "* Maximiliano González\n",
        "* Paloma Barahona\n",
        "\n",
        "## Grupo 4\n",
        "\n",
        "* Hardy Providell\n",
        "* Carlos Castro\n",
        "* David Peñaloza\n",
        "* Christian Orquera\n",
        "* Agustín Mella\n",
        "\n",
        "## Grupo 5\n",
        "\n",
        "* Matias Gutierrez\n",
        "* Pablo Picunche\n",
        "* Tania Lopez castro\n",
        "* Camila Contreras\n",
        "* Francisca Arauco\n",
        "\n",
        "## Grupo 6\n",
        "\n",
        "* Miguel Ceron\n",
        "* Roberto González De La Cruz\n",
        "* Rodrigo Díaz\n",
        "* Gustavo Chamorro\n",
        "* Eduardo Droguett\n"
      ],
      "metadata": {
        "id": "Iz8WP44nsYBM"
      },
      "id": "Iz8WP44nsYBM"
    },
    {
      "cell_type": "markdown",
      "metadata": {
        "id": "G4g9wpJN63NP"
      },
      "source": [
        "## ¿Qué es una API?\n",
        "Una API (Interfaz de Programación de Aplicaciones) es un conjunto de funciones y definiciones que permiten que diferentes aplicaciones se comuniquen entre sí. Las APIs actúan como intermediarios que permiten que un software solicite y reciba servicios de otro software, facilitando la integración y el intercambio de datos entre sistemas.\n",
        "\n",
        "Existen varios tipos de APIs, como las API web, que utilizan protocolos HTTP/HTTPS, y las API RESTful, que siguen principios de REST para la gestión de recursos a través de operaciones CRUD (Crear, Leer, Actualizar, Eliminar).\n",
        "\n",
        "## API Rest de OpenAI\n",
        "OpenAI, así como Google, Anthropic y otros proveedores de modelos de lenguaje, ofrece una API para interactuar con sus modelos y otras funcionalidades.\n",
        "\n",
        "https://platform.openai.com/docs/api-reference/introduction\n",
        "\n",
        "A continuación vamos a hacer nuestra primera llamada a la API de OpenAI."
      ],
      "id": "G4g9wpJN63NP"
    },
    {
      "cell_type": "markdown",
      "source": [],
      "metadata": {
        "id": "j3XPoUT4e_SO"
      },
      "id": "j3XPoUT4e_SO"
    },
    {
      "cell_type": "markdown",
      "source": [
        "Primero, cargamos las credenciales desde los secretos de colab y generamos un objeto openai (que usará esas credenciales)"
      ],
      "metadata": {
        "id": "Oxy9xVDp-5nL"
      },
      "id": "Oxy9xVDp-5nL"
    },
    {
      "cell_type": "code",
      "execution_count": null,
      "metadata": {
        "colab": {
          "base_uri": "https://localhost:8080/"
        },
        "id": "wHWUaqH263NR",
        "outputId": "a916c90f-4882-4152-e283-4a36331dc73d",
        "collapsed": true
      },
      "outputs": [
        {
          "output_type": "stream",
          "name": "stdout",
          "text": [
            "Requirement already satisfied: openai in /usr/local/lib/python3.11/dist-packages (1.84.0)\n",
            "Requirement already satisfied: anyio<5,>=3.5.0 in /usr/local/lib/python3.11/dist-packages (from openai) (4.9.0)\n",
            "Requirement already satisfied: distro<2,>=1.7.0 in /usr/local/lib/python3.11/dist-packages (from openai) (1.9.0)\n",
            "Requirement already satisfied: httpx<1,>=0.23.0 in /usr/local/lib/python3.11/dist-packages (from openai) (0.28.1)\n",
            "Requirement already satisfied: jiter<1,>=0.4.0 in /usr/local/lib/python3.11/dist-packages (from openai) (0.10.0)\n",
            "Requirement already satisfied: pydantic<3,>=1.9.0 in /usr/local/lib/python3.11/dist-packages (from openai) (2.11.5)\n",
            "Requirement already satisfied: sniffio in /usr/local/lib/python3.11/dist-packages (from openai) (1.3.1)\n",
            "Requirement already satisfied: tqdm>4 in /usr/local/lib/python3.11/dist-packages (from openai) (4.67.1)\n",
            "Requirement already satisfied: typing-extensions<5,>=4.11 in /usr/local/lib/python3.11/dist-packages (from openai) (4.14.0)\n",
            "Requirement already satisfied: idna>=2.8 in /usr/local/lib/python3.11/dist-packages (from anyio<5,>=3.5.0->openai) (3.10)\n",
            "Requirement already satisfied: certifi in /usr/local/lib/python3.11/dist-packages (from httpx<1,>=0.23.0->openai) (2025.4.26)\n",
            "Requirement already satisfied: httpcore==1.* in /usr/local/lib/python3.11/dist-packages (from httpx<1,>=0.23.0->openai) (1.0.9)\n",
            "Requirement already satisfied: h11>=0.16 in /usr/local/lib/python3.11/dist-packages (from httpcore==1.*->httpx<1,>=0.23.0->openai) (0.16.0)\n",
            "Requirement already satisfied: annotated-types>=0.6.0 in /usr/local/lib/python3.11/dist-packages (from pydantic<3,>=1.9.0->openai) (0.7.0)\n",
            "Requirement already satisfied: pydantic-core==2.33.2 in /usr/local/lib/python3.11/dist-packages (from pydantic<3,>=1.9.0->openai) (2.33.2)\n",
            "Requirement already satisfied: typing-inspection>=0.4.0 in /usr/local/lib/python3.11/dist-packages (from pydantic<3,>=1.9.0->openai) (0.4.1)\n"
          ]
        }
      ],
      "source": [
        "#!pip install openai"
      ],
      "id": "wHWUaqH263NR"
    },
    {
      "cell_type": "code",
      "source": [
        "from google.colab import userdata\n",
        "from openai import OpenAI\n",
        "import json\n",
        "import os\n",
        "\n",
        "# Asegúrate de almacenar tu clave de API en las variables de entorno\n",
        "openai_api_key = userdata.get('OPENAI_API_KEY')\n",
        "os.environ['OPENAI_API_KEY'] = openai_api_key\n",
        "\n",
        "openai = OpenAI()"
      ],
      "metadata": {
        "id": "GUWP1pUj-08g"
      },
      "id": "GUWP1pUj-08g",
      "execution_count": null,
      "outputs": []
    },
    {
      "cell_type": "code",
      "source": [
        "response = openai.chat.completions.create(\n",
        "    model=\"gpt-4.1\",\n",
        "    messages=[\n",
        "        {\"role\": \"system\", \"content\": \"Eres un instructor del curso de IA Generativa y debes responder consultas de tus alumnos\"},\n",
        "        {\"role\": \"user\", \"content\": \"qué es un modelo de lenguaje?\"}\n",
        "    ],\n",
        "    temperature = 0,\n",
        ")\n",
        "\n",
        "print(response)\n",
        "print(json.dumps(response.to_dict(), indent=2))"
      ],
      "metadata": {
        "colab": {
          "base_uri": "https://localhost:8080/",
          "height": 373
        },
        "id": "k8kQDs21HFj5",
        "outputId": "c6a2df20-b559-413a-d0c4-82e2a1fe3dbc"
      },
      "id": "k8kQDs21HFj5",
      "execution_count": null,
      "outputs": [
        {
          "output_type": "error",
          "ename": "RateLimitError",
          "evalue": "Error code: 429 - {'error': {'message': 'You exceeded your current quota, please check your plan and billing details. For more information on this error, read the docs: https://platform.openai.com/docs/guides/error-codes/api-errors.', 'type': 'insufficient_quota', 'param': None, 'code': 'insufficient_quota'}}",
          "traceback": [
            "\u001b[0;31m---------------------------------------------------------------------------\u001b[0m",
            "\u001b[0;31mRateLimitError\u001b[0m                            Traceback (most recent call last)",
            "\u001b[0;32m<ipython-input-2-267010703>\u001b[0m in \u001b[0;36m<cell line: 0>\u001b[0;34m()\u001b[0m\n\u001b[0;32m----> 1\u001b[0;31m response = openai.chat.completions.create(\n\u001b[0m\u001b[1;32m      2\u001b[0m     \u001b[0mmodel\u001b[0m\u001b[0;34m=\u001b[0m\u001b[0;34m\"gpt-4.1\"\u001b[0m\u001b[0;34m,\u001b[0m\u001b[0;34m\u001b[0m\u001b[0;34m\u001b[0m\u001b[0m\n\u001b[1;32m      3\u001b[0m     messages=[\n\u001b[1;32m      4\u001b[0m         \u001b[0;34m{\u001b[0m\u001b[0;34m\"role\"\u001b[0m\u001b[0;34m:\u001b[0m \u001b[0;34m\"system\"\u001b[0m\u001b[0;34m,\u001b[0m \u001b[0;34m\"content\"\u001b[0m\u001b[0;34m:\u001b[0m \u001b[0;34m\"Eres un instructor del curso de IA Generativa y debes responder consultas de tus alumnos\"\u001b[0m\u001b[0;34m}\u001b[0m\u001b[0;34m,\u001b[0m\u001b[0;34m\u001b[0m\u001b[0;34m\u001b[0m\u001b[0m\n\u001b[1;32m      5\u001b[0m         \u001b[0;34m{\u001b[0m\u001b[0;34m\"role\"\u001b[0m\u001b[0;34m:\u001b[0m \u001b[0;34m\"user\"\u001b[0m\u001b[0;34m,\u001b[0m \u001b[0;34m\"content\"\u001b[0m\u001b[0;34m:\u001b[0m \u001b[0;34m\"qué es un modelo de lenguaje?\"\u001b[0m\u001b[0;34m}\u001b[0m\u001b[0;34m\u001b[0m\u001b[0;34m\u001b[0m\u001b[0m\n",
            "\u001b[0;32m/usr/local/lib/python3.11/dist-packages/openai/_utils/_utils.py\u001b[0m in \u001b[0;36mwrapper\u001b[0;34m(*args, **kwargs)\u001b[0m\n\u001b[1;32m    285\u001b[0m                         \u001b[0mmsg\u001b[0m \u001b[0;34m=\u001b[0m \u001b[0;34mf\"Missing required argument: {quote(missing[0])}\"\u001b[0m\u001b[0;34m\u001b[0m\u001b[0;34m\u001b[0m\u001b[0m\n\u001b[1;32m    286\u001b[0m                 \u001b[0;32mraise\u001b[0m \u001b[0mTypeError\u001b[0m\u001b[0;34m(\u001b[0m\u001b[0mmsg\u001b[0m\u001b[0;34m)\u001b[0m\u001b[0;34m\u001b[0m\u001b[0;34m\u001b[0m\u001b[0m\n\u001b[0;32m--> 287\u001b[0;31m             \u001b[0;32mreturn\u001b[0m \u001b[0mfunc\u001b[0m\u001b[0;34m(\u001b[0m\u001b[0;34m*\u001b[0m\u001b[0margs\u001b[0m\u001b[0;34m,\u001b[0m \u001b[0;34m**\u001b[0m\u001b[0mkwargs\u001b[0m\u001b[0;34m)\u001b[0m\u001b[0;34m\u001b[0m\u001b[0;34m\u001b[0m\u001b[0m\n\u001b[0m\u001b[1;32m    288\u001b[0m \u001b[0;34m\u001b[0m\u001b[0m\n\u001b[1;32m    289\u001b[0m         \u001b[0;32mreturn\u001b[0m \u001b[0mwrapper\u001b[0m  \u001b[0;31m# type: ignore\u001b[0m\u001b[0;34m\u001b[0m\u001b[0;34m\u001b[0m\u001b[0m\n",
            "\u001b[0;32m/usr/local/lib/python3.11/dist-packages/openai/resources/chat/completions/completions.py\u001b[0m in \u001b[0;36mcreate\u001b[0;34m(self, messages, model, audio, frequency_penalty, function_call, functions, logit_bias, logprobs, max_completion_tokens, max_tokens, metadata, modalities, n, parallel_tool_calls, prediction, presence_penalty, reasoning_effort, response_format, seed, service_tier, stop, store, stream, stream_options, temperature, tool_choice, tools, top_logprobs, top_p, user, web_search_options, extra_headers, extra_query, extra_body, timeout)\u001b[0m\n\u001b[1;32m    923\u001b[0m     ) -> ChatCompletion | Stream[ChatCompletionChunk]:\n\u001b[1;32m    924\u001b[0m         \u001b[0mvalidate_response_format\u001b[0m\u001b[0;34m(\u001b[0m\u001b[0mresponse_format\u001b[0m\u001b[0;34m)\u001b[0m\u001b[0;34m\u001b[0m\u001b[0;34m\u001b[0m\u001b[0m\n\u001b[0;32m--> 925\u001b[0;31m         return self._post(\n\u001b[0m\u001b[1;32m    926\u001b[0m             \u001b[0;34m\"/chat/completions\"\u001b[0m\u001b[0;34m,\u001b[0m\u001b[0;34m\u001b[0m\u001b[0;34m\u001b[0m\u001b[0m\n\u001b[1;32m    927\u001b[0m             body=maybe_transform(\n",
            "\u001b[0;32m/usr/local/lib/python3.11/dist-packages/openai/_base_client.py\u001b[0m in \u001b[0;36mpost\u001b[0;34m(self, path, cast_to, body, options, files, stream, stream_cls)\u001b[0m\n\u001b[1;32m   1240\u001b[0m             \u001b[0mmethod\u001b[0m\u001b[0;34m=\u001b[0m\u001b[0;34m\"post\"\u001b[0m\u001b[0;34m,\u001b[0m \u001b[0murl\u001b[0m\u001b[0;34m=\u001b[0m\u001b[0mpath\u001b[0m\u001b[0;34m,\u001b[0m \u001b[0mjson_data\u001b[0m\u001b[0;34m=\u001b[0m\u001b[0mbody\u001b[0m\u001b[0;34m,\u001b[0m \u001b[0mfiles\u001b[0m\u001b[0;34m=\u001b[0m\u001b[0mto_httpx_files\u001b[0m\u001b[0;34m(\u001b[0m\u001b[0mfiles\u001b[0m\u001b[0;34m)\u001b[0m\u001b[0;34m,\u001b[0m \u001b[0;34m**\u001b[0m\u001b[0moptions\u001b[0m\u001b[0;34m\u001b[0m\u001b[0;34m\u001b[0m\u001b[0m\n\u001b[1;32m   1241\u001b[0m         )\n\u001b[0;32m-> 1242\u001b[0;31m         \u001b[0;32mreturn\u001b[0m \u001b[0mcast\u001b[0m\u001b[0;34m(\u001b[0m\u001b[0mResponseT\u001b[0m\u001b[0;34m,\u001b[0m \u001b[0mself\u001b[0m\u001b[0;34m.\u001b[0m\u001b[0mrequest\u001b[0m\u001b[0;34m(\u001b[0m\u001b[0mcast_to\u001b[0m\u001b[0;34m,\u001b[0m \u001b[0mopts\u001b[0m\u001b[0;34m,\u001b[0m \u001b[0mstream\u001b[0m\u001b[0;34m=\u001b[0m\u001b[0mstream\u001b[0m\u001b[0;34m,\u001b[0m \u001b[0mstream_cls\u001b[0m\u001b[0;34m=\u001b[0m\u001b[0mstream_cls\u001b[0m\u001b[0;34m)\u001b[0m\u001b[0;34m)\u001b[0m\u001b[0;34m\u001b[0m\u001b[0;34m\u001b[0m\u001b[0m\n\u001b[0m\u001b[1;32m   1243\u001b[0m \u001b[0;34m\u001b[0m\u001b[0m\n\u001b[1;32m   1244\u001b[0m     def patch(\n",
            "\u001b[0;32m/usr/local/lib/python3.11/dist-packages/openai/_base_client.py\u001b[0m in \u001b[0;36mrequest\u001b[0;34m(self, cast_to, options, stream, stream_cls)\u001b[0m\n\u001b[1;32m   1035\u001b[0m \u001b[0;34m\u001b[0m\u001b[0m\n\u001b[1;32m   1036\u001b[0m                 \u001b[0mlog\u001b[0m\u001b[0;34m.\u001b[0m\u001b[0mdebug\u001b[0m\u001b[0;34m(\u001b[0m\u001b[0;34m\"Re-raising status error\"\u001b[0m\u001b[0;34m)\u001b[0m\u001b[0;34m\u001b[0m\u001b[0;34m\u001b[0m\u001b[0m\n\u001b[0;32m-> 1037\u001b[0;31m                 \u001b[0;32mraise\u001b[0m \u001b[0mself\u001b[0m\u001b[0;34m.\u001b[0m\u001b[0m_make_status_error_from_response\u001b[0m\u001b[0;34m(\u001b[0m\u001b[0merr\u001b[0m\u001b[0;34m.\u001b[0m\u001b[0mresponse\u001b[0m\u001b[0;34m)\u001b[0m \u001b[0;32mfrom\u001b[0m \u001b[0;32mNone\u001b[0m\u001b[0;34m\u001b[0m\u001b[0;34m\u001b[0m\u001b[0m\n\u001b[0m\u001b[1;32m   1038\u001b[0m \u001b[0;34m\u001b[0m\u001b[0m\n\u001b[1;32m   1039\u001b[0m             \u001b[0;32mbreak\u001b[0m\u001b[0;34m\u001b[0m\u001b[0;34m\u001b[0m\u001b[0m\n",
            "\u001b[0;31mRateLimitError\u001b[0m: Error code: 429 - {'error': {'message': 'You exceeded your current quota, please check your plan and billing details. For more information on this error, read the docs: https://platform.openai.com/docs/guides/error-codes/api-errors.', 'type': 'insufficient_quota', 'param': None, 'code': 'insufficient_quota'}}"
          ]
        }
      ]
    },
    {
      "cell_type": "markdown",
      "source": [],
      "metadata": {
        "id": "GdqFHOYsHb75"
      },
      "id": "GdqFHOYsHb75"
    },
    {
      "cell_type": "code",
      "source": [
        "# Imprimir la respuesta final\n",
        "message_content = response.choices[0].message.content\n",
        "print(message_content)"
      ],
      "metadata": {
        "id": "K0Efb9v-cGQA",
        "colab": {
          "base_uri": "https://localhost:8080/"
        },
        "outputId": "ee2a9c9b-c947-4fe7-b116-8aa50d37b816"
      },
      "id": "K0Efb9v-cGQA",
      "execution_count": null,
      "outputs": [
        {
          "output_type": "stream",
          "name": "stdout",
          "text": [
            "Un modelo de lenguaje es un tipo de modelo de inteligencia artificial diseñado para comprender, generar y manipular texto en lenguaje humano. Estos modelos son entrenados en grandes cantidades de datos textuales para aprender patrones, estructuras gramaticales, significados de palabras y contextos. Su objetivo es predecir la probabilidad de una secuencia de palabras, lo que les permite realizar tareas como completar frases, traducir texto, responder preguntas, resumir documentos, y más.\n",
            "\n",
            "Existen diferentes tipos de modelos de lenguaje, desde los más simples, como los modelos n-gramas, hasta los más avanzados, como los modelos basados en redes neuronales profundas, incluyendo los modelos de transformadores como GPT (Generative Pre-trained Transformer) y BERT (Bidirectional Encoder Representations from Transformers). Estos modelos han revolucionado el procesamiento del lenguaje natural (NLP) debido a su capacidad para generar texto coherente y relevante en una variedad de contextos.\n"
          ]
        }
      ]
    },
    {
      "cell_type": "markdown",
      "source": [
        "##Componentes Clave de la Llamada:\n",
        "Los parámetros más comúnmente utilizados son:\n",
        "- model: Especifica qué modelo de OpenAI se utilizará para generar la respuesta (ej. \"gpt-4o\", \"gpt-3.5-turbo\"). La elección del modelo afecta las capacidades, la calidad de la respuesta y el costo. OpenAI ofrece una gama de modelos, desde los más potentes y recientes hasta versiones más rápidas y económicas.\n",
        "- messages: Es una lista de objetos de mensaje que representan el historial de la conversación hasta el momento. Cada objeto de mensaje tiene dos propiedades principales :\n",
        "-role: Indica quién dijo el mensaje. Los roles comunes son:\n",
        " - \"system\": Proporciona instrucciones o contexto de alto nivel al modelo sobre cómo debe comportarse o qué personalidad debe adoptar. Suele ser el primer mensaje en la lista.\n",
        " - \"user\": Representa las entradas o preguntas del usuario final.\n",
        " - \"assistant\": Representa las respuestas anteriores del modelo. Incluir estas respuestas en el historial permite mantener conversaciones coherentes.\n",
        " - \"tool\": En estos mensajes colocaremos las respuestas de las ejecuciones de herramientas que el modelo nos haya pedido.\n",
        "-temperature: Controla la aleatoriedad de la salida del modelo. Es un valor entre 0 y 1. Valores más bajos (ej. 0 o 0.2) hacen que la salida sea más determinista y enfocada, ideal para tareas que requieren respuestas factuales o predecibles. Valores más altos (ej. 0.8 o 1.0) hacen que la salida sea más creativa y diversa, útil para la generación de historias o brainstorming.\n",
        "-response_format: Permite especificar el formato de la salida. Un uso común es {\"type\": \"json_object\"} para instruir al modelo a devolver una respuesta en formato JSON válido. Esto es especialmente útil cuando se necesita una salida estructurada que pueda ser fácilmente analizada por la aplicación.\n",
        "-tools y tool_choice: Estos parámetros se utilizan para habilitar y controlar la funcionalidad de \"Function Calling\" o \"Tool Use\", permitiendo al modelo interactuar con herramientas externas definidas por el desarrollador o herramientas incorporadas por OpenAI (como búsqueda web o búsqueda de archivos).\n",
        "\n",
        "La referencia completa a los parámetros y respuestas de esta API se encuentra en:\n",
        "\n",
        "https://platform.openai.com/docs/api-reference/chat\n",
        "\n",
        "\n",
        "\n",
        "##Obteniendo Respuestas Estructuradas: response_format y json_schema\n",
        "Una de las necesidades comunes al interactuar con LLMs mediante API es obtener respuestas en un formato estructurado que pueda ser fácilmente procesado por una aplicación. Si bien los LLMs son excelentes generando texto en lenguaje natural, para la integración programática, un formato como JSON es a menudo preferible. OpenAI facilita esto a través del parámetro response_format y, de manera más robusta, con la validación contra un json_schema cuando se utiliza \"Function Calling\" o el modo JSON estructurado.\n",
        "response_format = { \"type\": \"json_object\" }:\n",
        "\n",
        "-Propósito: Este parámetro, cuando se incluye en una solicitud a chat/completions, instruye al modelo para que garantice que su salida sea un objeto JSON sintácticamente válido.\n",
        "\n",
        "-Funcionamiento: El modelo intentará generar una cadena que se pueda analizar como JSON. Es crucial acompañar esto con una instrucción clara en el prompt (generalmente en el mensaje del sistema o del usuario) pidiéndole al modelo que responda en formato JSON. De hecho, la API de OpenAI puede arrojar un error si la palabra \"JSON\" no aparece en el contexto del prompt cuando se usa este modo, para evitar que el modelo genere un flujo interminable de espacios en blanco.\n",
        "\n",
        "Las opciones más habituales en Python para especificar el formato son definir directamente el formato JSON o bien especificar una clase de tipo **Pydantic** con la estructura deseada."
      ],
      "metadata": {
        "id": "L5r7OShUcNOq"
      },
      "id": "L5r7OShUcNOq"
    },
    {
      "cell_type": "code",
      "source": [
        "response = openai.chat.completions.create(\n",
        "    model=\"gpt-4o\",\n",
        "    messages=[\n",
        "        {\"role\": \"system\", \"content\": \"Eres un instructor del curso de IA Generativa y debes responder consultas de tus alumnos. Responde con un json\"},\n",
        "        {\"role\": \"user\", \"content\": \"nombra 3 modelos de lenguaje y para cada uno dame una descripción y la compañía que lo creó\"}\n",
        "    ],\n",
        "    temperature = 0,\n",
        "    response_format = { \"type\": \"json_object\" }\n",
        ")\n",
        "message_content = response.choices[0].message.content\n",
        "print(message_content)\n"
      ],
      "metadata": {
        "colab": {
          "base_uri": "https://localhost:8080/"
        },
        "id": "cr1_P3eiXy2M",
        "outputId": "b9c08acc-2068-4f23-eb15-8708fa7d1355"
      },
      "id": "cr1_P3eiXy2M",
      "execution_count": null,
      "outputs": [
        {
          "output_type": "stream",
          "name": "stdout",
          "text": [
            "{\n",
            "  \"modelos\": [\n",
            "    {\n",
            "      \"nombre\": \"GPT-3\",\n",
            "      \"descripción\": \"GPT-3, o Generative Pre-trained Transformer 3, es un modelo de lenguaje desarrollado por OpenAI. Es conocido por su capacidad para generar texto coherente y relevante en una amplia variedad de contextos, gracias a su arquitectura de transformador y su entrenamiento en un gran corpus de datos de texto.\",\n",
            "      \"compañía\": \"OpenAI\"\n",
            "    },\n",
            "    {\n",
            "      \"nombre\": \"BERT\",\n",
            "      \"descripción\": \"BERT, que significa Bidirectional Encoder Representations from Transformers, es un modelo de lenguaje desarrollado por Google. Se centra en el preentrenamiento bidireccional, lo que le permite comprender el contexto de una palabra en una oración analizando tanto las palabras que la preceden como las que la siguen.\",\n",
            "      \"compañía\": \"Google\"\n",
            "    },\n",
            "    {\n",
            "      \"nombre\": \"T5\",\n",
            "      \"descripción\": \"T5, o Text-to-Text Transfer Transformer, es un modelo de lenguaje desarrollado por Google Research. Este modelo trata todas las tareas de procesamiento de lenguaje natural como problemas de conversión de texto a texto, lo que le permite abordar una amplia gama de tareas con un enfoque unificado.\",\n",
            "      \"compañía\": \"Google\"\n",
            "    }\n",
            "  ]\n",
            "}\n"
          ]
        }
      ]
    },
    {
      "cell_type": "code",
      "source": [
        "# Imprimir la respuesta final\n",
        "first_choice_message = response.choices[0].message\n",
        "message_content = first_choice_message.content\n",
        "print(message_content)"
      ],
      "metadata": {
        "colab": {
          "base_uri": "https://localhost:8080/"
        },
        "id": "sUXMacxtYfAD",
        "outputId": "60ddb8a5-53ba-4f2c-8a1f-6b4e131c31ed",
        "collapsed": true
      },
      "id": "sUXMacxtYfAD",
      "execution_count": null,
      "outputs": [
        {
          "output_type": "stream",
          "name": "stdout",
          "text": [
            "{\n",
            "  \"modelos\": [\n",
            "    {\n",
            "      \"nombre\": \"GPT-3\",\n",
            "      \"descripción\": \"GPT-3, o Generative Pre-trained Transformer 3, es un modelo de lenguaje desarrollado por OpenAI. Es conocido por su capacidad para generar texto coherente y relevante en una amplia variedad de contextos, gracias a su arquitectura de transformador y su entrenamiento en un gran corpus de datos de texto.\",\n",
            "      \"compañía\": \"OpenAI\"\n",
            "    },\n",
            "    {\n",
            "      \"nombre\": \"BERT\",\n",
            "      \"descripción\": \"BERT, que significa Bidirectional Encoder Representations from Transformers, es un modelo de lenguaje desarrollado por Google. Se centra en el preentrenamiento bidireccional, lo que le permite comprender el contexto de una palabra en una oración analizando tanto las palabras que la preceden como las que la siguen.\",\n",
            "      \"compañía\": \"Google\"\n",
            "    },\n",
            "    {\n",
            "      \"nombre\": \"T5\",\n",
            "      \"descripción\": \"T5, o Text-to-Text Transfer Transformer, es un modelo de lenguaje desarrollado por Google Research. Este modelo trata todas las tareas de procesamiento de lenguaje natural como problemas de conversión de texto a texto, lo que le permite abordar una amplia gama de tareas con un enfoque unificado.\",\n",
            "      \"compañía\": \"Google\"\n",
            "    }\n",
            "  ]\n",
            "}\n"
          ]
        }
      ]
    },
    {
      "cell_type": "code",
      "source": [
        "response = openai.chat.completions.create(\n",
        "    model=\"gpt-4o-2024-08-06\",\n",
        "    messages=[\n",
        "        {\n",
        "            \"role\": \"system\",\n",
        "            \"content\": (\n",
        "                \"Eres un instructor del curso de IA Generativa y debes responder consultas de tus alumnos. \"\n",
        "                \"Responde con un JSON que incluya los siguientes campos para cada modelo de lenguaje: \"\n",
        "                \"nombre, descripcion, compania, ano_lanzamiento, arquitectura, casos_uso, enlace_oficial y tipo_modelo.\"\n",
        "            )\n",
        "        },\n",
        "        {\n",
        "            \"role\": \"user\",\n",
        "            \"content\": \"Nombra 3 modelos de lenguaje y proporciona los detalles mencionados.\"\n",
        "        }\n",
        "    ],\n",
        "    temperature=0,\n",
        "    response_format={\n",
        "        \"type\": \"json_schema\",\n",
        "        \"json_schema\": {\n",
        "            \"name\": \"language_models_info\",\n",
        "            \"description\": \"Información estructurada sobre modelos de lenguaje.\",\n",
        "            \"strict\": True,\n",
        "            \"schema\": {\n",
        "                \"type\": \"object\",\n",
        "                \"properties\": {\n",
        "                    \"models\": {\n",
        "                        \"type\": \"array\",\n",
        "                        \"description\": \"Lista de modelos de lenguaje con sus respectivos detalles.\",\n",
        "                        \"items\": {\n",
        "                            \"type\": \"object\",\n",
        "                            \"properties\": {\n",
        "                                \"nombre\": {\n",
        "                                    \"type\": \"string\",\n",
        "                                    \"description\": \"Nombre del modelo de lenguaje.\"\n",
        "                                },\n",
        "                                \"descripcion\": {\n",
        "                                    \"type\": \"string\",\n",
        "                                    \"description\": \"Breve descripción del modelo y sus capacidades.\"\n",
        "                                },\n",
        "                                \"compania\": {\n",
        "                                    \"type\": \"string\",\n",
        "                                    \"description\": \"Compañía u organización que desarrolló el modelo.\"\n",
        "                                },\n",
        "                                \"ano_lanzamiento\": {\n",
        "                                    \"type\": \"integer\",\n",
        "                                    \"description\": \"Año en que se lanzó el modelo.\"\n",
        "                                },\n",
        "                                \"arquitectura\": {\n",
        "                                    \"type\": \"string\",\n",
        "                                    \"description\": \"Arquitectura subyacente del modelo (por ejemplo, 'Transformer').\"\n",
        "                                },\n",
        "                                \"casos_uso\": {\n",
        "                                    \"type\": \"array\",\n",
        "                                    \"description\": \"Casos de uso típicos del modelo.\",\n",
        "                                    \"items\": {\"type\": \"string\"},\n",
        "                                    \"minItems\": 1\n",
        "                                },\n",
        "                                \"enlace_oficial\": {\n",
        "                                    \"type\": \"string\",\n",
        "                                    \"description\": \"URL del sitio oficial o documentación del modelo.\"\n",
        "                                },\n",
        "                                \"tipo_modelo\": {\n",
        "                                    \"type\": \"string\",\n",
        "                                    \"description\": \"Clasificación general del modelo.\",\n",
        "                                    \"enum\": [\"preentrenado\", \"ajustado\", \"especializado\", \"experimental\"]\n",
        "                                }\n",
        "                            },\n",
        "                            \"required\": [\n",
        "                                \"nombre\",\n",
        "                                \"descripcion\",\n",
        "                                \"compania\",\n",
        "                                \"ano_lanzamiento\",\n",
        "                                \"arquitectura\",\n",
        "                                \"casos_uso\",\n",
        "                                \"enlace_oficial\",\n",
        "                                \"tipo_modelo\"\n",
        "                            ],\n",
        "                            \"additionalProperties\": False\n",
        "                        }\n",
        "                    }\n",
        "                },\n",
        "                \"required\": [\"models\"],\n",
        "                \"additionalProperties\": False\n",
        "            }\n",
        "        }\n",
        "    }\n",
        ")\n",
        "\n",
        "# Imprimir la respuesta final\n",
        "first_choice_message = response.choices[0].message\n",
        "message_content = first_choice_message.content\n",
        "\n",
        "# Convert string to Python dictionary\n",
        "parsed_json = json.loads(message_content)\n",
        "\n",
        "# Print with indentation\n",
        "print(json.dumps(parsed_json, indent=4, ensure_ascii=False))\n",
        "\n"
      ],
      "metadata": {
        "colab": {
          "base_uri": "https://localhost:8080/"
        },
        "id": "01oXzUph_Q55",
        "outputId": "b46f1dc7-1419-4723-8029-26b534b1872f"
      },
      "id": "01oXzUph_Q55",
      "execution_count": null,
      "outputs": [
        {
          "output_type": "stream",
          "name": "stdout",
          "text": [
            "{\n",
            "    \"models\": [\n",
            "        {\n",
            "            \"nombre\": \"GPT-3\",\n",
            "            \"descripcion\": \"Un modelo de lenguaje avanzado capaz de generar texto coherente y realizar tareas de procesamiento de lenguaje natural.\",\n",
            "            \"compania\": \"OpenAI\",\n",
            "            \"ano_lanzamiento\": 2020,\n",
            "            \"arquitectura\": \"Transformer\",\n",
            "            \"casos_uso\": [\n",
            "                \"Generación de texto\",\n",
            "                \"Asistentes virtuales\",\n",
            "                \"Traducción automática\",\n",
            "                \"Análisis de sentimientos\"\n",
            "            ],\n",
            "            \"enlace_oficial\": \"https://openai.com/research/gpt-3/\",\n",
            "            \"tipo_modelo\": \"preentrenado\"\n",
            "        },\n",
            "        {\n",
            "            \"nombre\": \"BERT\",\n",
            "            \"descripcion\": \"Modelo de lenguaje bidireccional que se utiliza para tareas de comprensión del lenguaje natural.\",\n",
            "            \"compania\": \"Google\",\n",
            "            \"ano_lanzamiento\": 2018,\n",
            "            \"arquitectura\": \"Transformer\",\n",
            "            \"casos_uso\": [\n",
            "                \"Análisis de sentimientos\",\n",
            "                \"Clasificación de texto\",\n",
            "                \"Extracción de información\",\n",
            "                \"Preguntas y respuestas\"\n",
            "            ],\n",
            "            \"enlace_oficial\": \"https://github.com/google-research/bert\",\n",
            "            \"tipo_modelo\": \"preentrenado\"\n",
            "        },\n",
            "        {\n",
            "            \"nombre\": \"T5 (Text-to-Text Transfer Transformer)\",\n",
            "            \"descripcion\": \"Modelo que convierte todas las tareas de procesamiento de lenguaje natural en un problema de traducción de texto a texto.\",\n",
            "            \"compania\": \"Google\",\n",
            "            \"ano_lanzamiento\": 2019,\n",
            "            \"arquitectura\": \"Transformer\",\n",
            "            \"casos_uso\": [\n",
            "                \"Traducción automática\",\n",
            "                \"Resumen de texto\",\n",
            "                \"Clasificación de texto\",\n",
            "                \"Generación de texto\"\n",
            "            ],\n",
            "            \"enlace_oficial\": \"https://github.com/google-research/text-to-text-transfer-transformer\",\n",
            "            \"tipo_modelo\": \"preentrenado\"\n",
            "        }\n",
            "    ]\n",
            "}\n"
          ]
        }
      ]
    },
    {
      "cell_type": "markdown",
      "source": [
        "Para un detalle de las principales APIs disponibles, consultar en:\n",
        "\n",
        "<table>\n",
        "  <tr>\n",
        "    <th>Plataforma</th>\n",
        "    <th>Enlace a la Documentación de la API</th>\n",
        "  </tr>\n",
        "  <tr>\n",
        "    <td>OpenAI</td>\n",
        "    <td><a href=\"https://platform.openai.com/docs/api-reference/introduction\">OpenAI API Documentation</a></td>\n",
        "  </tr>\n",
        "  <tr>\n",
        "    <td>Google Gemini</td>\n",
        "    <td><a href=\"https://ai.google.dev/gemini-api/docs?hl=es-419\">Google Generative Language API Documentation</a></td>\n",
        "  </tr>\n",
        "  <tr>\n",
        "    <td>Anthropic Claude</td>\n",
        "    <td><a href=\"https://docs.anthropic.com/en/docs/intro-to-claude\">Anthropic API Documentation</a></td>\n",
        "  </tr>\n",
        "</table>\n"
      ],
      "metadata": {
        "id": "QElmNLFPY5lc"
      },
      "id": "QElmNLFPY5lc"
    },
    {
      "cell_type": "markdown",
      "source": [
        "# Ejercicio grupal 1\n",
        "\n",
        "Para este ejercicio nos dividiremos en grupos. Tendremos 20 minutos para resolverlo y luego 10 para aclarar dudas entre todos los grupos.\n",
        "\n",
        "Llamar al api de OpenAI con un prompt y dos imágenes. Hacer que el modelo conteste con 3 características sobre cada imagen en cuestión, en formato JSON conteniendo el nombre de la imagen, el nombre de la característica y una descripción de la misma.\n",
        "\n",
        "https://platform.openai.com/docs/guides/vision/uploading-base-64-encoded-images"
      ],
      "metadata": {
        "id": "qGqqNR8rYPeC"
      },
      "id": "qGqqNR8rYPeC"
    },
    {
      "cell_type": "code",
      "source": [
        "import openai\n",
        "import base64\n",
        "import json\n",
        "\n",
        "# Función para convertir imagen a base64\n",
        "def image_to_base64(image_path):\n",
        "    with open(image_path, \"rb\") as f:\n",
        "        return base64.b64encode(f.read()).decode(\"utf-8\")\n",
        "\n",
        "# Rutas de las imágenes\n",
        "image_paths = [\"/content/golden.jpg\"]\n",
        "image_names = [path.split(\"/\")[-1] for path in image_paths]\n",
        "images_b64 = [image_to_base64(path) for path in image_paths]\n",
        "\n",
        "# Construcción del mensaje\n",
        "prompt = (\n",
        "    \"Describe 3 características visuales distintivas para cada imagen. \"\n",
        "    \"Devuelve un JSON con este formato:\\n\"\n",
        "    \"[\\n\"\n",
        "    \"  {\\n\"\n",
        "    \"    \\\"nombre_imagen\\\": \\\"nombre.jpg\\\",\\n\"\n",
        "    \"    \\\"caracteristicas\\\": [\\n\"\n",
        "    \"      {\\\"nombre\\\": \\\"Nombre de la característica\\\", \\\"descripcion\\\": \\\"Descripción\\\"},\\n\"\n",
        "    \"      ...\\n\"\n",
        "    \"    ]\\n\"\n",
        "    \"  },\\n\"\n",
        "    \"  ...\\n\"\n",
        "    \"]\"\n",
        ")\n",
        "\n",
        "# Estructura de contenido para el mensaje\n",
        "inputs = [\n",
        "    {\"type\": \"text\", \"text\": prompt}\n",
        "]\n",
        "\n",
        "# Agregar imágenes al contenido\n",
        "for name, img_b64 in zip(image_names, images_b64):\n",
        "    inputs.append({\n",
        "        \"type\": \"image_url\",\n",
        "        \"image_url\": {\n",
        "            \"url\": f\"data:image/jpeg;base64,{img_b64}\"\n",
        "        }\n",
        "    })\n",
        "\n",
        "# Llamar a la API\n",
        "response = openai.chat.completions.create(\n",
        "    model=\"gpt-4o\",\n",
        "    messages=[\n",
        "        {\"role\": \"system\", \"content\": \"Eres un modelo que analiza imágenes y responde en formato JSON.\"},\n",
        "        {\"role\": \"user\", \"content\": inputs}\n",
        "    ],\n",
        "    temperature=1,\n",
        "    max_tokens=1000,\n",
        ")\n",
        "\n",
        "# Imprimir respuesta\n",
        "print(response.choices[0].message.content)"
      ],
      "metadata": {
        "colab": {
          "base_uri": "https://localhost:8080/"
        },
        "id": "hsDjv_piVZ3q",
        "outputId": "a020e281-bfb7-4213-da20-ee3af0adffdf"
      },
      "id": "hsDjv_piVZ3q",
      "execution_count": null,
      "outputs": [
        {
          "output_type": "stream",
          "name": "stdout",
          "text": [
            "```json\n",
            "[\n",
            "  {\n",
            "    \"nombre_imagen\": \"golden_retriever.jpg\",\n",
            "    \"caracteristicas\": [\n",
            "      {\n",
            "        \"nombre\": \"Pelaje dorado\",\n",
            "        \"descripcion\": \"El perro tiene un pelaje largo y de color dorado que es característico de la raza.\"\n",
            "      },\n",
            "      {\n",
            "        \"nombre\": \"Expresión amigable\",\n",
            "        \"descripcion\": \"El perro muestra una expresión facial amigable con la boca abierta en lo que parece una sonrisa.\"\n",
            "      },\n",
            "      {\n",
            "        \"nombre\": \"Entorno de césped\",\n",
            "        \"descripcion\": \"El perro está recostado sobre un césped verde, lo que sugiere un entorno exterior natural.\"\n",
            "      }\n",
            "    ]\n",
            "  }\n",
            "]\n",
            "```\n"
          ]
        }
      ]
    },
    {
      "cell_type": "markdown",
      "metadata": {
        "id": "oZQ0ydvU63NR"
      },
      "source": [
        "## ¿Qué es un Framework?\n",
        "Un framework es un conjunto de herramientas, bibliotecas y convenciones de diseño que proporcionan una estructura predefinida para el desarrollo de software. Los frameworks ayudan a los desarrolladores a crear aplicaciones más rápidamente al reutilizar componentes y seguir patrones de diseño establecidos. Estos marcos son esenciales para mantener la consistencia y la eficiencia en proyectos de desarrollo complejos.\n",
        "\n",
        "### Ventajas de los Frameworks\n",
        "1. Eficiencia: Proporcionan una estructura organizada, lo que acelera el desarrollo y facilita el mantenimiento del código.\n",
        "2. Reutilización de Código: Permiten reutilizar componentes y módulos, lo que ahorra tiempo y esfuerzo.\n",
        "3. Consistencia: Promueven prácticas de codificación estandarizadas, lo que resulta en un código más legible y mantenible.\n",
        "4. Seguridad: Muchos frameworks incluyen características de seguridad integradas para proteger contra vulnerabilidades comunes.\n",
        "5. Documentación y Soporte: Suelen venir acompañados de una extensa documentación y recursos de soporte, incluyendo tutoriales y ejemplos de código.\n",
        "\n",
        "### Desventajas de los Frameworks\n",
        "1. Curva de Aprendizaje: Pueden ser complejos y requerir tiempo para aprender y dominar.\n",
        "2. Rigidez: La estructura predefinida puede limitar la flexibilidad y creatividad del desarrollador.\n",
        "3. Sobrecarga de Funciones: Pueden incluir muchas características que no se necesitan, lo que puede hacerlos más pesados.\n",
        "4. Dependencia: Usar un framework específico puede hacer que el proyecto dependa de su mantenimiento y actualizaciones futuras."
      ],
      "id": "oZQ0ydvU63NR"
    },
    {
      "cell_type": "markdown",
      "metadata": {
        "id": "CBQKngWZ63NR"
      },
      "source": [
        "# LangChain: Un Buen Framework para Aplicaciones de IA Generativa\n",
        "LangChain es el framework más utilizado para simplificar la construcción de aplicaciones de inteligencia artificial generativa, particularmente aquellas que utilizan modelos de lenguaje avanzados como GPT-4. A continuación, se detallan algunas razones por las que LangChain es una excelente opción para desarrolladores de IA:\n",
        "1. Integración Sencilla: LangChain facilita la integración de modelos de lenguaje en aplicaciones, proporcionando interfaces y herramientas que simplifican el proceso.\n",
        "2. Modularidad: Permite a los desarrolladores utilizar componentes modulares que pueden ser fácilmente combinados y reutilizados en diferentes partes de la aplicación.\n",
        "3. Optimización de Procesos: Incluye funciones específicas para optimizar el rendimiento y la eficiencia de los modelos de lenguaje, lo que es crucial para aplicaciones en tiempo real.\n",
        "4. Documentación Extensa: Ofrece una amplia documentación y ejemplos prácticos que ayudan a los desarrolladores a implementar soluciones de IA rápidamente.\n",
        " * Sitio principal: https://www.langchain.com/\n",
        " * Introducción a Langchain: https://python.langchain.com/v0.2/docs/introduction/\n",
        " * API Reference: https://api.python.langchain.com/en/latest/langchain_api_reference.html\n",
        " *\n",
        "5. Soporte Activo: La comunidad y los desarrolladores de LangChain proporcionan un soporte continuo, asegurando que el framework se mantenga actualizado con las últimas tecnologías y mejores prácticas en IA (Cursos Online) (Aprende Informática).\n",
        "LangChain destaca como un framework robusto y eficiente, ideal para aprovechar el poder de los modelos de lenguaje de manera efectiva y sin complicaciones innecesarias."
      ],
      "id": "CBQKngWZ63NR"
    },
    {
      "cell_type": "markdown",
      "source": [
        "\n",
        "Veamos algunas de sus características principales:\n",
        "\n",
        "https://python.langchain.com/v0.2/docs/introduction/"
      ],
      "metadata": {
        "id": "-V5XQfZYeKM-"
      },
      "id": "-V5XQfZYeKM-"
    },
    {
      "cell_type": "markdown",
      "source": [
        "![image.png](data:image/png;base64,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)"
      ],
      "metadata": {
        "id": "2XP8mCAseOKl"
      },
      "id": "2XP8mCAseOKl"
    },
    {
      "cell_type": "markdown",
      "source": [
        "## Usando Langchain\n",
        "\n",
        "Ahora vamos a ejecutar la misma llamada a Open AI pero usando Langchain\n"
      ],
      "metadata": {
        "id": "UJ9RN4m0a3eT"
      },
      "id": "UJ9RN4m0a3eT"
    },
    {
      "cell_type": "code",
      "source": [
        "!pip install langchain\n",
        "!pip install langchain-openai\n",
        "!pip install langchain_core\n",
        "!pip install langfuse"
      ],
      "metadata": {
        "colab": {
          "base_uri": "https://localhost:8080/"
        },
        "collapsed": true,
        "id": "dSLs5PFVNXTt",
        "outputId": "4af3ce7a-fbd8-48aa-dca8-60d0e25cd9b7"
      },
      "id": "dSLs5PFVNXTt",
      "execution_count": null,
      "outputs": [
        {
          "output_type": "stream",
          "name": "stdout",
          "text": [
            "Requirement already satisfied: langchain in /usr/local/lib/python3.11/dist-packages (0.3.25)\n",
            "Requirement already satisfied: langchain-core<1.0.0,>=0.3.58 in /usr/local/lib/python3.11/dist-packages (from langchain) (0.3.63)\n",
            "Requirement already satisfied: langchain-text-splitters<1.0.0,>=0.3.8 in /usr/local/lib/python3.11/dist-packages (from langchain) (0.3.8)\n",
            "Requirement already satisfied: langsmith<0.4,>=0.1.17 in /usr/local/lib/python3.11/dist-packages (from langchain) (0.3.44)\n",
            "Requirement already satisfied: pydantic<3.0.0,>=2.7.4 in /usr/local/lib/python3.11/dist-packages (from langchain) (2.11.5)\n",
            "Requirement already satisfied: SQLAlchemy<3,>=1.4 in /usr/local/lib/python3.11/dist-packages (from langchain) (2.0.41)\n",
            "Requirement already satisfied: requests<3,>=2 in /usr/local/lib/python3.11/dist-packages (from langchain) (2.32.3)\n",
            "Requirement already satisfied: PyYAML>=5.3 in /usr/local/lib/python3.11/dist-packages (from langchain) (6.0.2)\n",
            "Requirement already satisfied: tenacity!=8.4.0,<10.0.0,>=8.1.0 in /usr/local/lib/python3.11/dist-packages (from langchain-core<1.0.0,>=0.3.58->langchain) (9.1.2)\n",
            "Requirement already satisfied: jsonpatch<2.0,>=1.33 in /usr/local/lib/python3.11/dist-packages (from langchain-core<1.0.0,>=0.3.58->langchain) (1.33)\n",
            "Requirement already satisfied: packaging<25,>=23.2 in /usr/local/lib/python3.11/dist-packages (from langchain-core<1.0.0,>=0.3.58->langchain) (24.2)\n",
            "Requirement already satisfied: typing-extensions>=4.7 in /usr/local/lib/python3.11/dist-packages (from langchain-core<1.0.0,>=0.3.58->langchain) (4.14.0)\n",
            "Requirement already satisfied: httpx<1,>=0.23.0 in /usr/local/lib/python3.11/dist-packages (from langsmith<0.4,>=0.1.17->langchain) (0.28.1)\n",
            "Requirement already satisfied: orjson<4.0.0,>=3.9.14 in /usr/local/lib/python3.11/dist-packages (from langsmith<0.4,>=0.1.17->langchain) (3.10.18)\n",
            "Requirement already satisfied: requests-toolbelt<2.0.0,>=1.0.0 in /usr/local/lib/python3.11/dist-packages (from langsmith<0.4,>=0.1.17->langchain) (1.0.0)\n",
            "Requirement already satisfied: zstandard<0.24.0,>=0.23.0 in /usr/local/lib/python3.11/dist-packages (from langsmith<0.4,>=0.1.17->langchain) (0.23.0)\n",
            "Requirement already satisfied: annotated-types>=0.6.0 in /usr/local/lib/python3.11/dist-packages (from pydantic<3.0.0,>=2.7.4->langchain) (0.7.0)\n",
            "Requirement already satisfied: pydantic-core==2.33.2 in /usr/local/lib/python3.11/dist-packages (from pydantic<3.0.0,>=2.7.4->langchain) (2.33.2)\n",
            "Requirement already satisfied: typing-inspection>=0.4.0 in /usr/local/lib/python3.11/dist-packages (from pydantic<3.0.0,>=2.7.4->langchain) (0.4.1)\n",
            "Requirement already satisfied: charset-normalizer<4,>=2 in /usr/local/lib/python3.11/dist-packages (from requests<3,>=2->langchain) (3.4.2)\n",
            "Requirement already satisfied: idna<4,>=2.5 in /usr/local/lib/python3.11/dist-packages (from requests<3,>=2->langchain) (3.10)\n",
            "Requirement already satisfied: urllib3<3,>=1.21.1 in /usr/local/lib/python3.11/dist-packages (from requests<3,>=2->langchain) (2.4.0)\n",
            "Requirement already satisfied: certifi>=2017.4.17 in /usr/local/lib/python3.11/dist-packages (from requests<3,>=2->langchain) (2025.4.26)\n",
            "Requirement already satisfied: greenlet>=1 in /usr/local/lib/python3.11/dist-packages (from SQLAlchemy<3,>=1.4->langchain) (3.2.2)\n",
            "Requirement already satisfied: anyio in /usr/local/lib/python3.11/dist-packages (from httpx<1,>=0.23.0->langsmith<0.4,>=0.1.17->langchain) (4.9.0)\n",
            "Requirement already satisfied: httpcore==1.* in /usr/local/lib/python3.11/dist-packages (from httpx<1,>=0.23.0->langsmith<0.4,>=0.1.17->langchain) (1.0.9)\n",
            "Requirement already satisfied: h11>=0.16 in /usr/local/lib/python3.11/dist-packages (from httpcore==1.*->httpx<1,>=0.23.0->langsmith<0.4,>=0.1.17->langchain) (0.16.0)\n",
            "Requirement already satisfied: jsonpointer>=1.9 in /usr/local/lib/python3.11/dist-packages (from jsonpatch<2.0,>=1.33->langchain-core<1.0.0,>=0.3.58->langchain) (3.0.0)\n",
            "Requirement already satisfied: sniffio>=1.1 in /usr/local/lib/python3.11/dist-packages (from anyio->httpx<1,>=0.23.0->langsmith<0.4,>=0.1.17->langchain) (1.3.1)\n",
            "Collecting langchain-openai\n",
            "  Downloading langchain_openai-0.3.22-py3-none-any.whl.metadata (2.3 kB)\n",
            "Collecting langchain-core<1.0.0,>=0.3.64 (from langchain-openai)\n",
            "  Downloading langchain_core-0.3.65-py3-none-any.whl.metadata (5.8 kB)\n",
            "Requirement already satisfied: openai<2.0.0,>=1.68.2 in /usr/local/lib/python3.11/dist-packages (from langchain-openai) (1.84.0)\n",
            "Requirement already satisfied: tiktoken<1,>=0.7 in /usr/local/lib/python3.11/dist-packages (from langchain-openai) (0.9.0)\n",
            "Collecting langsmith<0.4,>=0.3.45 (from langchain-core<1.0.0,>=0.3.64->langchain-openai)\n",
            "  Downloading langsmith-0.3.45-py3-none-any.whl.metadata (15 kB)\n",
            "Requirement already satisfied: tenacity!=8.4.0,<10.0.0,>=8.1.0 in /usr/local/lib/python3.11/dist-packages (from langchain-core<1.0.0,>=0.3.64->langchain-openai) (9.1.2)\n",
            "Requirement already satisfied: jsonpatch<2.0,>=1.33 in /usr/local/lib/python3.11/dist-packages (from langchain-core<1.0.0,>=0.3.64->langchain-openai) (1.33)\n",
            "Requirement already satisfied: PyYAML>=5.3 in /usr/local/lib/python3.11/dist-packages (from langchain-core<1.0.0,>=0.3.64->langchain-openai) (6.0.2)\n",
            "Requirement already satisfied: packaging<25,>=23.2 in /usr/local/lib/python3.11/dist-packages (from langchain-core<1.0.0,>=0.3.64->langchain-openai) (24.2)\n",
            "Requirement already satisfied: typing-extensions>=4.7 in /usr/local/lib/python3.11/dist-packages (from langchain-core<1.0.0,>=0.3.64->langchain-openai) (4.14.0)\n",
            "Requirement already satisfied: pydantic>=2.7.4 in /usr/local/lib/python3.11/dist-packages (from langchain-core<1.0.0,>=0.3.64->langchain-openai) (2.11.5)\n",
            "Requirement already satisfied: anyio<5,>=3.5.0 in /usr/local/lib/python3.11/dist-packages (from openai<2.0.0,>=1.68.2->langchain-openai) (4.9.0)\n",
            "Requirement already satisfied: distro<2,>=1.7.0 in /usr/local/lib/python3.11/dist-packages (from openai<2.0.0,>=1.68.2->langchain-openai) (1.9.0)\n",
            "Requirement already satisfied: httpx<1,>=0.23.0 in /usr/local/lib/python3.11/dist-packages (from openai<2.0.0,>=1.68.2->langchain-openai) (0.28.1)\n",
            "Requirement already satisfied: jiter<1,>=0.4.0 in /usr/local/lib/python3.11/dist-packages (from openai<2.0.0,>=1.68.2->langchain-openai) (0.10.0)\n",
            "Requirement already satisfied: sniffio in /usr/local/lib/python3.11/dist-packages (from openai<2.0.0,>=1.68.2->langchain-openai) (1.3.1)\n",
            "Requirement already satisfied: tqdm>4 in /usr/local/lib/python3.11/dist-packages (from openai<2.0.0,>=1.68.2->langchain-openai) (4.67.1)\n",
            "Requirement already satisfied: regex>=2022.1.18 in /usr/local/lib/python3.11/dist-packages (from tiktoken<1,>=0.7->langchain-openai) (2024.11.6)\n",
            "Requirement already satisfied: requests>=2.26.0 in /usr/local/lib/python3.11/dist-packages (from tiktoken<1,>=0.7->langchain-openai) (2.32.3)\n",
            "Requirement already satisfied: idna>=2.8 in /usr/local/lib/python3.11/dist-packages (from anyio<5,>=3.5.0->openai<2.0.0,>=1.68.2->langchain-openai) (3.10)\n",
            "Requirement already satisfied: certifi in /usr/local/lib/python3.11/dist-packages (from httpx<1,>=0.23.0->openai<2.0.0,>=1.68.2->langchain-openai) (2025.4.26)\n",
            "Requirement already satisfied: httpcore==1.* in /usr/local/lib/python3.11/dist-packages (from httpx<1,>=0.23.0->openai<2.0.0,>=1.68.2->langchain-openai) (1.0.9)\n",
            "Requirement already satisfied: h11>=0.16 in /usr/local/lib/python3.11/dist-packages (from httpcore==1.*->httpx<1,>=0.23.0->openai<2.0.0,>=1.68.2->langchain-openai) (0.16.0)\n",
            "Requirement already satisfied: jsonpointer>=1.9 in /usr/local/lib/python3.11/dist-packages (from jsonpatch<2.0,>=1.33->langchain-core<1.0.0,>=0.3.64->langchain-openai) (3.0.0)\n",
            "Requirement already satisfied: orjson<4.0.0,>=3.9.14 in /usr/local/lib/python3.11/dist-packages (from langsmith<0.4,>=0.3.45->langchain-core<1.0.0,>=0.3.64->langchain-openai) (3.10.18)\n",
            "Requirement already satisfied: requests-toolbelt<2.0.0,>=1.0.0 in /usr/local/lib/python3.11/dist-packages (from langsmith<0.4,>=0.3.45->langchain-core<1.0.0,>=0.3.64->langchain-openai) (1.0.0)\n",
            "Requirement already satisfied: zstandard<0.24.0,>=0.23.0 in /usr/local/lib/python3.11/dist-packages (from langsmith<0.4,>=0.3.45->langchain-core<1.0.0,>=0.3.64->langchain-openai) (0.23.0)\n",
            "Requirement already satisfied: annotated-types>=0.6.0 in /usr/local/lib/python3.11/dist-packages (from pydantic>=2.7.4->langchain-core<1.0.0,>=0.3.64->langchain-openai) (0.7.0)\n",
            "Requirement already satisfied: pydantic-core==2.33.2 in /usr/local/lib/python3.11/dist-packages (from pydantic>=2.7.4->langchain-core<1.0.0,>=0.3.64->langchain-openai) (2.33.2)\n",
            "Requirement already satisfied: typing-inspection>=0.4.0 in /usr/local/lib/python3.11/dist-packages (from pydantic>=2.7.4->langchain-core<1.0.0,>=0.3.64->langchain-openai) (0.4.1)\n",
            "Requirement already satisfied: charset-normalizer<4,>=2 in /usr/local/lib/python3.11/dist-packages (from requests>=2.26.0->tiktoken<1,>=0.7->langchain-openai) (3.4.2)\n",
            "Requirement already satisfied: urllib3<3,>=1.21.1 in /usr/local/lib/python3.11/dist-packages (from requests>=2.26.0->tiktoken<1,>=0.7->langchain-openai) (2.4.0)\n",
            "Downloading langchain_openai-0.3.22-py3-none-any.whl (65 kB)\n",
            "\u001b[2K   \u001b[90m━━━━━━━━━━━━━━━━━━━━━━━━━━━━━━━━━━━━━━━━\u001b[0m \u001b[32m65.3/65.3 kB\u001b[0m \u001b[31m1.8 MB/s\u001b[0m eta \u001b[36m0:00:00\u001b[0m\n",
            "\u001b[?25hDownloading langchain_core-0.3.65-py3-none-any.whl (438 kB)\n",
            "\u001b[2K   \u001b[90m━━━━━━━━━━━━━━━━━━━━━━━━━━━━━━━━━━━━━━━━\u001b[0m \u001b[32m438.1/438.1 kB\u001b[0m \u001b[31m9.1 MB/s\u001b[0m eta \u001b[36m0:00:00\u001b[0m\n",
            "\u001b[?25hDownloading langsmith-0.3.45-py3-none-any.whl (363 kB)\n",
            "\u001b[2K   \u001b[90m━━━━━━━━━━━━━━━━━━━━━━━━━━━━━━━━━━━━━━━━\u001b[0m \u001b[32m363.0/363.0 kB\u001b[0m \u001b[31m22.1 MB/s\u001b[0m eta \u001b[36m0:00:00\u001b[0m\n",
            "\u001b[?25hInstalling collected packages: langsmith, langchain-core, langchain-openai\n",
            "  Attempting uninstall: langsmith\n",
            "    Found existing installation: langsmith 0.3.44\n",
            "    Uninstalling langsmith-0.3.44:\n",
            "      Successfully uninstalled langsmith-0.3.44\n",
            "  Attempting uninstall: langchain-core\n",
            "    Found existing installation: langchain-core 0.3.63\n",
            "    Uninstalling langchain-core-0.3.63:\n",
            "      Successfully uninstalled langchain-core-0.3.63\n",
            "Successfully installed langchain-core-0.3.65 langchain-openai-0.3.22 langsmith-0.3.45\n",
            "Requirement already satisfied: langchain_core in /usr/local/lib/python3.11/dist-packages (0.3.65)\n",
            "Requirement already satisfied: langsmith<0.4,>=0.3.45 in /usr/local/lib/python3.11/dist-packages (from langchain_core) (0.3.45)\n",
            "Requirement already satisfied: tenacity!=8.4.0,<10.0.0,>=8.1.0 in /usr/local/lib/python3.11/dist-packages (from langchain_core) (9.1.2)\n",
            "Requirement already satisfied: jsonpatch<2.0,>=1.33 in /usr/local/lib/python3.11/dist-packages (from langchain_core) (1.33)\n",
            "Requirement already satisfied: PyYAML>=5.3 in /usr/local/lib/python3.11/dist-packages (from langchain_core) (6.0.2)\n",
            "Requirement already satisfied: packaging<25,>=23.2 in /usr/local/lib/python3.11/dist-packages (from langchain_core) (24.2)\n",
            "Requirement already satisfied: typing-extensions>=4.7 in /usr/local/lib/python3.11/dist-packages (from langchain_core) (4.14.0)\n",
            "Requirement already satisfied: pydantic>=2.7.4 in /usr/local/lib/python3.11/dist-packages (from langchain_core) (2.11.5)\n",
            "Requirement already satisfied: jsonpointer>=1.9 in /usr/local/lib/python3.11/dist-packages (from jsonpatch<2.0,>=1.33->langchain_core) (3.0.0)\n",
            "Requirement already satisfied: httpx<1,>=0.23.0 in /usr/local/lib/python3.11/dist-packages (from langsmith<0.4,>=0.3.45->langchain_core) (0.28.1)\n",
            "Requirement already satisfied: orjson<4.0.0,>=3.9.14 in /usr/local/lib/python3.11/dist-packages (from langsmith<0.4,>=0.3.45->langchain_core) (3.10.18)\n",
            "Requirement already satisfied: requests<3,>=2 in /usr/local/lib/python3.11/dist-packages (from langsmith<0.4,>=0.3.45->langchain_core) (2.32.3)\n",
            "Requirement already satisfied: requests-toolbelt<2.0.0,>=1.0.0 in /usr/local/lib/python3.11/dist-packages (from langsmith<0.4,>=0.3.45->langchain_core) (1.0.0)\n",
            "Requirement already satisfied: zstandard<0.24.0,>=0.23.0 in /usr/local/lib/python3.11/dist-packages (from langsmith<0.4,>=0.3.45->langchain_core) (0.23.0)\n",
            "Requirement already satisfied: annotated-types>=0.6.0 in /usr/local/lib/python3.11/dist-packages (from pydantic>=2.7.4->langchain_core) (0.7.0)\n",
            "Requirement already satisfied: pydantic-core==2.33.2 in /usr/local/lib/python3.11/dist-packages (from pydantic>=2.7.4->langchain_core) (2.33.2)\n",
            "Requirement already satisfied: typing-inspection>=0.4.0 in /usr/local/lib/python3.11/dist-packages (from pydantic>=2.7.4->langchain_core) (0.4.1)\n",
            "Requirement already satisfied: anyio in /usr/local/lib/python3.11/dist-packages (from httpx<1,>=0.23.0->langsmith<0.4,>=0.3.45->langchain_core) (4.9.0)\n",
            "Requirement already satisfied: certifi in /usr/local/lib/python3.11/dist-packages (from httpx<1,>=0.23.0->langsmith<0.4,>=0.3.45->langchain_core) (2025.4.26)\n",
            "Requirement already satisfied: httpcore==1.* in /usr/local/lib/python3.11/dist-packages (from httpx<1,>=0.23.0->langsmith<0.4,>=0.3.45->langchain_core) (1.0.9)\n",
            "Requirement already satisfied: idna in /usr/local/lib/python3.11/dist-packages (from httpx<1,>=0.23.0->langsmith<0.4,>=0.3.45->langchain_core) (3.10)\n",
            "Requirement already satisfied: h11>=0.16 in /usr/local/lib/python3.11/dist-packages (from httpcore==1.*->httpx<1,>=0.23.0->langsmith<0.4,>=0.3.45->langchain_core) (0.16.0)\n",
            "Requirement already satisfied: charset-normalizer<4,>=2 in /usr/local/lib/python3.11/dist-packages (from requests<3,>=2->langsmith<0.4,>=0.3.45->langchain_core) (3.4.2)\n",
            "Requirement already satisfied: urllib3<3,>=1.21.1 in /usr/local/lib/python3.11/dist-packages (from requests<3,>=2->langsmith<0.4,>=0.3.45->langchain_core) (2.4.0)\n",
            "Requirement already satisfied: sniffio>=1.1 in /usr/local/lib/python3.11/dist-packages (from anyio->httpx<1,>=0.23.0->langsmith<0.4,>=0.3.45->langchain_core) (1.3.1)\n",
            "Collecting langfuse\n",
            "  Downloading langfuse-3.0.1-py3-none-any.whl.metadata (3.2 kB)\n",
            "Collecting backoff>=1.10.0 (from langfuse)\n",
            "  Downloading backoff-2.2.1-py3-none-any.whl.metadata (14 kB)\n",
            "Requirement already satisfied: httpx<1.0,>=0.15.4 in /usr/local/lib/python3.11/dist-packages (from langfuse) (0.28.1)\n",
            "Collecting opentelemetry-api<2.0.0,>=1.33.1 (from langfuse)\n",
            "  Downloading opentelemetry_api-1.34.1-py3-none-any.whl.metadata (1.5 kB)\n",
            "Collecting opentelemetry-exporter-otlp<2.0.0,>=1.33.1 (from langfuse)\n",
            "  Downloading opentelemetry_exporter_otlp-1.34.1-py3-none-any.whl.metadata (2.4 kB)\n",
            "Collecting opentelemetry-sdk<2.0.0,>=1.33.1 (from langfuse)\n",
            "  Downloading opentelemetry_sdk-1.34.1-py3-none-any.whl.metadata (1.6 kB)\n",
            "Requirement already satisfied: packaging<25.0,>=23.2 in /usr/local/lib/python3.11/dist-packages (from langfuse) (24.2)\n",
            "Requirement already satisfied: pydantic<3.0,>=1.10.7 in /usr/local/lib/python3.11/dist-packages (from langfuse) (2.11.5)\n",
            "Requirement already satisfied: requests<3,>=2 in /usr/local/lib/python3.11/dist-packages (from langfuse) (2.32.3)\n",
            "Requirement already satisfied: wrapt<2.0,>=1.14 in /usr/local/lib/python3.11/dist-packages (from langfuse) (1.17.2)\n",
            "Requirement already satisfied: anyio in /usr/local/lib/python3.11/dist-packages (from httpx<1.0,>=0.15.4->langfuse) (4.9.0)\n",
            "Requirement already satisfied: certifi in /usr/local/lib/python3.11/dist-packages (from httpx<1.0,>=0.15.4->langfuse) (2025.4.26)\n",
            "Requirement already satisfied: httpcore==1.* in /usr/local/lib/python3.11/dist-packages (from httpx<1.0,>=0.15.4->langfuse) (1.0.9)\n",
            "Requirement already satisfied: idna in /usr/local/lib/python3.11/dist-packages (from httpx<1.0,>=0.15.4->langfuse) (3.10)\n",
            "Requirement already satisfied: h11>=0.16 in /usr/local/lib/python3.11/dist-packages (from httpcore==1.*->httpx<1.0,>=0.15.4->langfuse) (0.16.0)\n",
            "Requirement already satisfied: importlib-metadata<8.8.0,>=6.0 in /usr/local/lib/python3.11/dist-packages (from opentelemetry-api<2.0.0,>=1.33.1->langfuse) (8.7.0)\n",
            "Requirement already satisfied: typing-extensions>=4.5.0 in /usr/local/lib/python3.11/dist-packages (from opentelemetry-api<2.0.0,>=1.33.1->langfuse) (4.14.0)\n",
            "Collecting opentelemetry-exporter-otlp-proto-grpc==1.34.1 (from opentelemetry-exporter-otlp<2.0.0,>=1.33.1->langfuse)\n",
            "  Downloading opentelemetry_exporter_otlp_proto_grpc-1.34.1-py3-none-any.whl.metadata (2.4 kB)\n",
            "Collecting opentelemetry-exporter-otlp-proto-http==1.34.1 (from opentelemetry-exporter-otlp<2.0.0,>=1.33.1->langfuse)\n",
            "  Downloading opentelemetry_exporter_otlp_proto_http-1.34.1-py3-none-any.whl.metadata (2.3 kB)\n",
            "Requirement already satisfied: googleapis-common-protos~=1.52 in /usr/local/lib/python3.11/dist-packages (from opentelemetry-exporter-otlp-proto-grpc==1.34.1->opentelemetry-exporter-otlp<2.0.0,>=1.33.1->langfuse) (1.70.0)\n",
            "Requirement already satisfied: grpcio<2.0.0,>=1.63.2 in /usr/local/lib/python3.11/dist-packages (from opentelemetry-exporter-otlp-proto-grpc==1.34.1->opentelemetry-exporter-otlp<2.0.0,>=1.33.1->langfuse) (1.72.1)\n",
            "Collecting opentelemetry-exporter-otlp-proto-common==1.34.1 (from opentelemetry-exporter-otlp-proto-grpc==1.34.1->opentelemetry-exporter-otlp<2.0.0,>=1.33.1->langfuse)\n",
            "  Downloading opentelemetry_exporter_otlp_proto_common-1.34.1-py3-none-any.whl.metadata (1.9 kB)\n",
            "Collecting opentelemetry-proto==1.34.1 (from opentelemetry-exporter-otlp-proto-grpc==1.34.1->opentelemetry-exporter-otlp<2.0.0,>=1.33.1->langfuse)\n",
            "  Downloading opentelemetry_proto-1.34.1-py3-none-any.whl.metadata (2.4 kB)\n",
            "Requirement already satisfied: protobuf<6.0,>=5.0 in /usr/local/lib/python3.11/dist-packages (from opentelemetry-proto==1.34.1->opentelemetry-exporter-otlp-proto-grpc==1.34.1->opentelemetry-exporter-otlp<2.0.0,>=1.33.1->langfuse) (5.29.5)\n",
            "Collecting opentelemetry-semantic-conventions==0.55b1 (from opentelemetry-sdk<2.0.0,>=1.33.1->langfuse)\n",
            "  Downloading opentelemetry_semantic_conventions-0.55b1-py3-none-any.whl.metadata (2.5 kB)\n",
            "Requirement already satisfied: annotated-types>=0.6.0 in /usr/local/lib/python3.11/dist-packages (from pydantic<3.0,>=1.10.7->langfuse) (0.7.0)\n",
            "Requirement already satisfied: pydantic-core==2.33.2 in /usr/local/lib/python3.11/dist-packages (from pydantic<3.0,>=1.10.7->langfuse) (2.33.2)\n",
            "Requirement already satisfied: typing-inspection>=0.4.0 in /usr/local/lib/python3.11/dist-packages (from pydantic<3.0,>=1.10.7->langfuse) (0.4.1)\n",
            "Requirement already satisfied: charset-normalizer<4,>=2 in /usr/local/lib/python3.11/dist-packages (from requests<3,>=2->langfuse) (3.4.2)\n",
            "Requirement already satisfied: urllib3<3,>=1.21.1 in /usr/local/lib/python3.11/dist-packages (from requests<3,>=2->langfuse) (2.4.0)\n",
            "Requirement already satisfied: zipp>=3.20 in /usr/local/lib/python3.11/dist-packages (from importlib-metadata<8.8.0,>=6.0->opentelemetry-api<2.0.0,>=1.33.1->langfuse) (3.22.0)\n",
            "Requirement already satisfied: sniffio>=1.1 in /usr/local/lib/python3.11/dist-packages (from anyio->httpx<1.0,>=0.15.4->langfuse) (1.3.1)\n",
            "Downloading langfuse-3.0.1-py3-none-any.whl (292 kB)\n",
            "\u001b[2K   \u001b[90m━━━━━━━━━━━━━━━━━━━━━━━━━━━━━━━━━━━━━━━━\u001b[0m \u001b[32m292.5/292.5 kB\u001b[0m \u001b[31m6.2 MB/s\u001b[0m eta \u001b[36m0:00:00\u001b[0m\n",
            "\u001b[?25hDownloading backoff-2.2.1-py3-none-any.whl (15 kB)\n",
            "Downloading opentelemetry_api-1.34.1-py3-none-any.whl (65 kB)\n",
            "\u001b[2K   \u001b[90m━━━━━━━━━━━━━━━━━━━━━━━━━━━━━━━━━━━━━━━━\u001b[0m \u001b[32m65.8/65.8 kB\u001b[0m \u001b[31m3.8 MB/s\u001b[0m eta \u001b[36m0:00:00\u001b[0m\n",
            "\u001b[?25hDownloading opentelemetry_exporter_otlp-1.34.1-py3-none-any.whl (7.0 kB)\n",
            "Downloading opentelemetry_exporter_otlp_proto_grpc-1.34.1-py3-none-any.whl (18 kB)\n",
            "Downloading opentelemetry_exporter_otlp_proto_http-1.34.1-py3-none-any.whl (17 kB)\n",
            "Downloading opentelemetry_exporter_otlp_proto_common-1.34.1-py3-none-any.whl (18 kB)\n",
            "Downloading opentelemetry_proto-1.34.1-py3-none-any.whl (55 kB)\n",
            "\u001b[2K   \u001b[90m━━━━━━━━━━━━━━━━━━━━━━━━━━━━━━━━━━━━━━━━\u001b[0m \u001b[32m55.7/55.7 kB\u001b[0m \u001b[31m3.7 MB/s\u001b[0m eta \u001b[36m0:00:00\u001b[0m\n",
            "\u001b[?25hDownloading opentelemetry_sdk-1.34.1-py3-none-any.whl (118 kB)\n",
            "\u001b[2K   \u001b[90m━━━━━━━━━━━━━━━━━━━━━━━━━━━━━━━━━━━━━━━━\u001b[0m \u001b[32m118.5/118.5 kB\u001b[0m \u001b[31m6.9 MB/s\u001b[0m eta \u001b[36m0:00:00\u001b[0m\n",
            "\u001b[?25hDownloading opentelemetry_semantic_conventions-0.55b1-py3-none-any.whl (196 kB)\n",
            "\u001b[2K   \u001b[90m━━━━━━━━━━━━━━━━━━━━━━━━━━━━━━━━━━━━━━━━\u001b[0m \u001b[32m196.2/196.2 kB\u001b[0m \u001b[31m13.3 MB/s\u001b[0m eta \u001b[36m0:00:00\u001b[0m\n",
            "\u001b[?25hInstalling collected packages: opentelemetry-proto, backoff, opentelemetry-exporter-otlp-proto-common, opentelemetry-api, opentelemetry-semantic-conventions, opentelemetry-sdk, opentelemetry-exporter-otlp-proto-http, opentelemetry-exporter-otlp-proto-grpc, opentelemetry-exporter-otlp, langfuse\n",
            "Successfully installed backoff-2.2.1 langfuse-3.0.1 opentelemetry-api-1.34.1 opentelemetry-exporter-otlp-1.34.1 opentelemetry-exporter-otlp-proto-common-1.34.1 opentelemetry-exporter-otlp-proto-grpc-1.34.1 opentelemetry-exporter-otlp-proto-http-1.34.1 opentelemetry-proto-1.34.1 opentelemetry-sdk-1.34.1 opentelemetry-semantic-conventions-0.55b1\n"
          ]
        }
      ]
    },
    {
      "cell_type": "code",
      "source": [
        "from langchain_openai import ChatOpenAI\n",
        "from langchain_core.messages import HumanMessage, SystemMessage\n",
        "from pprint import pprint\n",
        "\n",
        "model = ChatOpenAI(model=\"gpt-4o-mini\")\n",
        "message = model.invoke(\n",
        "    [SystemMessage(content=\"Eres un instructor del curso de IA Generativa y debes responder consultas de tus alumnos\"),\n",
        "     HumanMessage(content=\"qué es un modelo de lenguaje?\")])\n",
        "\n",
        "print(message)\n",
        "print(\"\\n\\nSolo content:\")\n",
        "pprint(message.content)\n"
      ],
      "metadata": {
        "colab": {
          "base_uri": "https://localhost:8080/"
        },
        "id": "T_iFs2K2bLvG",
        "outputId": "69b8eee8-6ac2-4c7d-c224-142a36a677c9"
      },
      "id": "T_iFs2K2bLvG",
      "execution_count": null,
      "outputs": [
        {
          "output_type": "stream",
          "name": "stdout",
          "text": [
            "content='Un modelo de lenguaje es un tipo de algoritmo de inteligencia artificial que se utiliza para comprender y generar texto. Estos modelos son entrenados en grandes cantidades de datos textuales y son capaces de predecir la próxima palabra en una oración, basándose en las palabras que las preceden. Utilizan técnicas de procesamiento del lenguaje natural (NLP) para analizar y generar lenguaje humano.\\n\\nPor ejemplo, un modelo de lenguaje puede ser usado para tareas como completar oraciones, traducir texto, responder preguntas, resumir información, entre otros. Los modelos más avanzados, como GPT-3 y sus sucesores, son capaces de mantener conversaciones coherentes y realizar tareas complejas gracias a su entrenamiento en una amplia variedad de temas y estilos de escritura.\\n\\nEn resumen, un modelo de lenguaje actúa como un \"cerebro\" que entiende y produce texto, facilitando la interacción entre humanos y máquinas. Si tienes más preguntas sobre su funcionamiento o aplicaciones específicas, ¡no dudes en preguntar!' additional_kwargs={'refusal': None} response_metadata={'token_usage': {'completion_tokens': 197, 'prompt_tokens': 35, 'total_tokens': 232, 'completion_tokens_details': {'accepted_prediction_tokens': 0, 'audio_tokens': 0, 'reasoning_tokens': 0, 'rejected_prediction_tokens': 0}, 'prompt_tokens_details': {'audio_tokens': 0, 'cached_tokens': 0}}, 'model_name': 'gpt-4o-mini-2024-07-18', 'system_fingerprint': 'fp_34a54ae93c', 'id': 'chatcmpl-BhNxaRhqRgNSK6hed3YfFCle3JL2X', 'service_tier': 'default', 'finish_reason': 'stop', 'logprobs': None} id='run--b5c3a55e-7b33-48af-9106-1a53cd8569cf-0' usage_metadata={'input_tokens': 35, 'output_tokens': 197, 'total_tokens': 232, 'input_token_details': {'audio': 0, 'cache_read': 0}, 'output_token_details': {'audio': 0, 'reasoning': 0}}\n",
            "\n",
            "\n",
            "Solo content:\n",
            "('Un modelo de lenguaje es un tipo de algoritmo de inteligencia artificial que '\n",
            " 'se utiliza para comprender y generar texto. Estos modelos son entrenados en '\n",
            " 'grandes cantidades de datos textuales y son capaces de predecir la próxima '\n",
            " 'palabra en una oración, basándose en las palabras que las preceden. Utilizan '\n",
            " 'técnicas de procesamiento del lenguaje natural (NLP) para analizar y generar '\n",
            " 'lenguaje humano.\\n'\n",
            " '\\n'\n",
            " 'Por ejemplo, un modelo de lenguaje puede ser usado para tareas como '\n",
            " 'completar oraciones, traducir texto, responder preguntas, resumir '\n",
            " 'información, entre otros. Los modelos más avanzados, como GPT-3 y sus '\n",
            " 'sucesores, son capaces de mantener conversaciones coherentes y realizar '\n",
            " 'tareas complejas gracias a su entrenamiento en una amplia variedad de temas '\n",
            " 'y estilos de escritura.\\n'\n",
            " '\\n'\n",
            " 'En resumen, un modelo de lenguaje actúa como un \"cerebro\" que entiende y '\n",
            " 'produce texto, facilitando la interacción entre humanos y máquinas. Si '\n",
            " 'tienes más preguntas sobre su funcionamiento o aplicaciones específicas, ¡no '\n",
            " 'dudes en preguntar!')\n"
          ]
        }
      ]
    },
    {
      "cell_type": "markdown",
      "metadata": {
        "id": "hgD8hp6t63NU"
      },
      "source": [
        "# Introducción a LangFuse\n",
        "LangSmith es una plataforma diseñada para facilitar la depuración, prueba, evaluación y monitoreo de aplicaciones y agentes basados en modelos de lenguaje (LLM). Aunque LangChain facilita la creación rápida de prototipos de aplicaciones LLM, llevar estas aplicaciones a producción puede ser complicado. LangFuse aborda esta dificultad proporcionando herramientas robustas para mejorar continuamente la calidad de los productos.\n",
        "\n",
        "Una alternativa que existe dentro del ecosistema LangChain es LangSmith. Sin embargo, las ventajas de LangFuse son que es de código abierto y que puede usarse tanto como servicio en la nube como desplegándose en forma local en un contenedor.\n",
        "\n",
        "Esto evita cualquier preocupación relacionada con la seguridad y privacidad de los datos, además de los costos asociados a LangSmith.\n",
        "\n",
        "## ¿Cuándo es útil LangFuse?\n",
        "- Depurar rápidamente una nueva cadena, agente o conjunto de herramientas.\n",
        "- Crear y gestionar conjuntos de datos para ajuste fino, pocas tomas (few-shot prompting) y evaluación.\n",
        "- Ejecutar pruebas de regresión para desarrollar con confianza.\n",
        "- Capturar análisis de producción para obtener información sobre el producto y realizar mejoras continuas.\n",
        "\n",
        "## Prerrequisitos\n",
        "- Crear una cuenta en LangFuse y obtener una clave API.\n",
        "\n",
        "\n",
        "\n"
      ],
      "id": "hgD8hp6t63NU"
    },
    {
      "cell_type": "code",
      "source": [
        "from google.colab import userdata\n",
        "from openai import OpenAI\n",
        "import json\n",
        "import os\n",
        "\n",
        "LANGFUSE_PUBLIC_KEY = userdata.get('LANGFUSE_PUBLIC_KEY')\n",
        "LANGFUSE_SECRET_KEY = userdata.get('LANGFUSE_SECRET_KEY')\n",
        "os.environ[\"LANGFUSE_PUBLIC_KEY\"] = LANGFUSE_PUBLIC_KEY\n",
        "os.environ[\"LANGFUSE_SECRET_KEY\"] = LANGFUSE_SECRET_KEY\n",
        "os.environ[\"LANGFUSE_HOST\"] = \"https://cloud.langfuse.com\"\n",
        "os.environ[\"OPENAI_API_KEY\"] = userdata.get(\"OPENAI_API_KEY\")\n",
        "\n"
      ],
      "metadata": {
        "id": "-Ef52P3XfWPR"
      },
      "id": "-Ef52P3XfWPR",
      "execution_count": null,
      "outputs": []
    },
    {
      "cell_type": "code",
      "source": [
        "from langfuse.langchain import CallbackHandler\n",
        "from langchain_openai import ChatOpenAI\n",
        "from langchain_core.messages import HumanMessage, SystemMessage\n",
        "\n",
        "# Initialize LangFuse CallbackHandler\n",
        "langfuse_handler = CallbackHandler()\n",
        "\n",
        "# Initialize ChatOpenAI model\n",
        "model = ChatOpenAI(model=\"gpt-4o-mini\")\n",
        "\n",
        "# Invoke the model with LangFuse tracing\n",
        "response = model.invoke(\n",
        "    [\n",
        "        SystemMessage(content=\"Eres un instructor del curso de IA Generativa y debes responder consultas de tus alumnos\"),\n",
        "        HumanMessage(content=\"¿Qué es un modelo de lenguaje?\")\n",
        "    ],\n",
        "    config={\"callbacks\": [langfuse_handler]}\n",
        ")\n",
        "\n",
        "pprint(response.content)"
      ],
      "metadata": {
        "colab": {
          "base_uri": "https://localhost:8080/"
        },
        "id": "OKoRCqS1SNkz",
        "outputId": "d60951e1-df8b-49d9-f1f5-d7db17a0af91"
      },
      "id": "OKoRCqS1SNkz",
      "execution_count": null,
      "outputs": [
        {
          "output_type": "stream",
          "name": "stdout",
          "text": [
            "('Un modelo de lenguaje es un tipo de modelo de inteligencia artificial que se '\n",
            " 'utiliza para comprender y generar texto de manera coherente en un lenguaje '\n",
            " 'humano. Estos modelos se entrenan utilizando grandes volúmenes de datos '\n",
            " 'textuales y aprenden a predecir la probabilidad de ocurrencia de una palabra '\n",
            " 'o secuencia de palabras en función del contexto que las rodea.\\n'\n",
            " '\\n'\n",
            " 'Los modelos de lenguaje pueden realizar diversas tareas, como:\\n'\n",
            " '\\n'\n",
            " '1. **Generación de texto**: Pueden crear contenido original, como artículos, '\n",
            " 'cuentos o diálogos.\\n'\n",
            " '2. **Traducción automática**: Proporcionan traducciones de texto de un '\n",
            " 'idioma a otro.\\n'\n",
            " '3. **Respuestas a preguntas**: Pueden responder preguntas basándose en el '\n",
            " 'contenido que han aprendido.\\n'\n",
            " '4. **Análisis de sentimiento**: Ayudan a determinar la emoción o la opinión '\n",
            " 'expresada en un texto.\\n'\n",
            " '5. **Completa oraciones**: Pueden sugerir continuaciones para frase o '\n",
            " 'párrafos.\\n'\n",
            " '\\n'\n",
            " 'Existen diferentes tipos de modelos de lenguaje, desde los más simples, que '\n",
            " 'se basan en reglas o estadísticas, hasta los más avanzados, como los basados '\n",
            " 'en arquitecturas de redes neuronales profundas, por ejemplo, los modelos de '\n",
            " 'Transformadores como GPT (Generative Pre-trained Transformer). Estos últimos '\n",
            " 'han demostrado ser muy efectivos en tareas que requieren comprensión y '\n",
            " 'generación de lenguaje natural de alta calidad.')\n"
          ]
        }
      ]
    },
    {
      "cell_type": "markdown",
      "metadata": {
        "id": "MzQBoeXK63NS"
      },
      "source": [
        "# Chat Models vs. Large Language Models (LLMs)\n",
        "## Concepto General:\n",
        "1. Modelos de Lenguaje Grande (LLMs): Los LLMs son modelos de inteligencia artificial diseñados para comprender y generar texto humano. Están entrenados con enormes cantidades de datos textuales y pueden realizar una amplia gama de tareas como redacción, resumen, traducción y generación de código. Su enfoque principal es generar texto coherente y contextualmente relevante a partir de una entrada dada, sin una especialización en la interacción continua.\n",
        "\n",
        "2. Modelos de Chat: Los modelos de chat son una subcategoría de LLMs optimizados específicamente para tareas conversacionales. Estos modelos están entrenados para simular interacciones humanas en formato de chat, enfocándose en generar respuestas que no solo sean correctas, sino también oportunas y conversacionales.\n",
        "\n",
        "Originalmente OpenAI ofrecía un modelo LLM y otro modelo de tipo Chat, pero desde hace un tiempo solo le dan mantenimiento al segundo: https://platform.openai.com/docs/guides/text-generation/chat-completions-vs-completions\n",
        "\n",
        "\n"
      ],
      "id": "MzQBoeXK63NS"
    },
    {
      "cell_type": "markdown",
      "source": [],
      "metadata": {
        "id": "cfWO2h_Yx4Fd"
      },
      "id": "cfWO2h_Yx4Fd"
    },
    {
      "cell_type": "markdown",
      "metadata": {
        "id": "2c9xqkoS63NS"
      },
      "source": [
        "# Prompt Templates en LangChain\n",
        "\n",
        "**Concepto**: Los 'prompt templates' (plantillas de prompts) en LangChain son estructuras predefinidas que se utilizan para estandarizar las solicitudes enviadas a los LLMs. Estas plantillas ayudan a asegurar que las entradas a los modelos sean coherentes y efectivas, mejorando la calidad de las respuestas generadas.\n",
        "\n",
        "https://python.langchain.com/v0.2/docs/concepts/#prompt-templates\n",
        "\n",
        "**Importancia**: Las plantillas de prompts son importantes porque ayudan a mantener consistencia en cómo se formulan las solicitudes a los LLMs. Esto es esencial para obtener respuestas precisas y relevantes, especialmente cuando se manejan grandes volúmenes de datos o se integran múltiples componentes en una aplicación. Las plantillas permiten generar prompts dinámicamente al llenar variables de la plantilla con valores específicos en tiempo de ejecución, en lugar de tener que estar concatenando strings para generar los prompts cada vez.\n",
        "\n",
        "**Uso**: A continuación, se muestra cómo definir y usar una plantilla de prompt en LangChain, y cómo integrarla en una cadena."
      ],
      "id": "2c9xqkoS63NS"
    },
    {
      "cell_type": "code",
      "execution_count": null,
      "metadata": {
        "id": "puFWsacF63NS",
        "colab": {
          "base_uri": "https://localhost:8080/"
        },
        "outputId": "c6c32dcc-105c-4b2c-e942-7a09ea49cdf0"
      },
      "outputs": [
        {
          "output_type": "stream",
          "name": "stdout",
          "text": [
            "Como un asistente de IA, responderás preguntas de acuerdo con el siguiente contexto: \n",
            "'''Fecha: 6 de noviembre de 2024\n",
            "Hora: 10:00 AM - 11:00 AM\n",
            "Lugar: Sala de Conferencias, Oficina Principal\n",
            "Asistentes:\n",
            "\n",
            "\t•\tJuan Pérez (Desarrollador)\n",
            "\t•\tAna Gómez (Diseñadora UX)\n",
            "\t•\tLuis Torres (Gerente de Proyecto)\n",
            "\n",
            "Agenda:\n",
            "\n",
            "\t1.\tRevisión del estado actual del proyecto de la app de ecommerce.\n",
            "\t2.\tDiscusión sobre los próximos pasos y asignación de tareas.\n",
            "\t3.\tResolución de problemas y obstáculos.\n",
            "\n",
            "1. Revisión del estado actual:\n",
            "\n",
            "\t•\tJuan: Informó que se ha completado el desarrollo del módulo de autenticación de usuarios. Está funcionando correctamente en el entorno de pruebas.\n",
            "\t•\tAna: Mencionó que la interfaz de usuario para la página de inicio ha sido diseñada y enviada para revisión. La retroalimentación inicial ha sido positiva.\n",
            "\t•\tLuis: Confirmó que el sistema de gestión de productos está en desarrollo y se espera que esté listo para pruebas en dos semanas.\n",
            "\n",
            "2. Próximos pasos:\n",
            "\n",
            "\t•\tJuan: Continuará trabajando en la integración del sistema de pago. Se estima que estará listo para la próxima reunión.\n",
            "\t•\tAna: Se encargará de ajustar la interfaz de usuario según la retroalimentación recibida y comenzará a trabajar en la sección de carrito de compras.\n",
            "\t•\tLuis: Coordinará una reunión con el equipo de marketing para discutir estrategias de lanzamiento y la necesidad de contenido visual adicional.\n",
            "\n",
            "3. Problemas y obstáculos:\n",
            "\n",
            "\t•\tJuan: Reportó un problema menor con la API de envío. Se comunicará con el proveedor para resolverlo.\n",
            "\t•\tAna: Necesita aclaraciones sobre los requisitos de accesibilidad para la app. Luis se ofrecerá para investigar y proporcionar directrices.\n",
            "\t•\tLuis: Aseguró que se está gestionando el presupuesto y se están monitoreando los gastos del proyecto para evitar desviaciones.\n",
            "\n",
            "Acciones a seguir:\n",
            "\n",
            "\t•\tJuan: Continuar con la integración del sistema de pago y resolver el problema con la API de envío.\n",
            "\t•\tAna: Ajustar la interfaz de usuario y empezar el diseño del carrito de compras.\n",
            "\t•\tLuis: Investigar sobre los requisitos de accesibilidad y coordinar la reunión con marketing.\n",
            "\n",
            "Próxima reunión: 13 de noviembre de 2024, a las 10:00 AM.'''. \n",
            "Pregunta: '''¿Cuáles fueron las acciones definidas para tomar? Enumera cada una en forma separada, describiendo la acción y qué persona quedó como responsable.'''\n"
          ]
        }
      ],
      "source": [
        "from langchain_core.prompts import PromptTemplate\n",
        "from langchain.chains import LLMChain\n",
        "\n",
        "\n",
        "# Crear una plantilla de prompt\n",
        "prompt_template = PromptTemplate(\n",
        "    template=\"Como un asistente de IA, responderás preguntas de acuerdo con el siguiente contexto: \\n'''{context}'''. \\nPregunta: '''{question}'''\",\n",
        "    input_variables=['context', 'question']\n",
        ")\n",
        "\n",
        "# Ejemplo de uso del template\n",
        "pregunta = '¿Cuáles fueron las acciones definidas para tomar? Enumera cada una en forma separada, describiendo la acción y qué persona quedó como responsable.'\n",
        "# Leer la minuta desde el archivo\n",
        "with open('Minuta reunion.txt', 'r', encoding='utf-8') as file:\n",
        "    # Leer el contenido del archivo\n",
        "    minuta = file.read()\n",
        "\n",
        "prompt = prompt_template.format(context=minuta, question=pregunta)\n",
        "print(prompt)\n",
        "\n"
      ],
      "id": "puFWsacF63NS"
    },
    {
      "cell_type": "code",
      "source": [
        "from pydantic import BaseModel, Field\n",
        "from typing import List\n",
        "import json\n",
        "\n",
        "class EntradaMinuta(BaseModel):\n",
        "    tema: str = Field(description=\"La descripción del tema\")\n",
        "    persona: str = Field(description=\"La persona responsable\")\n",
        "\n",
        "\n",
        "class Minuta(BaseModel):\n",
        "    entradas: List[EntradaMinuta] = Field(description=\"Lista de entradas individuales de la minuta\")\n",
        "\n",
        "\n",
        "# Ejemplo de integración con LangChain\n",
        "from langchain_openai import ChatOpenAI\n",
        "\n",
        "llm = ChatOpenAI(model=\"gpt-4o\")\n",
        "\n",
        "# Aquí tu `prompt_template` ya debe estar definido\n",
        "\n",
        "# Crear una cadena con output estructurado en la clase padre\n",
        "chain = prompt_template | llm.with_structured_output(Minuta)\n",
        "\n",
        "response = chain.invoke({'context': minuta, 'question': pregunta})\n",
        "\n",
        "print(response)\n",
        "print(json.dumps(response.model_dump(), indent=4, ensure_ascii=False))"
      ],
      "metadata": {
        "id": "0-eD8ZeVA_64",
        "colab": {
          "base_uri": "https://localhost:8080/"
        },
        "outputId": "c9872809-194d-42df-d604-f3d58d8e1c42"
      },
      "id": "0-eD8ZeVA_64",
      "execution_count": null,
      "outputs": [
        {
          "output_type": "stream",
          "name": "stdout",
          "text": [
            "entradas=[EntradaMinuta(tema='Integración del sistema de pago y resolución de la API de envío', persona='Juan Pérez'), EntradaMinuta(tema='Ajuste de la interfaz de usuario y diseño del carrito de compras', persona='Ana Gómez'), EntradaMinuta(tema='Investigación sobre los requisitos de accesibilidad y coordinación de la reunión con marketing', persona='Luis Torres')]\n",
            "{\n",
            "    \"entradas\": [\n",
            "        {\n",
            "            \"tema\": \"Integración del sistema de pago y resolución de la API de envío\",\n",
            "            \"persona\": \"Juan Pérez\"\n",
            "        },\n",
            "        {\n",
            "            \"tema\": \"Ajuste de la interfaz de usuario y diseño del carrito de compras\",\n",
            "            \"persona\": \"Ana Gómez\"\n",
            "        },\n",
            "        {\n",
            "            \"tema\": \"Investigación sobre los requisitos de accesibilidad y coordinación de la reunión con marketing\",\n",
            "            \"persona\": \"Luis Torres\"\n",
            "        }\n",
            "    ]\n",
            "}\n"
          ]
        }
      ]
    },
    {
      "cell_type": "code",
      "source": [
        "pregunta = \"¿Cuáles fueron los temas discutidos durante la reunión? Describe brevemente el tema y qué persona fue la primera en mencionarlo.\"\n",
        "response = chain.invoke({'context': minuta, 'question': pregunta})\n",
        "\n",
        "print(response)\n",
        "print(json.dumps(response.model_dump(), indent=4, ensure_ascii=False))"
      ],
      "metadata": {
        "colab": {
          "base_uri": "https://localhost:8080/"
        },
        "id": "RoeNzmML3YGY",
        "outputId": "b0ce571f-405c-4188-ce0d-0876db07db05"
      },
      "id": "RoeNzmML3YGY",
      "execution_count": null,
      "outputs": [
        {
          "output_type": "stream",
          "name": "stdout",
          "text": [
            "entradas=[EntradaMinuta(tema='Revisión del estado actual del proyecto de la app de ecommerce', persona='Juan Pérez'), EntradaMinuta(tema='Discusión sobre los próximos pasos y asignación de tareas', persona='Juan Pérez'), EntradaMinuta(tema='Resolución de problemas y obstáculos', persona='Juan Pérez')]\n",
            "{\n",
            "    \"entradas\": [\n",
            "        {\n",
            "            \"tema\": \"Revisión del estado actual del proyecto de la app de ecommerce\",\n",
            "            \"persona\": \"Juan Pérez\"\n",
            "        },\n",
            "        {\n",
            "            \"tema\": \"Discusión sobre los próximos pasos y asignación de tareas\",\n",
            "            \"persona\": \"Juan Pérez\"\n",
            "        },\n",
            "        {\n",
            "            \"tema\": \"Resolución de problemas y obstáculos\",\n",
            "            \"persona\": \"Juan Pérez\"\n",
            "        }\n",
            "    ]\n",
            "}\n"
          ]
        }
      ]
    },
    {
      "cell_type": "markdown",
      "source": [
        "#Ejercicio grupal 2\n",
        "\n",
        "Para este ejercicio tendremos 30 minutos para su resolución y luego 10 para aclarar dudas entre todos los grupos.\n",
        "\n",
        "Crearemos una rutina que lea preguntas, desde un archivo Excel y las deje contestadas en el mismo archivo. Para ello deberán crear un Excel que contengan 10 preguntas como mínimo (pueden crearlas con ChatGPT), subirlo al espacio de archivos de Google Colab y leerlo con la bilioteca pandas.\n",
        "\n",
        "Deben cumplir con los siguientes puntos:\n",
        "\n",
        "*   Utilizar langchain para llamar a OpenAI\n",
        "*   Usar Prompt Templates para no repetir las instrucciones\n",
        "*   Revisar en LangsFuse los llamados hechos y las respuestas\n",
        "\n",
        "\n",
        "A continuación un bloque de código de ayuda, que lee un excel, le cambia la celda A1 y lo graba con otro nombre:"
      ],
      "metadata": {
        "id": "8adpSYAOlxxx"
      },
      "id": "8adpSYAOlxxx"
    },
    {
      "cell_type": "code",
      "source": [
        "import pandas as pd\n",
        "\n",
        "# Abrir el archivo\n",
        "file_path = './Preguntas y respuestas.xlsx'\n",
        "df = pd.read_excel(file_path, header=None)\n",
        "\n",
        "df.head()\n"
      ],
      "metadata": {
        "id": "bxvkcsmHn1f_",
        "colab": {
          "base_uri": "https://localhost:8080/",
          "height": 206
        },
        "outputId": "2bc111fe-5b20-4b1e-f27f-d1405d17eab0"
      },
      "id": "bxvkcsmHn1f_",
      "execution_count": null,
      "outputs": [
        {
          "output_type": "execute_result",
          "data": {
            "text/plain": [
              "                                                   0          1\n",
              "0                                           PREGUNTA  RESPUESTA\n",
              "1           ¿Cuál es la identidad secreta de Batman?        NaN\n",
              "2                 ¿Cómo obtuvo Superman sus poderes?        NaN\n",
              "3      ¿Cuál es el verdadero nombre de Wonder Woman?        NaN\n",
              "4  ¿En qué ciudad opera Green Lantern principalme...        NaN"
            ],
            "text/html": [
              "\n",
              "  <div id=\"df-06428e2b-b3e8-4f64-86e9-c305323dabd1\" class=\"colab-df-container\">\n",
              "    <div>\n",
              "<style scoped>\n",
              "    .dataframe tbody tr th:only-of-type {\n",
              "        vertical-align: middle;\n",
              "    }\n",
              "\n",
              "    .dataframe tbody tr th {\n",
              "        vertical-align: top;\n",
              "    }\n",
              "\n",
              "    .dataframe thead th {\n",
              "        text-align: right;\n",
              "    }\n",
              "</style>\n",
              "<table border=\"1\" class=\"dataframe\">\n",
              "  <thead>\n",
              "    <tr style=\"text-align: right;\">\n",
              "      <th></th>\n",
              "      <th>0</th>\n",
              "      <th>1</th>\n",
              "    </tr>\n",
              "  </thead>\n",
              "  <tbody>\n",
              "    <tr>\n",
              "      <th>0</th>\n",
              "      <td>PREGUNTA</td>\n",
              "      <td>RESPUESTA</td>\n",
              "    </tr>\n",
              "    <tr>\n",
              "      <th>1</th>\n",
              "      <td>¿Cuál es la identidad secreta de Batman?</td>\n",
              "      <td>NaN</td>\n",
              "    </tr>\n",
              "    <tr>\n",
              "      <th>2</th>\n",
              "      <td>¿Cómo obtuvo Superman sus poderes?</td>\n",
              "      <td>NaN</td>\n",
              "    </tr>\n",
              "    <tr>\n",
              "      <th>3</th>\n",
              "      <td>¿Cuál es el verdadero nombre de Wonder Woman?</td>\n",
              "      <td>NaN</td>\n",
              "    </tr>\n",
              "    <tr>\n",
              "      <th>4</th>\n",
              "      <td>¿En qué ciudad opera Green Lantern principalme...</td>\n",
              "      <td>NaN</td>\n",
              "    </tr>\n",
              "  </tbody>\n",
              "</table>\n",
              "</div>\n",
              "    <div class=\"colab-df-buttons\">\n",
              "\n",
              "  <div class=\"colab-df-container\">\n",
              "    <button class=\"colab-df-convert\" onclick=\"convertToInteractive('df-06428e2b-b3e8-4f64-86e9-c305323dabd1')\"\n",
              "            title=\"Convert this dataframe to an interactive table.\"\n",
              "            style=\"display:none;\">\n",
              "\n",
              "  <svg xmlns=\"http://www.w3.org/2000/svg\" height=\"24px\" viewBox=\"0 -960 960 960\">\n",
              "    <path d=\"M120-120v-720h720v720H120Zm60-500h600v-160H180v160Zm220 220h160v-160H400v160Zm0 220h160v-160H400v160ZM180-400h160v-160H180v160Zm440 0h160v-160H620v160ZM180-180h160v-160H180v160Zm440 0h160v-160H620v160Z\"/>\n",
              "  </svg>\n",
              "    </button>\n",
              "\n",
              "  <style>\n",
              "    .colab-df-container {\n",
              "      display:flex;\n",
              "      gap: 12px;\n",
              "    }\n",
              "\n",
              "    .colab-df-convert {\n",
              "      background-color: #E8F0FE;\n",
              "      border: none;\n",
              "      border-radius: 50%;\n",
              "      cursor: pointer;\n",
              "      display: none;\n",
              "      fill: #1967D2;\n",
              "      height: 32px;\n",
              "      padding: 0 0 0 0;\n",
              "      width: 32px;\n",
              "    }\n",
              "\n",
              "    .colab-df-convert:hover {\n",
              "      background-color: #E2EBFA;\n",
              "      box-shadow: 0px 1px 2px rgba(60, 64, 67, 0.3), 0px 1px 3px 1px rgba(60, 64, 67, 0.15);\n",
              "      fill: #174EA6;\n",
              "    }\n",
              "\n",
              "    .colab-df-buttons div {\n",
              "      margin-bottom: 4px;\n",
              "    }\n",
              "\n",
              "    [theme=dark] .colab-df-convert {\n",
              "      background-color: #3B4455;\n",
              "      fill: #D2E3FC;\n",
              "    }\n",
              "\n",
              "    [theme=dark] .colab-df-convert:hover {\n",
              "      background-color: #434B5C;\n",
              "      box-shadow: 0px 1px 3px 1px rgba(0, 0, 0, 0.15);\n",
              "      filter: drop-shadow(0px 1px 2px rgba(0, 0, 0, 0.3));\n",
              "      fill: #FFFFFF;\n",
              "    }\n",
              "  </style>\n",
              "\n",
              "    <script>\n",
              "      const buttonEl =\n",
              "        document.querySelector('#df-06428e2b-b3e8-4f64-86e9-c305323dabd1 button.colab-df-convert');\n",
              "      buttonEl.style.display =\n",
              "        google.colab.kernel.accessAllowed ? 'block' : 'none';\n",
              "\n",
              "      async function convertToInteractive(key) {\n",
              "        const element = document.querySelector('#df-06428e2b-b3e8-4f64-86e9-c305323dabd1');\n",
              "        const dataTable =\n",
              "          await google.colab.kernel.invokeFunction('convertToInteractive',\n",
              "                                                    [key], {});\n",
              "        if (!dataTable) return;\n",
              "\n",
              "        const docLinkHtml = 'Like what you see? Visit the ' +\n",
              "          '<a target=\"_blank\" href=https://colab.research.google.com/notebooks/data_table.ipynb>data table notebook</a>'\n",
              "          + ' to learn more about interactive tables.';\n",
              "        element.innerHTML = '';\n",
              "        dataTable['output_type'] = 'display_data';\n",
              "        await google.colab.output.renderOutput(dataTable, element);\n",
              "        const docLink = document.createElement('div');\n",
              "        docLink.innerHTML = docLinkHtml;\n",
              "        element.appendChild(docLink);\n",
              "      }\n",
              "    </script>\n",
              "  </div>\n",
              "\n",
              "\n",
              "    <div id=\"df-04fa9e90-1e30-4c9b-bdd2-cf81bcf134d2\">\n",
              "      <button class=\"colab-df-quickchart\" onclick=\"quickchart('df-04fa9e90-1e30-4c9b-bdd2-cf81bcf134d2')\"\n",
              "                title=\"Suggest charts\"\n",
              "                style=\"display:none;\">\n",
              "\n",
              "<svg xmlns=\"http://www.w3.org/2000/svg\" height=\"24px\"viewBox=\"0 0 24 24\"\n",
              "     width=\"24px\">\n",
              "    <g>\n",
              "        <path d=\"M19 3H5c-1.1 0-2 .9-2 2v14c0 1.1.9 2 2 2h14c1.1 0 2-.9 2-2V5c0-1.1-.9-2-2-2zM9 17H7v-7h2v7zm4 0h-2V7h2v10zm4 0h-2v-4h2v4z\"/>\n",
              "    </g>\n",
              "</svg>\n",
              "      </button>\n",
              "\n",
              "<style>\n",
              "  .colab-df-quickchart {\n",
              "      --bg-color: #E8F0FE;\n",
              "      --fill-color: #1967D2;\n",
              "      --hover-bg-color: #E2EBFA;\n",
              "      --hover-fill-color: #174EA6;\n",
              "      --disabled-fill-color: #AAA;\n",
              "      --disabled-bg-color: #DDD;\n",
              "  }\n",
              "\n",
              "  [theme=dark] .colab-df-quickchart {\n",
              "      --bg-color: #3B4455;\n",
              "      --fill-color: #D2E3FC;\n",
              "      --hover-bg-color: #434B5C;\n",
              "      --hover-fill-color: #FFFFFF;\n",
              "      --disabled-bg-color: #3B4455;\n",
              "      --disabled-fill-color: #666;\n",
              "  }\n",
              "\n",
              "  .colab-df-quickchart {\n",
              "    background-color: var(--bg-color);\n",
              "    border: none;\n",
              "    border-radius: 50%;\n",
              "    cursor: pointer;\n",
              "    display: none;\n",
              "    fill: var(--fill-color);\n",
              "    height: 32px;\n",
              "    padding: 0;\n",
              "    width: 32px;\n",
              "  }\n",
              "\n",
              "  .colab-df-quickchart:hover {\n",
              "    background-color: var(--hover-bg-color);\n",
              "    box-shadow: 0 1px 2px rgba(60, 64, 67, 0.3), 0 1px 3px 1px rgba(60, 64, 67, 0.15);\n",
              "    fill: var(--button-hover-fill-color);\n",
              "  }\n",
              "\n",
              "  .colab-df-quickchart-complete:disabled,\n",
              "  .colab-df-quickchart-complete:disabled:hover {\n",
              "    background-color: var(--disabled-bg-color);\n",
              "    fill: var(--disabled-fill-color);\n",
              "    box-shadow: none;\n",
              "  }\n",
              "\n",
              "  .colab-df-spinner {\n",
              "    border: 2px solid var(--fill-color);\n",
              "    border-color: transparent;\n",
              "    border-bottom-color: var(--fill-color);\n",
              "    animation:\n",
              "      spin 1s steps(1) infinite;\n",
              "  }\n",
              "\n",
              "  @keyframes spin {\n",
              "    0% {\n",
              "      border-color: transparent;\n",
              "      border-bottom-color: var(--fill-color);\n",
              "      border-left-color: var(--fill-color);\n",
              "    }\n",
              "    20% {\n",
              "      border-color: transparent;\n",
              "      border-left-color: var(--fill-color);\n",
              "      border-top-color: var(--fill-color);\n",
              "    }\n",
              "    30% {\n",
              "      border-color: transparent;\n",
              "      border-left-color: var(--fill-color);\n",
              "      border-top-color: var(--fill-color);\n",
              "      border-right-color: var(--fill-color);\n",
              "    }\n",
              "    40% {\n",
              "      border-color: transparent;\n",
              "      border-right-color: var(--fill-color);\n",
              "      border-top-color: var(--fill-color);\n",
              "    }\n",
              "    60% {\n",
              "      border-color: transparent;\n",
              "      border-right-color: var(--fill-color);\n",
              "    }\n",
              "    80% {\n",
              "      border-color: transparent;\n",
              "      border-right-color: var(--fill-color);\n",
              "      border-bottom-color: var(--fill-color);\n",
              "    }\n",
              "    90% {\n",
              "      border-color: transparent;\n",
              "      border-bottom-color: var(--fill-color);\n",
              "    }\n",
              "  }\n",
              "</style>\n",
              "\n",
              "      <script>\n",
              "        async function quickchart(key) {\n",
              "          const quickchartButtonEl =\n",
              "            document.querySelector('#' + key + ' button');\n",
              "          quickchartButtonEl.disabled = true;  // To prevent multiple clicks.\n",
              "          quickchartButtonEl.classList.add('colab-df-spinner');\n",
              "          try {\n",
              "            const charts = await google.colab.kernel.invokeFunction(\n",
              "                'suggestCharts', [key], {});\n",
              "          } catch (error) {\n",
              "            console.error('Error during call to suggestCharts:', error);\n",
              "          }\n",
              "          quickchartButtonEl.classList.remove('colab-df-spinner');\n",
              "          quickchartButtonEl.classList.add('colab-df-quickchart-complete');\n",
              "        }\n",
              "        (() => {\n",
              "          let quickchartButtonEl =\n",
              "            document.querySelector('#df-04fa9e90-1e30-4c9b-bdd2-cf81bcf134d2 button');\n",
              "          quickchartButtonEl.style.display =\n",
              "            google.colab.kernel.accessAllowed ? 'block' : 'none';\n",
              "        })();\n",
              "      </script>\n",
              "    </div>\n",
              "\n",
              "    </div>\n",
              "  </div>\n"
            ],
            "application/vnd.google.colaboratory.intrinsic+json": {
              "type": "dataframe",
              "variable_name": "df",
              "summary": "{\n  \"name\": \"df\",\n  \"rows\": 11,\n  \"fields\": [\n    {\n      \"column\": 0,\n      \"properties\": {\n        \"dtype\": \"string\",\n        \"num_unique_values\": 11,\n        \"samples\": [\n          \"\\u00bfQu\\u00e9 villano de DC es conocido como el \\\"Pr\\u00edncipe Payaso del Crimen\\\"?\",\n          \"PREGUNTA\",\n          \"\\u00bfQu\\u00e9 superhero\\u00edna de DC es conocida por su lazo de la verdad?\"\n        ],\n        \"semantic_type\": \"\",\n        \"description\": \"\"\n      }\n    },\n    {\n      \"column\": 1,\n      \"properties\": {\n        \"dtype\": \"category\",\n        \"num_unique_values\": 1,\n        \"samples\": [\n          \"RESPUESTA\"\n        ],\n        \"semantic_type\": \"\",\n        \"description\": \"\"\n      }\n    }\n  ]\n}"
            }
          },
          "metadata": {},
          "execution_count": 6
        }
      ]
    },
    {
      "cell_type": "code",
      "source": [
        "\n",
        "# Sobreescribir el valor de la celda A1\n",
        "df.iloc[0, 0] = \"SUPER PREGUNTA\"\n",
        "\n",
        "# Grabar el archivo\n",
        "output_file_path = './Preguntas con respuestas.xlsx'\n",
        "df.to_excel(output_file_path, index=False)\n",
        "\n",
        "df.head()"
      ],
      "metadata": {
        "id": "F5cMoAy1pi6C",
        "colab": {
          "base_uri": "https://localhost:8080/",
          "height": 206
        },
        "outputId": "341cda09-b261-4322-a439-16d373199947"
      },
      "id": "F5cMoAy1pi6C",
      "execution_count": null,
      "outputs": [
        {
          "output_type": "execute_result",
          "data": {
            "text/plain": [
              "                                                   0          1\n",
              "0                                     SUPER PREGUNTA  RESPUESTA\n",
              "1           ¿Cuál es la identidad secreta de Batman?        NaN\n",
              "2                 ¿Cómo obtuvo Superman sus poderes?        NaN\n",
              "3      ¿Cuál es el verdadero nombre de Wonder Woman?        NaN\n",
              "4  ¿En qué ciudad opera Green Lantern principalme...        NaN"
            ],
            "text/html": [
              "\n",
              "  <div id=\"df-d27d3063-6831-4719-ae2a-ce4f7150a7e1\" class=\"colab-df-container\">\n",
              "    <div>\n",
              "<style scoped>\n",
              "    .dataframe tbody tr th:only-of-type {\n",
              "        vertical-align: middle;\n",
              "    }\n",
              "\n",
              "    .dataframe tbody tr th {\n",
              "        vertical-align: top;\n",
              "    }\n",
              "\n",
              "    .dataframe thead th {\n",
              "        text-align: right;\n",
              "    }\n",
              "</style>\n",
              "<table border=\"1\" class=\"dataframe\">\n",
              "  <thead>\n",
              "    <tr style=\"text-align: right;\">\n",
              "      <th></th>\n",
              "      <th>0</th>\n",
              "      <th>1</th>\n",
              "    </tr>\n",
              "  </thead>\n",
              "  <tbody>\n",
              "    <tr>\n",
              "      <th>0</th>\n",
              "      <td>SUPER PREGUNTA</td>\n",
              "      <td>RESPUESTA</td>\n",
              "    </tr>\n",
              "    <tr>\n",
              "      <th>1</th>\n",
              "      <td>¿Cuál es la identidad secreta de Batman?</td>\n",
              "      <td>NaN</td>\n",
              "    </tr>\n",
              "    <tr>\n",
              "      <th>2</th>\n",
              "      <td>¿Cómo obtuvo Superman sus poderes?</td>\n",
              "      <td>NaN</td>\n",
              "    </tr>\n",
              "    <tr>\n",
              "      <th>3</th>\n",
              "      <td>¿Cuál es el verdadero nombre de Wonder Woman?</td>\n",
              "      <td>NaN</td>\n",
              "    </tr>\n",
              "    <tr>\n",
              "      <th>4</th>\n",
              "      <td>¿En qué ciudad opera Green Lantern principalme...</td>\n",
              "      <td>NaN</td>\n",
              "    </tr>\n",
              "  </tbody>\n",
              "</table>\n",
              "</div>\n",
              "    <div class=\"colab-df-buttons\">\n",
              "\n",
              "  <div class=\"colab-df-container\">\n",
              "    <button class=\"colab-df-convert\" onclick=\"convertToInteractive('df-d27d3063-6831-4719-ae2a-ce4f7150a7e1')\"\n",
              "            title=\"Convert this dataframe to an interactive table.\"\n",
              "            style=\"display:none;\">\n",
              "\n",
              "  <svg xmlns=\"http://www.w3.org/2000/svg\" height=\"24px\" viewBox=\"0 -960 960 960\">\n",
              "    <path d=\"M120-120v-720h720v720H120Zm60-500h600v-160H180v160Zm220 220h160v-160H400v160Zm0 220h160v-160H400v160ZM180-400h160v-160H180v160Zm440 0h160v-160H620v160ZM180-180h160v-160H180v160Zm440 0h160v-160H620v160Z\"/>\n",
              "  </svg>\n",
              "    </button>\n",
              "\n",
              "  <style>\n",
              "    .colab-df-container {\n",
              "      display:flex;\n",
              "      gap: 12px;\n",
              "    }\n",
              "\n",
              "    .colab-df-convert {\n",
              "      background-color: #E8F0FE;\n",
              "      border: none;\n",
              "      border-radius: 50%;\n",
              "      cursor: pointer;\n",
              "      display: none;\n",
              "      fill: #1967D2;\n",
              "      height: 32px;\n",
              "      padding: 0 0 0 0;\n",
              "      width: 32px;\n",
              "    }\n",
              "\n",
              "    .colab-df-convert:hover {\n",
              "      background-color: #E2EBFA;\n",
              "      box-shadow: 0px 1px 2px rgba(60, 64, 67, 0.3), 0px 1px 3px 1px rgba(60, 64, 67, 0.15);\n",
              "      fill: #174EA6;\n",
              "    }\n",
              "\n",
              "    .colab-df-buttons div {\n",
              "      margin-bottom: 4px;\n",
              "    }\n",
              "\n",
              "    [theme=dark] .colab-df-convert {\n",
              "      background-color: #3B4455;\n",
              "      fill: #D2E3FC;\n",
              "    }\n",
              "\n",
              "    [theme=dark] .colab-df-convert:hover {\n",
              "      background-color: #434B5C;\n",
              "      box-shadow: 0px 1px 3px 1px rgba(0, 0, 0, 0.15);\n",
              "      filter: drop-shadow(0px 1px 2px rgba(0, 0, 0, 0.3));\n",
              "      fill: #FFFFFF;\n",
              "    }\n",
              "  </style>\n",
              "\n",
              "    <script>\n",
              "      const buttonEl =\n",
              "        document.querySelector('#df-d27d3063-6831-4719-ae2a-ce4f7150a7e1 button.colab-df-convert');\n",
              "      buttonEl.style.display =\n",
              "        google.colab.kernel.accessAllowed ? 'block' : 'none';\n",
              "\n",
              "      async function convertToInteractive(key) {\n",
              "        const element = document.querySelector('#df-d27d3063-6831-4719-ae2a-ce4f7150a7e1');\n",
              "        const dataTable =\n",
              "          await google.colab.kernel.invokeFunction('convertToInteractive',\n",
              "                                                    [key], {});\n",
              "        if (!dataTable) return;\n",
              "\n",
              "        const docLinkHtml = 'Like what you see? Visit the ' +\n",
              "          '<a target=\"_blank\" href=https://colab.research.google.com/notebooks/data_table.ipynb>data table notebook</a>'\n",
              "          + ' to learn more about interactive tables.';\n",
              "        element.innerHTML = '';\n",
              "        dataTable['output_type'] = 'display_data';\n",
              "        await google.colab.output.renderOutput(dataTable, element);\n",
              "        const docLink = document.createElement('div');\n",
              "        docLink.innerHTML = docLinkHtml;\n",
              "        element.appendChild(docLink);\n",
              "      }\n",
              "    </script>\n",
              "  </div>\n",
              "\n",
              "\n",
              "    <div id=\"df-73fe67cd-a07b-434e-bc28-fbc007b85078\">\n",
              "      <button class=\"colab-df-quickchart\" onclick=\"quickchart('df-73fe67cd-a07b-434e-bc28-fbc007b85078')\"\n",
              "                title=\"Suggest charts\"\n",
              "                style=\"display:none;\">\n",
              "\n",
              "<svg xmlns=\"http://www.w3.org/2000/svg\" height=\"24px\"viewBox=\"0 0 24 24\"\n",
              "     width=\"24px\">\n",
              "    <g>\n",
              "        <path d=\"M19 3H5c-1.1 0-2 .9-2 2v14c0 1.1.9 2 2 2h14c1.1 0 2-.9 2-2V5c0-1.1-.9-2-2-2zM9 17H7v-7h2v7zm4 0h-2V7h2v10zm4 0h-2v-4h2v4z\"/>\n",
              "    </g>\n",
              "</svg>\n",
              "      </button>\n",
              "\n",
              "<style>\n",
              "  .colab-df-quickchart {\n",
              "      --bg-color: #E8F0FE;\n",
              "      --fill-color: #1967D2;\n",
              "      --hover-bg-color: #E2EBFA;\n",
              "      --hover-fill-color: #174EA6;\n",
              "      --disabled-fill-color: #AAA;\n",
              "      --disabled-bg-color: #DDD;\n",
              "  }\n",
              "\n",
              "  [theme=dark] .colab-df-quickchart {\n",
              "      --bg-color: #3B4455;\n",
              "      --fill-color: #D2E3FC;\n",
              "      --hover-bg-color: #434B5C;\n",
              "      --hover-fill-color: #FFFFFF;\n",
              "      --disabled-bg-color: #3B4455;\n",
              "      --disabled-fill-color: #666;\n",
              "  }\n",
              "\n",
              "  .colab-df-quickchart {\n",
              "    background-color: var(--bg-color);\n",
              "    border: none;\n",
              "    border-radius: 50%;\n",
              "    cursor: pointer;\n",
              "    display: none;\n",
              "    fill: var(--fill-color);\n",
              "    height: 32px;\n",
              "    padding: 0;\n",
              "    width: 32px;\n",
              "  }\n",
              "\n",
              "  .colab-df-quickchart:hover {\n",
              "    background-color: var(--hover-bg-color);\n",
              "    box-shadow: 0 1px 2px rgba(60, 64, 67, 0.3), 0 1px 3px 1px rgba(60, 64, 67, 0.15);\n",
              "    fill: var(--button-hover-fill-color);\n",
              "  }\n",
              "\n",
              "  .colab-df-quickchart-complete:disabled,\n",
              "  .colab-df-quickchart-complete:disabled:hover {\n",
              "    background-color: var(--disabled-bg-color);\n",
              "    fill: var(--disabled-fill-color);\n",
              "    box-shadow: none;\n",
              "  }\n",
              "\n",
              "  .colab-df-spinner {\n",
              "    border: 2px solid var(--fill-color);\n",
              "    border-color: transparent;\n",
              "    border-bottom-color: var(--fill-color);\n",
              "    animation:\n",
              "      spin 1s steps(1) infinite;\n",
              "  }\n",
              "\n",
              "  @keyframes spin {\n",
              "    0% {\n",
              "      border-color: transparent;\n",
              "      border-bottom-color: var(--fill-color);\n",
              "      border-left-color: var(--fill-color);\n",
              "    }\n",
              "    20% {\n",
              "      border-color: transparent;\n",
              "      border-left-color: var(--fill-color);\n",
              "      border-top-color: var(--fill-color);\n",
              "    }\n",
              "    30% {\n",
              "      border-color: transparent;\n",
              "      border-left-color: var(--fill-color);\n",
              "      border-top-color: var(--fill-color);\n",
              "      border-right-color: var(--fill-color);\n",
              "    }\n",
              "    40% {\n",
              "      border-color: transparent;\n",
              "      border-right-color: var(--fill-color);\n",
              "      border-top-color: var(--fill-color);\n",
              "    }\n",
              "    60% {\n",
              "      border-color: transparent;\n",
              "      border-right-color: var(--fill-color);\n",
              "    }\n",
              "    80% {\n",
              "      border-color: transparent;\n",
              "      border-right-color: var(--fill-color);\n",
              "      border-bottom-color: var(--fill-color);\n",
              "    }\n",
              "    90% {\n",
              "      border-color: transparent;\n",
              "      border-bottom-color: var(--fill-color);\n",
              "    }\n",
              "  }\n",
              "</style>\n",
              "\n",
              "      <script>\n",
              "        async function quickchart(key) {\n",
              "          const quickchartButtonEl =\n",
              "            document.querySelector('#' + key + ' button');\n",
              "          quickchartButtonEl.disabled = true;  // To prevent multiple clicks.\n",
              "          quickchartButtonEl.classList.add('colab-df-spinner');\n",
              "          try {\n",
              "            const charts = await google.colab.kernel.invokeFunction(\n",
              "                'suggestCharts', [key], {});\n",
              "          } catch (error) {\n",
              "            console.error('Error during call to suggestCharts:', error);\n",
              "          }\n",
              "          quickchartButtonEl.classList.remove('colab-df-spinner');\n",
              "          quickchartButtonEl.classList.add('colab-df-quickchart-complete');\n",
              "        }\n",
              "        (() => {\n",
              "          let quickchartButtonEl =\n",
              "            document.querySelector('#df-73fe67cd-a07b-434e-bc28-fbc007b85078 button');\n",
              "          quickchartButtonEl.style.display =\n",
              "            google.colab.kernel.accessAllowed ? 'block' : 'none';\n",
              "        })();\n",
              "      </script>\n",
              "    </div>\n",
              "\n",
              "    </div>\n",
              "  </div>\n"
            ],
            "application/vnd.google.colaboratory.intrinsic+json": {
              "type": "dataframe",
              "variable_name": "df",
              "summary": "{\n  \"name\": \"df\",\n  \"rows\": 11,\n  \"fields\": [\n    {\n      \"column\": 0,\n      \"properties\": {\n        \"dtype\": \"string\",\n        \"num_unique_values\": 11,\n        \"samples\": [\n          \"\\u00bfQu\\u00e9 villano de DC es conocido como el \\\"Pr\\u00edncipe Payaso del Crimen\\\"?\",\n          \"SUPER PREGUNTA\",\n          \"\\u00bfQu\\u00e9 superhero\\u00edna de DC es conocida por su lazo de la verdad?\"\n        ],\n        \"semantic_type\": \"\",\n        \"description\": \"\"\n      }\n    },\n    {\n      \"column\": 1,\n      \"properties\": {\n        \"dtype\": \"category\",\n        \"num_unique_values\": 1,\n        \"samples\": [\n          \"RESPUESTA\"\n        ],\n        \"semantic_type\": \"\",\n        \"description\": \"\"\n      }\n    }\n  ]\n}"
            }
          },
          "metadata": {},
          "execution_count": 7
        }
      ]
    },
    {
      "cell_type": "code",
      "source": [
        "!pip install pandas langchain\n",
        "!pip install -U langchain-openai"
      ],
      "metadata": {
        "id": "LwNhVi5nDxxp",
        "colab": {
          "base_uri": "https://localhost:8080/"
        },
        "outputId": "a3d86f00-8532-4514-fdf9-e7c613f005d3"
      },
      "id": "LwNhVi5nDxxp",
      "execution_count": null,
      "outputs": [
        {
          "output_type": "stream",
          "name": "stdout",
          "text": [
            "Requirement already satisfied: pandas in /usr/local/lib/python3.11/dist-packages (2.2.2)\n",
            "Requirement already satisfied: langchain in /usr/local/lib/python3.11/dist-packages (0.3.25)\n",
            "Requirement already satisfied: numpy>=1.23.2 in /usr/local/lib/python3.11/dist-packages (from pandas) (2.0.2)\n",
            "Requirement already satisfied: python-dateutil>=2.8.2 in /usr/local/lib/python3.11/dist-packages (from pandas) (2.9.0.post0)\n",
            "Requirement already satisfied: pytz>=2020.1 in /usr/local/lib/python3.11/dist-packages (from pandas) (2025.2)\n",
            "Requirement already satisfied: tzdata>=2022.7 in /usr/local/lib/python3.11/dist-packages (from pandas) (2025.2)\n",
            "Requirement already satisfied: langchain-core<1.0.0,>=0.3.58 in /usr/local/lib/python3.11/dist-packages (from langchain) (0.3.63)\n",
            "Requirement already satisfied: langchain-text-splitters<1.0.0,>=0.3.8 in /usr/local/lib/python3.11/dist-packages (from langchain) (0.3.8)\n",
            "Requirement already satisfied: langsmith<0.4,>=0.1.17 in /usr/local/lib/python3.11/dist-packages (from langchain) (0.3.44)\n",
            "Requirement already satisfied: pydantic<3.0.0,>=2.7.4 in /usr/local/lib/python3.11/dist-packages (from langchain) (2.11.5)\n",
            "Requirement already satisfied: SQLAlchemy<3,>=1.4 in /usr/local/lib/python3.11/dist-packages (from langchain) (2.0.41)\n",
            "Requirement already satisfied: requests<3,>=2 in /usr/local/lib/python3.11/dist-packages (from langchain) (2.32.3)\n",
            "Requirement already satisfied: PyYAML>=5.3 in /usr/local/lib/python3.11/dist-packages (from langchain) (6.0.2)\n",
            "Requirement already satisfied: tenacity!=8.4.0,<10.0.0,>=8.1.0 in /usr/local/lib/python3.11/dist-packages (from langchain-core<1.0.0,>=0.3.58->langchain) (9.1.2)\n",
            "Requirement already satisfied: jsonpatch<2.0,>=1.33 in /usr/local/lib/python3.11/dist-packages (from langchain-core<1.0.0,>=0.3.58->langchain) (1.33)\n",
            "Requirement already satisfied: packaging<25,>=23.2 in /usr/local/lib/python3.11/dist-packages (from langchain-core<1.0.0,>=0.3.58->langchain) (24.2)\n",
            "Requirement already satisfied: typing-extensions>=4.7 in /usr/local/lib/python3.11/dist-packages (from langchain-core<1.0.0,>=0.3.58->langchain) (4.14.0)\n",
            "Requirement already satisfied: httpx<1,>=0.23.0 in /usr/local/lib/python3.11/dist-packages (from langsmith<0.4,>=0.1.17->langchain) (0.28.1)\n",
            "Requirement already satisfied: orjson<4.0.0,>=3.9.14 in /usr/local/lib/python3.11/dist-packages (from langsmith<0.4,>=0.1.17->langchain) (3.10.18)\n",
            "Requirement already satisfied: requests-toolbelt<2.0.0,>=1.0.0 in /usr/local/lib/python3.11/dist-packages (from langsmith<0.4,>=0.1.17->langchain) (1.0.0)\n",
            "Requirement already satisfied: zstandard<0.24.0,>=0.23.0 in /usr/local/lib/python3.11/dist-packages (from langsmith<0.4,>=0.1.17->langchain) (0.23.0)\n",
            "Requirement already satisfied: annotated-types>=0.6.0 in /usr/local/lib/python3.11/dist-packages (from pydantic<3.0.0,>=2.7.4->langchain) (0.7.0)\n",
            "Requirement already satisfied: pydantic-core==2.33.2 in /usr/local/lib/python3.11/dist-packages (from pydantic<3.0.0,>=2.7.4->langchain) (2.33.2)\n",
            "Requirement already satisfied: typing-inspection>=0.4.0 in /usr/local/lib/python3.11/dist-packages (from pydantic<3.0.0,>=2.7.4->langchain) (0.4.1)\n",
            "Requirement already satisfied: six>=1.5 in /usr/local/lib/python3.11/dist-packages (from python-dateutil>=2.8.2->pandas) (1.17.0)\n",
            "Requirement already satisfied: charset-normalizer<4,>=2 in /usr/local/lib/python3.11/dist-packages (from requests<3,>=2->langchain) (3.4.2)\n",
            "Requirement already satisfied: idna<4,>=2.5 in /usr/local/lib/python3.11/dist-packages (from requests<3,>=2->langchain) (3.10)\n",
            "Requirement already satisfied: urllib3<3,>=1.21.1 in /usr/local/lib/python3.11/dist-packages (from requests<3,>=2->langchain) (2.4.0)\n",
            "Requirement already satisfied: certifi>=2017.4.17 in /usr/local/lib/python3.11/dist-packages (from requests<3,>=2->langchain) (2025.4.26)\n",
            "Requirement already satisfied: greenlet>=1 in /usr/local/lib/python3.11/dist-packages (from SQLAlchemy<3,>=1.4->langchain) (3.2.2)\n",
            "Requirement already satisfied: anyio in /usr/local/lib/python3.11/dist-packages (from httpx<1,>=0.23.0->langsmith<0.4,>=0.1.17->langchain) (4.9.0)\n",
            "Requirement already satisfied: httpcore==1.* in /usr/local/lib/python3.11/dist-packages (from httpx<1,>=0.23.0->langsmith<0.4,>=0.1.17->langchain) (1.0.9)\n",
            "Requirement already satisfied: h11>=0.16 in /usr/local/lib/python3.11/dist-packages (from httpcore==1.*->httpx<1,>=0.23.0->langsmith<0.4,>=0.1.17->langchain) (0.16.0)\n",
            "Requirement already satisfied: jsonpointer>=1.9 in /usr/local/lib/python3.11/dist-packages (from jsonpatch<2.0,>=1.33->langchain-core<1.0.0,>=0.3.58->langchain) (3.0.0)\n",
            "Requirement already satisfied: sniffio>=1.1 in /usr/local/lib/python3.11/dist-packages (from anyio->httpx<1,>=0.23.0->langsmith<0.4,>=0.1.17->langchain) (1.3.1)\n",
            "Collecting langchain-openai\n",
            "  Downloading langchain_openai-0.3.22-py3-none-any.whl.metadata (2.3 kB)\n",
            "Collecting langchain-core<1.0.0,>=0.3.64 (from langchain-openai)\n",
            "  Downloading langchain_core-0.3.65-py3-none-any.whl.metadata (5.8 kB)\n",
            "Requirement already satisfied: openai<2.0.0,>=1.68.2 in /usr/local/lib/python3.11/dist-packages (from langchain-openai) (1.84.0)\n",
            "Requirement already satisfied: tiktoken<1,>=0.7 in /usr/local/lib/python3.11/dist-packages (from langchain-openai) (0.9.0)\n",
            "Collecting langsmith<0.4,>=0.3.45 (from langchain-core<1.0.0,>=0.3.64->langchain-openai)\n",
            "  Downloading langsmith-0.3.45-py3-none-any.whl.metadata (15 kB)\n",
            "Requirement already satisfied: tenacity!=8.4.0,<10.0.0,>=8.1.0 in /usr/local/lib/python3.11/dist-packages (from langchain-core<1.0.0,>=0.3.64->langchain-openai) (9.1.2)\n",
            "Requirement already satisfied: jsonpatch<2.0,>=1.33 in /usr/local/lib/python3.11/dist-packages (from langchain-core<1.0.0,>=0.3.64->langchain-openai) (1.33)\n",
            "Requirement already satisfied: PyYAML>=5.3 in /usr/local/lib/python3.11/dist-packages (from langchain-core<1.0.0,>=0.3.64->langchain-openai) (6.0.2)\n",
            "Requirement already satisfied: packaging<25,>=23.2 in /usr/local/lib/python3.11/dist-packages (from langchain-core<1.0.0,>=0.3.64->langchain-openai) (24.2)\n",
            "Requirement already satisfied: typing-extensions>=4.7 in /usr/local/lib/python3.11/dist-packages (from langchain-core<1.0.0,>=0.3.64->langchain-openai) (4.14.0)\n",
            "Requirement already satisfied: pydantic>=2.7.4 in /usr/local/lib/python3.11/dist-packages (from langchain-core<1.0.0,>=0.3.64->langchain-openai) (2.11.5)\n",
            "Requirement already satisfied: anyio<5,>=3.5.0 in /usr/local/lib/python3.11/dist-packages (from openai<2.0.0,>=1.68.2->langchain-openai) (4.9.0)\n",
            "Requirement already satisfied: distro<2,>=1.7.0 in /usr/local/lib/python3.11/dist-packages (from openai<2.0.0,>=1.68.2->langchain-openai) (1.9.0)\n",
            "Requirement already satisfied: httpx<1,>=0.23.0 in /usr/local/lib/python3.11/dist-packages (from openai<2.0.0,>=1.68.2->langchain-openai) (0.28.1)\n",
            "Requirement already satisfied: jiter<1,>=0.4.0 in /usr/local/lib/python3.11/dist-packages (from openai<2.0.0,>=1.68.2->langchain-openai) (0.10.0)\n",
            "Requirement already satisfied: sniffio in /usr/local/lib/python3.11/dist-packages (from openai<2.0.0,>=1.68.2->langchain-openai) (1.3.1)\n",
            "Requirement already satisfied: tqdm>4 in /usr/local/lib/python3.11/dist-packages (from openai<2.0.0,>=1.68.2->langchain-openai) (4.67.1)\n",
            "Requirement already satisfied: regex>=2022.1.18 in /usr/local/lib/python3.11/dist-packages (from tiktoken<1,>=0.7->langchain-openai) (2024.11.6)\n",
            "Requirement already satisfied: requests>=2.26.0 in /usr/local/lib/python3.11/dist-packages (from tiktoken<1,>=0.7->langchain-openai) (2.32.3)\n",
            "Requirement already satisfied: idna>=2.8 in /usr/local/lib/python3.11/dist-packages (from anyio<5,>=3.5.0->openai<2.0.0,>=1.68.2->langchain-openai) (3.10)\n",
            "Requirement already satisfied: certifi in /usr/local/lib/python3.11/dist-packages (from httpx<1,>=0.23.0->openai<2.0.0,>=1.68.2->langchain-openai) (2025.4.26)\n",
            "Requirement already satisfied: httpcore==1.* in /usr/local/lib/python3.11/dist-packages (from httpx<1,>=0.23.0->openai<2.0.0,>=1.68.2->langchain-openai) (1.0.9)\n",
            "Requirement already satisfied: h11>=0.16 in /usr/local/lib/python3.11/dist-packages (from httpcore==1.*->httpx<1,>=0.23.0->openai<2.0.0,>=1.68.2->langchain-openai) (0.16.0)\n",
            "Requirement already satisfied: jsonpointer>=1.9 in /usr/local/lib/python3.11/dist-packages (from jsonpatch<2.0,>=1.33->langchain-core<1.0.0,>=0.3.64->langchain-openai) (3.0.0)\n",
            "Requirement already satisfied: orjson<4.0.0,>=3.9.14 in /usr/local/lib/python3.11/dist-packages (from langsmith<0.4,>=0.3.45->langchain-core<1.0.0,>=0.3.64->langchain-openai) (3.10.18)\n",
            "Requirement already satisfied: requests-toolbelt<2.0.0,>=1.0.0 in /usr/local/lib/python3.11/dist-packages (from langsmith<0.4,>=0.3.45->langchain-core<1.0.0,>=0.3.64->langchain-openai) (1.0.0)\n",
            "Requirement already satisfied: zstandard<0.24.0,>=0.23.0 in /usr/local/lib/python3.11/dist-packages (from langsmith<0.4,>=0.3.45->langchain-core<1.0.0,>=0.3.64->langchain-openai) (0.23.0)\n",
            "Requirement already satisfied: annotated-types>=0.6.0 in /usr/local/lib/python3.11/dist-packages (from pydantic>=2.7.4->langchain-core<1.0.0,>=0.3.64->langchain-openai) (0.7.0)\n",
            "Requirement already satisfied: pydantic-core==2.33.2 in /usr/local/lib/python3.11/dist-packages (from pydantic>=2.7.4->langchain-core<1.0.0,>=0.3.64->langchain-openai) (2.33.2)\n",
            "Requirement already satisfied: typing-inspection>=0.4.0 in /usr/local/lib/python3.11/dist-packages (from pydantic>=2.7.4->langchain-core<1.0.0,>=0.3.64->langchain-openai) (0.4.1)\n",
            "Requirement already satisfied: charset-normalizer<4,>=2 in /usr/local/lib/python3.11/dist-packages (from requests>=2.26.0->tiktoken<1,>=0.7->langchain-openai) (3.4.2)\n",
            "Requirement already satisfied: urllib3<3,>=1.21.1 in /usr/local/lib/python3.11/dist-packages (from requests>=2.26.0->tiktoken<1,>=0.7->langchain-openai) (2.4.0)\n",
            "Downloading langchain_openai-0.3.22-py3-none-any.whl (65 kB)\n",
            "\u001b[2K   \u001b[90m━━━━━━━━━━━━━━━━━━━━━━━━━━━━━━━━━━━━━━━━\u001b[0m \u001b[32m65.3/65.3 kB\u001b[0m \u001b[31m2.3 MB/s\u001b[0m eta \u001b[36m0:00:00\u001b[0m\n",
            "\u001b[?25hDownloading langchain_core-0.3.65-py3-none-any.whl (438 kB)\n",
            "\u001b[2K   \u001b[90m━━━━━━━━━━━━━━━━━━━━━━━━━━━━━━━━━━━━━━━━\u001b[0m \u001b[32m438.1/438.1 kB\u001b[0m \u001b[31m11.6 MB/s\u001b[0m eta \u001b[36m0:00:00\u001b[0m\n",
            "\u001b[?25hDownloading langsmith-0.3.45-py3-none-any.whl (363 kB)\n",
            "\u001b[2K   \u001b[90m━━━━━━━━━━━━━━━━━━━━━━━━━━━━━━━━━━━━━━━━\u001b[0m \u001b[32m363.0/363.0 kB\u001b[0m \u001b[31m25.9 MB/s\u001b[0m eta \u001b[36m0:00:00\u001b[0m\n",
            "\u001b[?25hInstalling collected packages: langsmith, langchain-core, langchain-openai\n",
            "  Attempting uninstall: langsmith\n",
            "    Found existing installation: langsmith 0.3.44\n",
            "    Uninstalling langsmith-0.3.44:\n",
            "      Successfully uninstalled langsmith-0.3.44\n",
            "  Attempting uninstall: langchain-core\n",
            "    Found existing installation: langchain-core 0.3.63\n",
            "    Uninstalling langchain-core-0.3.63:\n",
            "      Successfully uninstalled langchain-core-0.3.63\n",
            "Successfully installed langchain-core-0.3.65 langchain-openai-0.3.22 langsmith-0.3.45\n"
          ]
        }
      ]
    },
    {
      "cell_type": "code",
      "source": [
        "from langchain_core.prompts import PromptTemplate\n",
        "from langchain.chains import LLMChain\n",
        "import pandas as pd\n",
        "\n",
        "# Crear una plantilla de prompt\n",
        "prompt_template = PromptTemplate(\n",
        "    template=\"Como un asistente de IA, responderás preguntas de acuerdo con el siguiente contexto: \\n'''{context}'''. \\nPregunta: '''{question}'''\",\n",
        "    input_variables=['context', 'question']\n",
        ")\n",
        "\n",
        "# Leer el archivo Excel (asumiendo que solo necesitas una hoja)\n",
        "df = pd.read_excel('Preguntas con respuestas.xlsx')\n",
        "# Seleccionar la segunda columna (índice 1 en Python)\n",
        "pregunta = df.iloc[0, 0]\n",
        "\n",
        "# Unir todas las celdas de esa columna en un solo string como contexto\n",
        "contexto = '\\n'.join(df.astype(str).apply(lambda row: ' - '.join(row), axis=1))\n",
        "\n",
        "# Formatear el prompt\n",
        "prompt = prompt_template.format(context=contexto, question=pregunta)\n",
        "\n",
        "# Mostrar el resultado\n",
        "print(prompt)"
      ],
      "metadata": {
        "colab": {
          "base_uri": "https://localhost:8080/"
        },
        "id": "u2V50b1RqHuZ",
        "outputId": "b20cb51c-f884-4028-94e8-b67b8fb6e293"
      },
      "id": "u2V50b1RqHuZ",
      "execution_count": null,
      "outputs": [
        {
          "output_type": "stream",
          "name": "stdout",
          "text": [
            "Como un asistente de IA, responderás preguntas de acuerdo con el siguiente contexto: \n",
            "'''SUPER PREGUNTA - RESPUESTA\n",
            "¿Cuál es la identidad secreta de Batman? - nan\n",
            "¿Cómo obtuvo Superman sus poderes? - nan\n",
            "¿Cuál es el verdadero nombre de Wonder Woman? - nan\n",
            "¿En qué ciudad opera Green Lantern principalmente? - nan\n",
            "¿Qué villano de DC es conocido como el \"Príncipe Payaso del Crimen\"? - nan\n",
            "¿Cuál es el nombre del planeta natal de Superman? - nan\n",
            "¿Qué miembro de la Liga de la Justicia es el rey de Atlantis? - nan\n",
            "¿Quién es el velocista conocido como The Flash? - nan\n",
            "¿Qué superheroína de DC es conocida por su lazo de la verdad? - nan\n",
            "¿Cuál es el nombre del archienemigo de Batman que es un maestro del enigma? - nan'''. \n",
            "Pregunta: '''SUPER PREGUNTA'''\n"
          ]
        }
      ]
    },
    {
      "cell_type": "markdown",
      "source": [],
      "metadata": {
        "id": "EjAMx8QwCywD"
      },
      "id": "EjAMx8QwCywD"
    },
    {
      "cell_type": "markdown",
      "source": [
        "# Concepto de Runnables en LangChain\n",
        "\n",
        "##¿Qué son los Runnables?\n",
        "Comencemos por el pilar de la composición en LangChain: los Runnables. Piensen en ellos como bloques de construcción o \"piezas de Lego\" para nuestras aplicaciones de IA. Cada Runnable es una unidad de trabajo que puede hacer algo específico: formatear un prompt, llamar a un modelo de lenguaje, procesar una salida, etc.\n",
        "\n",
        "La magia de los Runnables reside en que todos \"hablan el mismo idioma\". Implementan una interfaz estándar que nos permite conectarlos entre sí de forma predecible y potente.\n",
        "\n",
        "##La Interfaz Estándar: invoke, batch y stream\n",
        "Todo Runnable comparte una interfaz de métodos común. Veamos los tres principales para la ejecución síncrona:\n",
        "\n",
        "###invoke(input)\n",
        "\n",
        "Es el método más simple. Lo usamos para ejecutar el Runnable con una única entrada y recibir una única salida. Es ideal para una solicitud directa."
      ],
      "metadata": {
        "id": "E6_qxlK5F_rj"
      },
      "id": "E6_qxlK5F_rj"
    },
    {
      "cell_type": "code",
      "source": [
        "from langchain_core.prompts import ChatPromptTemplate\n",
        "from langchain_core.output_parsers import StrOutputParser\n",
        "from langchain_openai import ChatOpenAI\n",
        "\n",
        "# Asumimos que la API key de OpenAI está configurada en las variables de entorno.\n",
        "model = ChatOpenAI(model=\"gpt-4o-mini\")\n",
        "prompt = ChatPromptTemplate.from_template(\"Dime una broma sobre {tema}. La broma debe ser corta y en español.\")\n",
        "output_parser = StrOutputParser()\n",
        "\n",
        "# Creamos nuestra cadena (Chain) usando el LangChain Expression Language (LCEL)\n",
        "# El operador | (pipe) conecta los Runnables en una secuencia.\n",
        "chain = prompt | model | output_parser\n",
        "\n",
        "# Usamos invoke para una sola ejecución\n",
        "print(\"--- Ejecución con invoke ---\")\n",
        "response = chain.invoke({\"tema\": \"los programadores\"})\n",
        "print(response)"
      ],
      "metadata": {
        "colab": {
          "base_uri": "https://localhost:8080/"
        },
        "id": "Kl9hJojDEFsU",
        "outputId": "378912af-5527-4696-b31c-58d9fe1c8e3d"
      },
      "id": "Kl9hJojDEFsU",
      "execution_count": null,
      "outputs": [
        {
          "output_type": "stream",
          "name": "stdout",
          "text": [
            "--- Ejecución con invoke ---\n",
            "¿Por qué los programadores prefieren el té en lugar del café? \n",
            "\n",
            "¡Porque el café tiene demasiados \"bugs\"!\n"
          ]
        }
      ]
    },
    {
      "cell_type": "markdown",
      "metadata": {
        "id": "ZOR1QjdF63NS"
      },
      "source": [
        "###batch([input1, input2, ...])\n",
        "\n",
        "¿Qué pasa si queremos ejecutar la misma cadena para múltiples entradas? Podríamos usar un bucle for con invoke, pero sería lento e ineficiente. batch está optimizado para esto. Procesa una lista de entradas y devuelve una lista de salidas, ejecutándolas en paralelo siempre que sea posible.\n",
        "\n",
        "Ejemplo con batch:\n",
        "\n"
      ],
      "id": "ZOR1QjdF63NS"
    },
    {
      "cell_type": "code",
      "execution_count": null,
      "metadata": {
        "id": "hSgNmAT663NS",
        "colab": {
          "base_uri": "https://localhost:8080/"
        },
        "outputId": "4fef8490-8495-47ae-99ef-4e3ca167e4fc"
      },
      "outputs": [
        {
          "output_type": "stream",
          "name": "stdout",
          "text": [
            "\n",
            "--- Ejecución con batch ---\n",
            "Broma sobre perros: ¿Por qué los perros siempre llevan un reloj? \n",
            "\n",
            "¡Porque les encanta seguir el tiempo de “perro”! 🐾😄\n",
            "Broma sobre gatos: ¿Por qué los gatos son malos para contar chistes? \n",
            "\n",
            "¡Porque siempre terminan en \"miau\" en lugar de \"ja, ja\"! 😺\n",
            "Broma sobre robots: ¿Por qué los robots nunca se pelean?\n",
            "\n",
            "Porque siempre tienen \"código\" de ética. ¡Ja, ja!\n"
          ]
        }
      ],
      "source": [
        "# (Usando la 'chain' que definimos antes)\n",
        "temas = [{\"tema\": \"perros\"}, {\"tema\": \"gatos\"}, {\"tema\": \"robots\"}]\n",
        "\n",
        "print(\"\\n--- Ejecución con batch ---\")\n",
        "responses = chain.batch(temas)\n",
        "\n",
        "for i, res in enumerate(responses):\n",
        "    print(f\"Broma sobre {temas[i]['tema']}: {res}\")\n"
      ],
      "id": "hSgNmAT663NS"
    },
    {
      "cell_type": "markdown",
      "source": [
        "###stream(input)\n",
        "\n",
        "Este método es clave para la experiencia de usuario. En lugar de esperar la respuesta completa del modelo, stream nos devuelve un flujo de datos (chunks) a medida que se van generando. Esto permite mostrar la respuesta palabra por palabra, como en ChatGPT.\n",
        "Ejemplo con stream:"
      ],
      "metadata": {
        "id": "By8XhMwDEoxC"
      },
      "id": "By8XhMwDEoxC"
    },
    {
      "cell_type": "code",
      "source": [
        "# (Usando la 'chain' que definimos antes)\n",
        "print(\"\\n--- Ejecución con stream ---\")\n",
        "print(\"Respuesta en tiempo real:\")\n",
        "for chunk in chain.stream({\"tema\": \"el espacio\"}):\n",
        "    print(chunk, end=\"\", flush=True)\n",
        "print(\"\\n\")"
      ],
      "metadata": {
        "colab": {
          "base_uri": "https://localhost:8080/"
        },
        "id": "D82jaYQAEsMo",
        "outputId": "aca10432-d019-4e88-ea84-3d08821a29be"
      },
      "id": "D82jaYQAEsMo",
      "execution_count": null,
      "outputs": [
        {
          "output_type": "stream",
          "name": "stdout",
          "text": [
            "\n",
            "--- Ejecución con stream ---\n",
            "Respuesta en tiempo real:\n",
            "¿Por qué los astronautas no pueden usar Twitter? \n",
            "\n",
            "¡Porque ya tienen un montón de seguidores en el espacio! 🚀😄\n",
            "\n"
          ]
        }
      ]
    },
    {
      "cell_type": "markdown",
      "source": [
        "##Parte 2: El Poder de la Asincronía\n",
        "\n",
        "La ejecución síncrona es sencilla, pero bloquea nuestro programa hasta que se completa. En aplicaciones reales (como un servidor web), esto es inaceptable. Necesitamos asincronía para manejar múltiples solicitudes a la vez sin que una bloquee a las demás.\n",
        "\n",
        "LangChain ofrece una contraparte asíncrona para cada método de ejecución. Se reconocen fácilmente porque empiezan con la letra 'a'.\n",
        "\n",
        "* ainvoke(input): La versión asíncrona de invoke.\n",
        "* abatch([input1, ...]): La versión asíncrona y optimizada de batch.\n",
        "* astream(input): La versión asíncrona de stream.\n",
        "\n",
        "Para usarlas, necesitamos un entorno asíncrono, como el que provee la librería asyncio de Python.\n",
        "\n",
        "Ejemplo de ainvoke y abatch:"
      ],
      "metadata": {
        "id": "HnERk_21Ew5b"
      },
      "id": "HnERk_21Ew5b"
    },
    {
      "cell_type": "code",
      "source": [
        "import asyncio\n",
        "import time\n",
        "\n",
        "# (Usando la 'chain' y los 'temas' que definimos antes)\n",
        "\n",
        "async def main():\n",
        "    # --- Ejecución con ainvoke ---\n",
        "    print(\"--- Ejecución con ainvoke (asíncrono) ---\")\n",
        "    task_ainvoke = chain.ainvoke({\"tema\": \"los científicos\"})\n",
        "    response_ainvoke = await task_ainvoke\n",
        "    print(response_ainvoke)\n",
        "\n",
        "    # --- Comparativa de rendimiento: batch vs abatch ---\n",
        "    # Para ilustrar, comparemos el tiempo de ejecución.\n",
        "    # Nota: El rendimiento real depende de la carga del modelo de OpenAI y otros factores.\n",
        "\n",
        "    print(\"\\n--- Ejecutando abatch (asíncrono y en paralelo) ---\")\n",
        "    start_time_abatch = time.time()\n",
        "    # abatch lanza todas las peticiones de forma concurrente\n",
        "    tasks = chain.abatch(temas)\n",
        "    responses_abatch = await tasks\n",
        "    end_time_abatch = time.time()\n",
        "    print(f\"Tiempo de ejecución de abatch: {end_time_abatch - start_time_abatch:.2f} segundos\")\n",
        "    # for res in responses_abatch:\n",
        "    #     print(f\"- {res}\")\n",
        "\n",
        "    print(\"\\n--- Ejecutando invoke en un bucle (síncrono y secuencial) ---\")\n",
        "    start_time_loop = time.time()\n",
        "    responses_loop = [chain.invoke(t) for t in temas]\n",
        "    end_time_loop = time.time()\n",
        "    print(f\"Tiempo de ejecución de invoke en bucle: {end_time_loop - start_time_loop:.2f} segundos\")\n",
        "    # for res in responses_loop:\n",
        "    #     print(f\"- {res}\")\n",
        "\n",
        "# Para ejecutar una función async en un script, usamos asyncio.run()\n",
        "# Si estás en un Jupyter Notebook, simplemente usa 'await main()' en una celda.\n",
        "# asyncio.run(main())\n"
      ],
      "metadata": {
        "id": "su9fqVJ2E83N"
      },
      "id": "su9fqVJ2E83N",
      "execution_count": null,
      "outputs": []
    },
    {
      "cell_type": "code",
      "source": [
        "await main()"
      ],
      "metadata": {
        "colab": {
          "base_uri": "https://localhost:8080/"
        },
        "id": "6l-Q1ch2FImm",
        "outputId": "4f070287-07e3-466f-8157-0749dcc0e745"
      },
      "id": "6l-Q1ch2FImm",
      "execution_count": null,
      "outputs": [
        {
          "output_type": "stream",
          "name": "stdout",
          "text": [
            "--- Ejecución con ainvoke (asíncrono) ---\n",
            "¿Por qué los científicos no confían en los átomos? \n",
            "\n",
            "Porque ¡lo forman todo!\n",
            "\n",
            "--- Ejecutando abatch (asíncrono y en paralelo) ---\n",
            "Tiempo de ejecución de abatch: 1.28 segundos\n",
            "\n",
            "--- Ejecutando invoke en un bucle (síncrono y secuencial) ---\n",
            "Tiempo de ejecución de invoke en bucle: 2.27 segundos\n"
          ]
        }
      ]
    },
    {
      "cell_type": "markdown",
      "source": [
        "¿Qué diferencia de tiempo notan?\n",
        "\n",
        "**abatch** debería ser significativamente más rápido porque no espera a que termine una broma para pedir la siguiente. Lanza todas las peticiones a la vez. Esto es un pilar de la eficiencia en aplicaciones de IA.\n",
        "\n",
        "##Parte 3: RunnableSequence - Componiendo Cadenas Explícitamente\n",
        "\n",
        "Hemos usado el operador pipe (|) para crear nuestras cadenas. Es la forma más común y legible. Pero, ¿qué está pasando realmente por debajo?\n",
        "\n",
        "LCEL está convirtiendo esa expresión en una RunnableSequence. Una RunnableSequence es un Runnable que se compone de otros Runnables ejecutados en orden. La salida de un paso es la entrada del siguiente.\n",
        "\n",
        "Podemos definir nuestra cadena de forma explícita así:"
      ],
      "metadata": {
        "id": "fSyaAYjSFRZd"
      },
      "id": "fSyaAYjSFRZd"
    },
    {
      "cell_type": "code",
      "source": [
        "from langchain_core.runnables import RunnableSequence\n",
        "\n",
        "# Esta definición es funcionalmente idéntica a: prompt | model | output_parser\n",
        "explicit_chain = RunnableSequence(first=prompt, middle=[model], last=output_parser)\n",
        "\n",
        "# Y podemos usarla de la misma forma\n",
        "response = explicit_chain.invoke({\"tema\": \"la filosofía\"})\n",
        "print(f\"\\nRespuesta de la cadena explícita: {response}\")\n"
      ],
      "metadata": {
        "colab": {
          "base_uri": "https://localhost:8080/"
        },
        "id": "cAz4D0zlFad1",
        "outputId": "05671a44-9c98-484b-a4e4-04febb719f6d"
      },
      "id": "cAz4D0zlFad1",
      "execution_count": null,
      "outputs": [
        {
          "output_type": "stream",
          "name": "stdout",
          "text": [
            "\n",
            "Respuesta de la cadena explícita: ¿Por qué los filósofos no pueden jugar a las escondidas? \n",
            "\n",
            "Porque cada vez que alguien dice \"te encuentro\", ellos responden: \"¿pero quién soy yo para ser encontrado?\"\n"
          ]
        }
      ]
    },
    {
      "cell_type": "markdown",
      "source": [
        "¿Por qué es útil saber esto?\n",
        "* Claridad: Para cadenas muy complejas, ser explícito puede ayudar a entender la estructura.\n",
        "* Dinamismo: Permite construir cadenas de forma programática, añadiendo o quitando pasos según una lógica.\n",
        "* Depuración: Ayuda a comprender el modelo mental de cómo LangChain construye y ejecuta las cadenas.\n",
        "\n",
        "## Ejercicio Grupal 3 - Generador de Contenido Concurrente\n",
        "**Contexto**: Necesitamos generar contenido para tres redes sociales distintas sobre un mismo tema. Queremos un tweet (corto y con hashtags), un post para Instagram (más emotivo y con emojis) y una idea para un post de blog (más estructurado). Hacerlo de uno en uno es lento.\n",
        "\n",
        "**Tu Misión**: Crea tres plantillas de prompt (ChatPromptTemplate) diferentes, una para cada red social.\n",
        "Crea tres cadenas (chain) distintas, una para cada plantilla, que terminen con el StrOutputParser.\n",
        "Usando asyncio y las llamadas asíncronas, invoca las tres cadenas de forma concurrente para un único tema (ej: \"la exploración espacial\").\n",
        "Imprime los resultados a medida que vayan llegando.\n",
        "Pista: asyncio.gather es tu mejor amigo para ejecutar varias tareas asíncronas a la vez."
      ],
      "metadata": {
        "id": "oYTGUz5OFln9"
      },
      "id": "oYTGUz5OFln9"
    },
    {
      "cell_type": "markdown",
      "source": [],
      "metadata": {
        "id": "oBwkLVzlE8Xb"
      },
      "id": "oBwkLVzlE8Xb"
    },
    {
      "cell_type": "markdown",
      "metadata": {
        "id": "ijHZnve563NS"
      },
      "source": [
        "# Tipos de Mensajes en LangChain\n",
        "LangChain utiliza diferentes tipos de mensajes para facilitar la comunicación estructurada entre el usuario y el modelo. Estos mensajes ayudan a gestionar y organizar las interacciones de manera eficiente. Aquí están los principales tipos de mensajes utilizados en LangChain:\n",
        "\n",
        "## 1. HumanMessage:\n",
        "- **Descripción**: Representa un mensaje enviado por el usuario.\n",
        "- **Uso**: Se utiliza para pasar la entrada del usuario al modelo.\n",
        "- **Ejemplo**:\n",
        "```python\n",
        "from langchain_core.messages import HumanMessage\n",
        "user_message = HumanMessage(content='¿Cuál es la capital de Francia?')\n",
        "```\n",
        "\n",
        "## 2. AIMessage:\n",
        "- **Descripción**: Representa un mensaje generado por el modelo de inteligencia artificial en respuesta al usuario.\n",
        "- **Uso**: Utilizado para devolver la respuesta generada por el modelo al usuario.\n",
        "- **Ejemplo**:\n",
        "```python\n",
        "from langchain_core.messages import AIMessage\n",
        "ai_message = AIMessage(content='La capital de Francia es París.')\n",
        "```\n",
        "\n",
        "## 3. SystemMessage:\n",
        "- **Descripción**: Mensaje utilizado para establecer instrucciones o directrices sobre cómo el modelo debe comportarse.\n",
        "- **Uso**: Se envía al inicio de la interacción para guiar el comportamiento del modelo.\n",
        "- **Ejemplo**:\n",
        "```python\n",
        "from langchain_core.messages import SystemMessage\n",
        "system_message = SystemMessage(content='Eres un asistente de IA que responde de manera concisa y precisa.')\n",
        "```\n",
        "\n",
        "## 4. FunctionMessage:\n",
        "- **Descripción**: Utilizado para pasar el resultado de la ejecución de una función de vuelta al modelo. Aplica cuando usamos function calling.\n",
        "- **Uso**: Devuelve el resultado de una función invocada por el modelo, incluyendo el nombre de la función.\n",
        "- **Ejemplo**:\n",
        "```python\n",
        "from langchain_core.messages import FunctionMessage\n",
        "function_message = FunctionMessage(content='El resultado de la función es 42', name='calcular_suma')\n",
        "```\n",
        "\n",
        "## 5. ToolMessage:\n",
        "- **Descripción**: Utilizado para pasar el resultado de la ejecución de una herramienta de vuelta al modelo. Aplica cuando usamos agentes.\n",
        "- **Uso**: Gestiona las respuestas de herramientas que el modelo puede invocar, como APIs externas.\n",
        "- **Ejemplo**:\n",
        "```python\n",
        "from langchain_core.messages import ToolMessage\n",
        "tool_message = ToolMessage(content='El clima en Nueva York es soleado con 25°C.', tool_call_id='consulta_clima')\n",
        "```\n"
      ],
      "id": "ijHZnve563NS"
    },
    {
      "cell_type": "markdown",
      "metadata": {
        "id": "ssegi0HM63NT"
      },
      "source": [
        "# Uso de Memoria con ChatHistory en LangChain\n",
        "## Concepto de Memoria en LangChain\n",
        "La memoria en LangChain permite a los modelos de lenguaje utilizar el contexto de las interacciones anteriores, lo cual es crucial para aplicaciones de chat donde el contexto de la conversación debe ser mantenido para proporcionar respuestas coherentes y relevantes. LangChain ofrece varias formas de manejar la memoria, incluyendo almacenamiento en memoria y bases de datos persistentes.\n",
        "\n",
        "## ChatMessageHistory\n",
        "Una de las clases fundamentales para manejar la memoria es `ChatMessageHistory`. Esta clase ligera proporciona métodos convenientes para guardar `HumanMessages`, `AIMessages` y otros mensajes de chat, y luego recuperarlos, siendo útil si se maneja la memoria fuera de una cadena (chain)."
      ],
      "id": "ssegi0HM63NT"
    },
    {
      "cell_type": "code",
      "source": [
        "!pip install -U langchain-community"
      ],
      "metadata": {
        "colab": {
          "base_uri": "https://localhost:8080/"
        },
        "id": "9oy08NDFETFe",
        "outputId": "48bfd183-98ef-4045-b4ea-e0a14741a7c5"
      },
      "id": "9oy08NDFETFe",
      "execution_count": null,
      "outputs": [
        {
          "output_type": "stream",
          "name": "stdout",
          "text": [
            "Collecting langchain-community\n",
            "  Downloading langchain_community-0.3.25-py3-none-any.whl.metadata (2.9 kB)\n",
            "Requirement already satisfied: langchain-core<1.0.0,>=0.3.65 in /usr/local/lib/python3.11/dist-packages (from langchain-community) (0.3.65)\n",
            "Requirement already satisfied: langchain<1.0.0,>=0.3.25 in /usr/local/lib/python3.11/dist-packages (from langchain-community) (0.3.25)\n",
            "Requirement already satisfied: SQLAlchemy<3,>=1.4 in /usr/local/lib/python3.11/dist-packages (from langchain-community) (2.0.41)\n",
            "Requirement already satisfied: requests<3,>=2 in /usr/local/lib/python3.11/dist-packages (from langchain-community) (2.32.3)\n",
            "Requirement already satisfied: PyYAML>=5.3 in /usr/local/lib/python3.11/dist-packages (from langchain-community) (6.0.2)\n",
            "Requirement already satisfied: aiohttp<4.0.0,>=3.8.3 in /usr/local/lib/python3.11/dist-packages (from langchain-community) (3.11.15)\n",
            "Requirement already satisfied: tenacity!=8.4.0,<10,>=8.1.0 in /usr/local/lib/python3.11/dist-packages (from langchain-community) (9.1.2)\n",
            "Collecting dataclasses-json<0.7,>=0.5.7 (from langchain-community)\n",
            "  Downloading dataclasses_json-0.6.7-py3-none-any.whl.metadata (25 kB)\n",
            "Collecting pydantic-settings<3.0.0,>=2.4.0 (from langchain-community)\n",
            "  Downloading pydantic_settings-2.9.1-py3-none-any.whl.metadata (3.8 kB)\n",
            "Requirement already satisfied: langsmith<0.4,>=0.1.125 in /usr/local/lib/python3.11/dist-packages (from langchain-community) (0.3.45)\n",
            "Collecting httpx-sse<1.0.0,>=0.4.0 (from langchain-community)\n",
            "  Downloading httpx_sse-0.4.0-py3-none-any.whl.metadata (9.0 kB)\n",
            "Requirement already satisfied: numpy>=1.26.2 in /usr/local/lib/python3.11/dist-packages (from langchain-community) (2.0.2)\n",
            "Requirement already satisfied: aiohappyeyeballs>=2.3.0 in /usr/local/lib/python3.11/dist-packages (from aiohttp<4.0.0,>=3.8.3->langchain-community) (2.6.1)\n",
            "Requirement already satisfied: aiosignal>=1.1.2 in /usr/local/lib/python3.11/dist-packages (from aiohttp<4.0.0,>=3.8.3->langchain-community) (1.3.2)\n",
            "Requirement already satisfied: attrs>=17.3.0 in /usr/local/lib/python3.11/dist-packages (from aiohttp<4.0.0,>=3.8.3->langchain-community) (25.3.0)\n",
            "Requirement already satisfied: frozenlist>=1.1.1 in /usr/local/lib/python3.11/dist-packages (from aiohttp<4.0.0,>=3.8.3->langchain-community) (1.6.0)\n",
            "Requirement already satisfied: multidict<7.0,>=4.5 in /usr/local/lib/python3.11/dist-packages (from aiohttp<4.0.0,>=3.8.3->langchain-community) (6.4.4)\n",
            "Requirement already satisfied: propcache>=0.2.0 in /usr/local/lib/python3.11/dist-packages (from aiohttp<4.0.0,>=3.8.3->langchain-community) (0.3.1)\n",
            "Requirement already satisfied: yarl<2.0,>=1.17.0 in /usr/local/lib/python3.11/dist-packages (from aiohttp<4.0.0,>=3.8.3->langchain-community) (1.20.0)\n",
            "Collecting marshmallow<4.0.0,>=3.18.0 (from dataclasses-json<0.7,>=0.5.7->langchain-community)\n",
            "  Downloading marshmallow-3.26.1-py3-none-any.whl.metadata (7.3 kB)\n",
            "Collecting typing-inspect<1,>=0.4.0 (from dataclasses-json<0.7,>=0.5.7->langchain-community)\n",
            "  Downloading typing_inspect-0.9.0-py3-none-any.whl.metadata (1.5 kB)\n",
            "Requirement already satisfied: langchain-text-splitters<1.0.0,>=0.3.8 in /usr/local/lib/python3.11/dist-packages (from langchain<1.0.0,>=0.3.25->langchain-community) (0.3.8)\n",
            "Requirement already satisfied: pydantic<3.0.0,>=2.7.4 in /usr/local/lib/python3.11/dist-packages (from langchain<1.0.0,>=0.3.25->langchain-community) (2.11.5)\n",
            "Requirement already satisfied: jsonpatch<2.0,>=1.33 in /usr/local/lib/python3.11/dist-packages (from langchain-core<1.0.0,>=0.3.65->langchain-community) (1.33)\n",
            "Requirement already satisfied: packaging<25,>=23.2 in /usr/local/lib/python3.11/dist-packages (from langchain-core<1.0.0,>=0.3.65->langchain-community) (24.2)\n",
            "Requirement already satisfied: typing-extensions>=4.7 in /usr/local/lib/python3.11/dist-packages (from langchain-core<1.0.0,>=0.3.65->langchain-community) (4.14.0)\n",
            "Requirement already satisfied: httpx<1,>=0.23.0 in /usr/local/lib/python3.11/dist-packages (from langsmith<0.4,>=0.1.125->langchain-community) (0.28.1)\n",
            "Requirement already satisfied: orjson<4.0.0,>=3.9.14 in /usr/local/lib/python3.11/dist-packages (from langsmith<0.4,>=0.1.125->langchain-community) (3.10.18)\n",
            "Requirement already satisfied: requests-toolbelt<2.0.0,>=1.0.0 in /usr/local/lib/python3.11/dist-packages (from langsmith<0.4,>=0.1.125->langchain-community) (1.0.0)\n",
            "Requirement already satisfied: zstandard<0.24.0,>=0.23.0 in /usr/local/lib/python3.11/dist-packages (from langsmith<0.4,>=0.1.125->langchain-community) (0.23.0)\n",
            "Collecting python-dotenv>=0.21.0 (from pydantic-settings<3.0.0,>=2.4.0->langchain-community)\n",
            "  Downloading python_dotenv-1.1.0-py3-none-any.whl.metadata (24 kB)\n",
            "Requirement already satisfied: typing-inspection>=0.4.0 in /usr/local/lib/python3.11/dist-packages (from pydantic-settings<3.0.0,>=2.4.0->langchain-community) (0.4.1)\n",
            "Requirement already satisfied: charset-normalizer<4,>=2 in /usr/local/lib/python3.11/dist-packages (from requests<3,>=2->langchain-community) (3.4.2)\n",
            "Requirement already satisfied: idna<4,>=2.5 in /usr/local/lib/python3.11/dist-packages (from requests<3,>=2->langchain-community) (3.10)\n",
            "Requirement already satisfied: urllib3<3,>=1.21.1 in /usr/local/lib/python3.11/dist-packages (from requests<3,>=2->langchain-community) (2.4.0)\n",
            "Requirement already satisfied: certifi>=2017.4.17 in /usr/local/lib/python3.11/dist-packages (from requests<3,>=2->langchain-community) (2025.4.26)\n",
            "Requirement already satisfied: greenlet>=1 in /usr/local/lib/python3.11/dist-packages (from SQLAlchemy<3,>=1.4->langchain-community) (3.2.2)\n",
            "Requirement already satisfied: anyio in /usr/local/lib/python3.11/dist-packages (from httpx<1,>=0.23.0->langsmith<0.4,>=0.1.125->langchain-community) (4.9.0)\n",
            "Requirement already satisfied: httpcore==1.* in /usr/local/lib/python3.11/dist-packages (from httpx<1,>=0.23.0->langsmith<0.4,>=0.1.125->langchain-community) (1.0.9)\n",
            "Requirement already satisfied: h11>=0.16 in /usr/local/lib/python3.11/dist-packages (from httpcore==1.*->httpx<1,>=0.23.0->langsmith<0.4,>=0.1.125->langchain-community) (0.16.0)\n",
            "Requirement already satisfied: jsonpointer>=1.9 in /usr/local/lib/python3.11/dist-packages (from jsonpatch<2.0,>=1.33->langchain-core<1.0.0,>=0.3.65->langchain-community) (3.0.0)\n",
            "Requirement already satisfied: annotated-types>=0.6.0 in /usr/local/lib/python3.11/dist-packages (from pydantic<3.0.0,>=2.7.4->langchain<1.0.0,>=0.3.25->langchain-community) (0.7.0)\n",
            "Requirement already satisfied: pydantic-core==2.33.2 in /usr/local/lib/python3.11/dist-packages (from pydantic<3.0.0,>=2.7.4->langchain<1.0.0,>=0.3.25->langchain-community) (2.33.2)\n",
            "Collecting mypy-extensions>=0.3.0 (from typing-inspect<1,>=0.4.0->dataclasses-json<0.7,>=0.5.7->langchain-community)\n",
            "  Downloading mypy_extensions-1.1.0-py3-none-any.whl.metadata (1.1 kB)\n",
            "Requirement already satisfied: sniffio>=1.1 in /usr/local/lib/python3.11/dist-packages (from anyio->httpx<1,>=0.23.0->langsmith<0.4,>=0.1.125->langchain-community) (1.3.1)\n",
            "Downloading langchain_community-0.3.25-py3-none-any.whl (2.5 MB)\n",
            "\u001b[2K   \u001b[90m━━━━━━━━━━━━━━━━━━━━━━━━━━━━━━━━━━━━━━━━\u001b[0m \u001b[32m2.5/2.5 MB\u001b[0m \u001b[31m27.0 MB/s\u001b[0m eta \u001b[36m0:00:00\u001b[0m\n",
            "\u001b[?25hDownloading dataclasses_json-0.6.7-py3-none-any.whl (28 kB)\n",
            "Downloading httpx_sse-0.4.0-py3-none-any.whl (7.8 kB)\n",
            "Downloading pydantic_settings-2.9.1-py3-none-any.whl (44 kB)\n",
            "\u001b[2K   \u001b[90m━━━━━━━━━━━━━━━━━━━━━━━━━━━━━━━━━━━━━━━━\u001b[0m \u001b[32m44.4/44.4 kB\u001b[0m \u001b[31m3.1 MB/s\u001b[0m eta \u001b[36m0:00:00\u001b[0m\n",
            "\u001b[?25hDownloading marshmallow-3.26.1-py3-none-any.whl (50 kB)\n",
            "\u001b[2K   \u001b[90m━━━━━━━━━━━━━━━━━━━━━━━━━━━━━━━━━━━━━━━━\u001b[0m \u001b[32m50.9/50.9 kB\u001b[0m \u001b[31m3.8 MB/s\u001b[0m eta \u001b[36m0:00:00\u001b[0m\n",
            "\u001b[?25hDownloading python_dotenv-1.1.0-py3-none-any.whl (20 kB)\n",
            "Downloading typing_inspect-0.9.0-py3-none-any.whl (8.8 kB)\n",
            "Downloading mypy_extensions-1.1.0-py3-none-any.whl (5.0 kB)\n",
            "Installing collected packages: python-dotenv, mypy-extensions, marshmallow, httpx-sse, typing-inspect, pydantic-settings, dataclasses-json, langchain-community\n",
            "Successfully installed dataclasses-json-0.6.7 httpx-sse-0.4.0 langchain-community-0.3.25 marshmallow-3.26.1 mypy-extensions-1.1.0 pydantic-settings-2.9.1 python-dotenv-1.1.0 typing-inspect-0.9.0\n"
          ]
        }
      ]
    },
    {
      "cell_type": "code",
      "source": [
        "from langchain.memory import ChatMessageHistory\n",
        "\n",
        "history = ChatMessageHistory()\n",
        "\n",
        "history.add_user_message(\"hola\")\n",
        "\n",
        "history.add_ai_message(\"qué onda?\")\n",
        "\n",
        "history.messages"
      ],
      "metadata": {
        "id": "nc0ulVzTlLYd",
        "colab": {
          "base_uri": "https://localhost:8080/"
        },
        "outputId": "da52c01b-7de6-4640-872d-a64cf34e0b34"
      },
      "id": "nc0ulVzTlLYd",
      "execution_count": null,
      "outputs": [
        {
          "output_type": "execute_result",
          "data": {
            "text/plain": [
              "[HumanMessage(content='hola', additional_kwargs={}, response_metadata={}),\n",
              " AIMessage(content='qué onda?', additional_kwargs={}, response_metadata={})]"
            ]
          },
          "metadata": {},
          "execution_count": 33
        }
      ]
    },
    {
      "cell_type": "markdown",
      "source": [
        "\n",
        "Si tenemos varios usuarios, podemos usar un diccionario para guardar por separado el historial de conversación de cada uno:"
      ],
      "metadata": {
        "id": "lEYHN6yrlkRO"
      },
      "id": "lEYHN6yrlkRO"
    },
    {
      "cell_type": "code",
      "execution_count": null,
      "metadata": {
        "id": "qr69mbqV63NT",
        "colab": {
          "base_uri": "https://localhost:8080/"
        },
        "outputId": "614e6c4d-b1f8-429b-d86b-9ee71be7155a"
      },
      "outputs": [
        {
          "output_type": "stream",
          "name": "stdout",
          "text": [
            "sesion1\n",
            "Human: hola, me llamo Alejandro\n",
            "AI: hola Alejandro \n",
            "\n",
            "sesion2\n",
            "Human: hola, me llamo Pablo\n",
            "AI: hola Pablo \n",
            "\n"
          ]
        }
      ],
      "source": [
        "from langchain.memory import ChatMessageHistory\n",
        "\n",
        "\n",
        "# Diccionario para almacenar historias para cada ID de sesión\n",
        "histories = {}\n",
        "\n",
        "def retrieve_history(session_id):\n",
        "    # Verificar si el ID de la sesión no está en el diccionario de historias\n",
        "    if session_id not in histories:\n",
        "        # Inicializar un nuevo ChatMessageHistory para el nuevo ID de sesión\n",
        "        histories[session_id] = ChatMessageHistory()\n",
        "\n",
        "    return histories[session_id]\n",
        "\n",
        "def add_to_history(role, session_id, message):\n",
        "    # Verificar si el ID de la sesión no está en el diccionario de historias\n",
        "    if session_id not in histories:\n",
        "        # Inicializar un nuevo ChatMessageHistory para el nuevo ID de sesión\n",
        "        histories[session_id] = ChatMessageHistory()\n",
        "\n",
        "    # Agregar el mensaje a la historia correspondiente según el rol\n",
        "    if role == 'user':\n",
        "        # Si el rol es 'user', agregar el mensaje como un mensaje del usuario\n",
        "        histories[session_id].add_user_message(message)\n",
        "    elif role == 'system':\n",
        "        # Si el rol es 'system', agregar el mensaje como un mensaje del sistema\n",
        "        system_message = SystemMessage(content=\"You are a helpful assistant.\")\n",
        "        histories[session_id].add_message(system_message)\n",
        "    else:\n",
        "        # Si el rol es 'ai' u otro, agregar el mensaje como un mensaje del AI\n",
        "        histories[session_id].add_ai_message(message)\n",
        "\n",
        "# Agregar mensajes del usuario y del AI para la sesión 'sesion1'\n",
        "add_to_history('user', 'sesion1', 'hola, me llamo Alejandro')\n",
        "add_to_history('ai', 'sesion1', 'hola Alejandro')\n",
        "\n",
        "# Agregar mensajes del usuario y del AI para la sesión 'sesion2'\n",
        "add_to_history('user', 'sesion2', 'hola, me llamo Pablo')\n",
        "add_to_history('ai', 'sesion2', 'hola Pablo')\n",
        "\n",
        "# Ver los mensajes almacenados\n",
        "for h in histories:\n",
        "    # Imprimir el ID de la sesión\n",
        "    print(h)\n",
        "    # Imprimir la historia asociada con ese ID de sesión\n",
        "    print(histories[h], \"\\n\")\n",
        "\n",
        "\n"
      ],
      "id": "qr69mbqV63NT"
    },
    {
      "cell_type": "markdown",
      "source": [
        "Ahora creamos un prompt template que tenga un espacio para insertar la historia de conversación y otro para la pregunta del usuario"
      ],
      "metadata": {
        "id": "Smu-v-cdkab8"
      },
      "id": "Smu-v-cdkab8"
    },
    {
      "cell_type": "code",
      "execution_count": null,
      "metadata": {
        "id": "MYbZDjjM63NT",
        "colab": {
          "base_uri": "https://localhost:8080/"
        },
        "outputId": "21db1263-be7f-40ec-f076-645a428a3472"
      },
      "outputs": [
        {
          "output_type": "stream",
          "name": "stdout",
          "text": [
            "content='Te llamas Juan.' additional_kwargs={'refusal': None} response_metadata={'token_usage': {'completion_tokens': 5, 'prompt_tokens': 62, 'total_tokens': 67, 'completion_tokens_details': {'accepted_prediction_tokens': 0, 'audio_tokens': 0, 'reasoning_tokens': 0, 'rejected_prediction_tokens': 0}, 'prompt_tokens_details': {'audio_tokens': 0, 'cached_tokens': 0}}, 'model_name': 'gpt-3.5-turbo-0125', 'system_fingerprint': None, 'id': 'chatcmpl-BhO2wxH5HcfXD7lCI9Db4pUQ8RtkD', 'service_tier': 'default', 'finish_reason': 'stop', 'logprobs': None} id='run--210892a5-c67e-4524-936a-c8fa50b6ff18-0' usage_metadata={'input_tokens': 62, 'output_tokens': 5, 'total_tokens': 67, 'input_token_details': {'audio': 0, 'cache_read': 0}, 'output_token_details': {'audio': 0, 'reasoning': 0}}\n"
          ]
        }
      ],
      "source": [
        "from langchain_core.prompts import ChatPromptTemplate\n",
        "from langchain_openai import ChatOpenAI\n",
        "from langchain_core.runnables.history import RunnableWithMessageHistory\n",
        "\n",
        "# Definir el modelo de lenguaje y el prompt\n",
        "# Inicializar el modelo de lenguaje con la versión especificada\n",
        "llm = ChatOpenAI(model='gpt-3.5-turbo-0125')\n",
        "\n",
        "# Definir la plantilla del prompt\n",
        "prompt_template = PromptTemplate(\n",
        "    # Crear una plantilla de prompt que incluye el historial de la conversación y la pregunta del usuario\n",
        "    template=\"Como un asistente de IA, responderás preguntas de acuerdo con el siguiente historial de conversación: \\n'''{chat_history}'''. \\nPregunta: '''{input}'''\",\n",
        "    # Especificar las variables de entrada que serán reemplazadas en la plantilla\n",
        "    input_variables=['chat_history', 'input']\n",
        ")\n",
        "\n",
        "# Crear una cadena (pipeline) que primero aplica el prompt_template y luego pasa el resultado al modelo de lenguaje\n",
        "chain = prompt_template | llm\n",
        "\n",
        "\n",
        "chat_history = ChatMessageHistory()\n",
        "chat_history.add_user_message(\"Hola, me llamo Juan\")\n",
        "chat_history.add_ai_message(\"Hola, Juan\")\n",
        "user_input = \"¿Cómo me llamo?\"\n",
        "\n",
        "result = chain.invoke ({'input': user_input, 'chat_history':chat_history})\n",
        "print(result)\n"
      ],
      "id": "MYbZDjjM63NT"
    },
    {
      "cell_type": "markdown",
      "source": [
        "El siguiente paso es crear un runnable que sepa lidiar con la historia de conversación.\n",
        "\n",
        "### RunnableWithMessageHistory\n",
        "\n",
        "La clase `RunnableWithMessageHistory` en LangChain se utiliza para envolver un runnable base y gestionar el historial de mensajes del chat. Esto es particularmente útil en escenarios donde la respuesta del modelo necesita tener en cuenta el historial de la conversación, como en aplicaciones de chatbot.\n",
        "\n",
        "#### Parámetros clave:\n",
        "\n",
        " - **runnable**: El runnable base que esta clase envuelve.\n",
        " - **get_session_history**: Una función que toma un `session_id` y devuelve un objeto `BaseChatMessageHistory`. Esta función es responsable de recuperar el historial de la conversación para la sesión dada. Por ejemplo, si tengo varios usuarios, el session_id puede ser el identificador del usuario actual. Además, RunnableWithMessageHistory se encargará de agregar el nuevo mensaje a ese objeto BaseChatMessageHistory.\n",
        " - **history_factory_config**: Configuración opcional para pasar múltiples claves a la función `get_session_history`.\n",
        "\n",
        "Estos dos parámetros son los que deben llenarse en el prompt template:\n",
        "  - **input_messages_key**: Especifica la clave para el(los) mensaje(s) de entrada actual(es) en el diccionario. Tiene que coincidir con la clave que hemos definido en el prompt template, ya que esta variable cumple dos funciones:\n",
        "    - Ser reemplazada en el prompt para que quede bien formado.\n",
        "    - Darle a RunnableWithMessageHistory el mensaje que debe agregar al historial de conversación.\n",
        "  - **history_messages_key**: Especifica la clave para los mensajes históricos en el diccionario. Esta clave debe coincidir con la que hemos definido en el prompt template.\n",
        "\n",
        "La clase funciona cargando los mensajes anteriores en la conversación antes de pasarlos al runnable y guardando la respuesta generada como un nuevo mensaje después de que el runnable complete su ejecución.\n"
      ],
      "metadata": {
        "id": "tIGgyEqvkqJq"
      },
      "id": "tIGgyEqvkqJq"
    },
    {
      "cell_type": "code",
      "source": [
        "\n",
        "\n",
        "# Envolver el modelo con historial de mensajes\n",
        "chain_with_history = RunnableWithMessageHistory(\n",
        "    runnable = chain,\n",
        "    get_session_history=retrieve_history,\n",
        "    # chain=prompt_template | llm,\n",
        "    input_messages_key='input',\n",
        "    history_messages_key='chat_history'\n",
        ")\n",
        "\n",
        "# Invocar la cadena con historial de mensajes\n",
        "\n",
        "output = chain_with_history.invoke({'input': '¿Cuál es mi nombre?'}, {'configurable': {'session_id': 'sesion1'}})\n",
        "\n",
        "print(output.content)\n"
      ],
      "metadata": {
        "id": "hWyKKB_zHnNP",
        "colab": {
          "base_uri": "https://localhost:8080/"
        },
        "outputId": "261018b6-9c8a-4f45-d9e1-e3af9c36aaec"
      },
      "id": "hWyKKB_zHnNP",
      "execution_count": null,
      "outputs": [
        {
          "output_type": "stream",
          "name": "stdout",
          "text": [
            "Tu nombre es Alejandro.\n"
          ]
        }
      ]
    },
    {
      "cell_type": "markdown",
      "metadata": {
        "id": "L4JMB6e763NT"
      },
      "source": [
        "## Persistencia del Historial de Conversación en LangChain usando Redis\n",
        "LangChain permite la persistencia del historial de conversación en varios tipos de repositorios de datos, como bases de datos SQL, NoSQL, almacenamiento en la nube y más. En esta guía, nos centraremos en cómo usar Redis para almacenar y recuperar el historial de conversaciones, debido a su facilidad de uso y baja latencia.\n",
        "\n",
        "### ¿Por qué Redis?\n",
        "Redis es un almacén de datos en memoria que ofrece alta velocidad para lecturas y escrituras, lo que lo hace ideal para aplicaciones en tiempo real como chatbots. Además, Redis es flexible y permite la configuración de TTL (Time-To-Live) para gestionar la expiración de las sesiones.\n",
        "\n",
        "### Configuración Básica\n",
        "Prerequisitos:\n",
        "- Una instancia de Redis (local o en la nube).\n",
        "- Claves de API de OpenAI.\n",
        "\n",
        "### Pasos para Configurar y Usar Redis en LangChain\n",
        "1. Instalación de Dependencias\n",
        "   `pip install redis`\n",
        "2. Integración con LangChain: Crear una instancia de memoria que utilice RedisChatMessageHistory y configurarla en la cadena de conversación."
      ],
      "id": "L4JMB6e763NT"
    },
    {
      "cell_type": "code",
      "source": [
        "!pip install redis"
      ],
      "metadata": {
        "id": "3NhHjUdRtRAC",
        "colab": {
          "base_uri": "https://localhost:8080/"
        },
        "outputId": "4d5f2b39-d382-49d2-e4d0-fe50e062cc0d"
      },
      "id": "3NhHjUdRtRAC",
      "execution_count": null,
      "outputs": [
        {
          "output_type": "stream",
          "name": "stdout",
          "text": [
            "Collecting redis\n",
            "  Downloading redis-6.2.0-py3-none-any.whl.metadata (10 kB)\n",
            "Downloading redis-6.2.0-py3-none-any.whl (278 kB)\n",
            "\u001b[2K   \u001b[90m━━━━━━━━━━━━━━━━━━━━━━━━━━━━━━━━━━━━━━━━\u001b[0m \u001b[32m278.7/278.7 kB\u001b[0m \u001b[31m4.4 MB/s\u001b[0m eta \u001b[36m0:00:00\u001b[0m\n",
            "\u001b[?25hInstalling collected packages: redis\n",
            "Successfully installed redis-6.2.0\n"
          ]
        }
      ]
    },
    {
      "cell_type": "code",
      "execution_count": null,
      "metadata": {
        "id": "Pi6ZVx6-63NT",
        "colab": {
          "base_uri": "https://localhost:8080/",
          "height": 356
        },
        "outputId": "a6c71a43-197c-4b7e-dd80-f509cac9a08d"
      },
      "outputs": [
        {
          "output_type": "error",
          "ename": "AuthenticationError",
          "evalue": "invalid username-password pair",
          "traceback": [
            "\u001b[0;31m---------------------------------------------------------------------------\u001b[0m",
            "\u001b[0;31mAuthenticationError\u001b[0m                       Traceback (most recent call last)",
            "\u001b[0;32m<ipython-input-39-1013665014>\u001b[0m in \u001b[0;36m<cell line: 0>\u001b[0;34m()\u001b[0m\n\u001b[1;32m      7\u001b[0m \u001b[0msession_id\u001b[0m \u001b[0;34m=\u001b[0m \u001b[0;34m'grupo1_juan_sesion_A'\u001b[0m\u001b[0;34m\u001b[0m\u001b[0;34m\u001b[0m\u001b[0m\n\u001b[1;32m      8\u001b[0m \u001b[0mhistory\u001b[0m \u001b[0;34m=\u001b[0m \u001b[0mRedisChatMessageHistory\u001b[0m\u001b[0;34m(\u001b[0m\u001b[0msession_id\u001b[0m\u001b[0;34m=\u001b[0m\u001b[0msession_id\u001b[0m\u001b[0;34m,\u001b[0m \u001b[0murl\u001b[0m\u001b[0;34m=\u001b[0m\u001b[0mredis_url\u001b[0m\u001b[0;34m)\u001b[0m\u001b[0;34m\u001b[0m\u001b[0;34m\u001b[0m\u001b[0m\n\u001b[0;32m----> 9\u001b[0;31m \u001b[0mhistory\u001b[0m\u001b[0;34m.\u001b[0m\u001b[0madd_user_message\u001b[0m\u001b[0;34m(\u001b[0m\u001b[0;34m\"Hola, me llamo Adriana\"\u001b[0m\u001b[0;34m)\u001b[0m\u001b[0;34m\u001b[0m\u001b[0;34m\u001b[0m\u001b[0m\n\u001b[0m\u001b[1;32m     10\u001b[0m \u001b[0mhistory\u001b[0m\u001b[0;34m.\u001b[0m\u001b[0madd_ai_message\u001b[0m\u001b[0;34m(\u001b[0m\u001b[0;34m\"Hola, Adriana\"\u001b[0m\u001b[0;34m)\u001b[0m\u001b[0;34m\u001b[0m\u001b[0;34m\u001b[0m\u001b[0m\n\u001b[1;32m     11\u001b[0m \u001b[0;34m\u001b[0m\u001b[0m\n",
            "\u001b[0;32m/usr/local/lib/python3.11/dist-packages/langchain_core/chat_history.py\u001b[0m in \u001b[0;36madd_user_message\u001b[0;34m(self, message)\u001b[0m\n\u001b[1;32m    125\u001b[0m             \u001b[0mself\u001b[0m\u001b[0;34m.\u001b[0m\u001b[0madd_message\u001b[0m\u001b[0;34m(\u001b[0m\u001b[0mmessage\u001b[0m\u001b[0;34m)\u001b[0m\u001b[0;34m\u001b[0m\u001b[0;34m\u001b[0m\u001b[0m\n\u001b[1;32m    126\u001b[0m         \u001b[0;32melse\u001b[0m\u001b[0;34m:\u001b[0m\u001b[0;34m\u001b[0m\u001b[0;34m\u001b[0m\u001b[0m\n\u001b[0;32m--> 127\u001b[0;31m             \u001b[0mself\u001b[0m\u001b[0;34m.\u001b[0m\u001b[0madd_message\u001b[0m\u001b[0;34m(\u001b[0m\u001b[0mHumanMessage\u001b[0m\u001b[0;34m(\u001b[0m\u001b[0mcontent\u001b[0m\u001b[0;34m=\u001b[0m\u001b[0mmessage\u001b[0m\u001b[0;34m)\u001b[0m\u001b[0;34m)\u001b[0m\u001b[0;34m\u001b[0m\u001b[0;34m\u001b[0m\u001b[0m\n\u001b[0m\u001b[1;32m    128\u001b[0m \u001b[0;34m\u001b[0m\u001b[0m\n\u001b[1;32m    129\u001b[0m     \u001b[0;32mdef\u001b[0m \u001b[0madd_ai_message\u001b[0m\u001b[0;34m(\u001b[0m\u001b[0mself\u001b[0m\u001b[0;34m,\u001b[0m \u001b[0mmessage\u001b[0m\u001b[0;34m:\u001b[0m \u001b[0mUnion\u001b[0m\u001b[0;34m[\u001b[0m\u001b[0mAIMessage\u001b[0m\u001b[0;34m,\u001b[0m \u001b[0mstr\u001b[0m\u001b[0;34m]\u001b[0m\u001b[0;34m)\u001b[0m \u001b[0;34m->\u001b[0m \u001b[0;32mNone\u001b[0m\u001b[0;34m:\u001b[0m\u001b[0;34m\u001b[0m\u001b[0;34m\u001b[0m\u001b[0m\n",
            "\u001b[0;32m/usr/local/lib/python3.11/dist-packages/langchain_community/chat_message_histories/redis.py\u001b[0m in \u001b[0;36madd_message\u001b[0;34m(self, message)\u001b[0m\n\u001b[1;32m    112\u001b[0m     \u001b[0;32mdef\u001b[0m \u001b[0madd_message\u001b[0m\u001b[0;34m(\u001b[0m\u001b[0mself\u001b[0m\u001b[0;34m,\u001b[0m \u001b[0mmessage\u001b[0m\u001b[0;34m:\u001b[0m \u001b[0mBaseMessage\u001b[0m\u001b[0;34m)\u001b[0m \u001b[0;34m->\u001b[0m \u001b[0;32mNone\u001b[0m\u001b[0;34m:\u001b[0m\u001b[0;34m\u001b[0m\u001b[0;34m\u001b[0m\u001b[0m\n\u001b[1;32m    113\u001b[0m         \u001b[0;34m\"\"\"Append the message to the record in Redis\"\"\"\u001b[0m\u001b[0;34m\u001b[0m\u001b[0;34m\u001b[0m\u001b[0m\n\u001b[0;32m--> 114\u001b[0;31m         \u001b[0mself\u001b[0m\u001b[0;34m.\u001b[0m\u001b[0mredis_client\u001b[0m\u001b[0;34m.\u001b[0m\u001b[0mlpush\u001b[0m\u001b[0;34m(\u001b[0m\u001b[0mself\u001b[0m\u001b[0;34m.\u001b[0m\u001b[0mkey\u001b[0m\u001b[0;34m,\u001b[0m \u001b[0mjson\u001b[0m\u001b[0;34m.\u001b[0m\u001b[0mdumps\u001b[0m\u001b[0;34m(\u001b[0m\u001b[0mmessage_to_dict\u001b[0m\u001b[0;34m(\u001b[0m\u001b[0mmessage\u001b[0m\u001b[0;34m)\u001b[0m\u001b[0;34m)\u001b[0m\u001b[0;34m)\u001b[0m\u001b[0;34m\u001b[0m\u001b[0;34m\u001b[0m\u001b[0m\n\u001b[0m\u001b[1;32m    115\u001b[0m         \u001b[0;32mif\u001b[0m \u001b[0mself\u001b[0m\u001b[0;34m.\u001b[0m\u001b[0mttl\u001b[0m\u001b[0;34m:\u001b[0m\u001b[0;34m\u001b[0m\u001b[0;34m\u001b[0m\u001b[0m\n\u001b[1;32m    116\u001b[0m             \u001b[0mself\u001b[0m\u001b[0;34m.\u001b[0m\u001b[0mredis_client\u001b[0m\u001b[0;34m.\u001b[0m\u001b[0mexpire\u001b[0m\u001b[0;34m(\u001b[0m\u001b[0mself\u001b[0m\u001b[0;34m.\u001b[0m\u001b[0mkey\u001b[0m\u001b[0;34m,\u001b[0m \u001b[0mself\u001b[0m\u001b[0;34m.\u001b[0m\u001b[0mttl\u001b[0m\u001b[0;34m)\u001b[0m\u001b[0;34m\u001b[0m\u001b[0;34m\u001b[0m\u001b[0m\n",
            "\u001b[0;32m/usr/local/lib/python3.11/dist-packages/redis/commands/core.py\u001b[0m in \u001b[0;36mlpush\u001b[0;34m(self, name, *values)\u001b[0m\n\u001b[1;32m   2696\u001b[0m         \u001b[0mFor\u001b[0m \u001b[0mmore\u001b[0m \u001b[0minformation\u001b[0m \u001b[0msee\u001b[0m \u001b[0mhttps\u001b[0m\u001b[0;34m:\u001b[0m\u001b[0;34m//\u001b[0m\u001b[0mredis\u001b[0m\u001b[0;34m.\u001b[0m\u001b[0mio\u001b[0m\u001b[0;34m/\u001b[0m\u001b[0mcommands\u001b[0m\u001b[0;34m/\u001b[0m\u001b[0mlpush\u001b[0m\u001b[0;34m\u001b[0m\u001b[0;34m\u001b[0m\u001b[0m\n\u001b[1;32m   2697\u001b[0m         \"\"\"\n\u001b[0;32m-> 2698\u001b[0;31m         \u001b[0;32mreturn\u001b[0m \u001b[0mself\u001b[0m\u001b[0;34m.\u001b[0m\u001b[0mexecute_command\u001b[0m\u001b[0;34m(\u001b[0m\u001b[0;34m\"LPUSH\"\u001b[0m\u001b[0;34m,\u001b[0m \u001b[0mname\u001b[0m\u001b[0;34m,\u001b[0m \u001b[0;34m*\u001b[0m\u001b[0mvalues\u001b[0m\u001b[0;34m)\u001b[0m\u001b[0;34m\u001b[0m\u001b[0;34m\u001b[0m\u001b[0m\n\u001b[0m\u001b[1;32m   2699\u001b[0m \u001b[0;34m\u001b[0m\u001b[0m\n\u001b[1;32m   2700\u001b[0m     \u001b[0;32mdef\u001b[0m \u001b[0mlpushx\u001b[0m\u001b[0;34m(\u001b[0m\u001b[0mself\u001b[0m\u001b[0;34m,\u001b[0m \u001b[0mname\u001b[0m\u001b[0;34m:\u001b[0m \u001b[0mstr\u001b[0m\u001b[0;34m,\u001b[0m \u001b[0;34m*\u001b[0m\u001b[0mvalues\u001b[0m\u001b[0;34m:\u001b[0m \u001b[0mFieldT\u001b[0m\u001b[0;34m)\u001b[0m \u001b[0;34m->\u001b[0m \u001b[0mUnion\u001b[0m\u001b[0;34m[\u001b[0m\u001b[0mAwaitable\u001b[0m\u001b[0;34m[\u001b[0m\u001b[0mint\u001b[0m\u001b[0;34m]\u001b[0m\u001b[0;34m,\u001b[0m \u001b[0mint\u001b[0m\u001b[0;34m]\u001b[0m\u001b[0;34m:\u001b[0m\u001b[0;34m\u001b[0m\u001b[0;34m\u001b[0m\u001b[0m\n",
            "\u001b[0;32m/usr/local/lib/python3.11/dist-packages/redis/client.py\u001b[0m in \u001b[0;36mexecute_command\u001b[0;34m(self, *args, **options)\u001b[0m\n\u001b[1;32m    621\u001b[0m     \u001b[0;31m# COMMAND EXECUTION AND PROTOCOL PARSING\u001b[0m\u001b[0;34m\u001b[0m\u001b[0;34m\u001b[0m\u001b[0m\n\u001b[1;32m    622\u001b[0m     \u001b[0;32mdef\u001b[0m \u001b[0mexecute_command\u001b[0m\u001b[0;34m(\u001b[0m\u001b[0mself\u001b[0m\u001b[0;34m,\u001b[0m \u001b[0;34m*\u001b[0m\u001b[0margs\u001b[0m\u001b[0;34m,\u001b[0m \u001b[0;34m**\u001b[0m\u001b[0moptions\u001b[0m\u001b[0;34m)\u001b[0m\u001b[0;34m:\u001b[0m\u001b[0;34m\u001b[0m\u001b[0;34m\u001b[0m\u001b[0m\n\u001b[0;32m--> 623\u001b[0;31m         \u001b[0;32mreturn\u001b[0m \u001b[0mself\u001b[0m\u001b[0;34m.\u001b[0m\u001b[0m_execute_command\u001b[0m\u001b[0;34m(\u001b[0m\u001b[0;34m*\u001b[0m\u001b[0margs\u001b[0m\u001b[0;34m,\u001b[0m \u001b[0;34m**\u001b[0m\u001b[0moptions\u001b[0m\u001b[0;34m)\u001b[0m\u001b[0;34m\u001b[0m\u001b[0;34m\u001b[0m\u001b[0m\n\u001b[0m\u001b[1;32m    624\u001b[0m \u001b[0;34m\u001b[0m\u001b[0m\n\u001b[1;32m    625\u001b[0m     \u001b[0;32mdef\u001b[0m \u001b[0m_execute_command\u001b[0m\u001b[0;34m(\u001b[0m\u001b[0mself\u001b[0m\u001b[0;34m,\u001b[0m \u001b[0;34m*\u001b[0m\u001b[0margs\u001b[0m\u001b[0;34m,\u001b[0m \u001b[0;34m**\u001b[0m\u001b[0moptions\u001b[0m\u001b[0;34m)\u001b[0m\u001b[0;34m:\u001b[0m\u001b[0;34m\u001b[0m\u001b[0;34m\u001b[0m\u001b[0m\n",
            "\u001b[0;32m/usr/local/lib/python3.11/dist-packages/redis/client.py\u001b[0m in \u001b[0;36m_execute_command\u001b[0;34m(self, *args, **options)\u001b[0m\n\u001b[1;32m    627\u001b[0m         \u001b[0mpool\u001b[0m \u001b[0;34m=\u001b[0m \u001b[0mself\u001b[0m\u001b[0;34m.\u001b[0m\u001b[0mconnection_pool\u001b[0m\u001b[0;34m\u001b[0m\u001b[0;34m\u001b[0m\u001b[0m\n\u001b[1;32m    628\u001b[0m         \u001b[0mcommand_name\u001b[0m \u001b[0;34m=\u001b[0m \u001b[0margs\u001b[0m\u001b[0;34m[\u001b[0m\u001b[0;36m0\u001b[0m\u001b[0;34m]\u001b[0m\u001b[0;34m\u001b[0m\u001b[0;34m\u001b[0m\u001b[0m\n\u001b[0;32m--> 629\u001b[0;31m         \u001b[0mconn\u001b[0m \u001b[0;34m=\u001b[0m \u001b[0mself\u001b[0m\u001b[0;34m.\u001b[0m\u001b[0mconnection\u001b[0m \u001b[0;32mor\u001b[0m \u001b[0mpool\u001b[0m\u001b[0;34m.\u001b[0m\u001b[0mget_connection\u001b[0m\u001b[0;34m(\u001b[0m\u001b[0;34m)\u001b[0m\u001b[0;34m\u001b[0m\u001b[0;34m\u001b[0m\u001b[0m\n\u001b[0m\u001b[1;32m    630\u001b[0m \u001b[0;34m\u001b[0m\u001b[0m\n\u001b[1;32m    631\u001b[0m         \u001b[0;32mif\u001b[0m \u001b[0mself\u001b[0m\u001b[0;34m.\u001b[0m\u001b[0m_single_connection_client\u001b[0m\u001b[0;34m:\u001b[0m\u001b[0;34m\u001b[0m\u001b[0;34m\u001b[0m\u001b[0m\n",
            "\u001b[0;32m/usr/local/lib/python3.11/dist-packages/redis/utils.py\u001b[0m in \u001b[0;36mwrapper\u001b[0;34m(*args, **kwargs)\u001b[0m\n\u001b[1;32m    189\u001b[0m                     )\n\u001b[1;32m    190\u001b[0m \u001b[0;34m\u001b[0m\u001b[0m\n\u001b[0;32m--> 191\u001b[0;31m             \u001b[0;32mreturn\u001b[0m \u001b[0mfunc\u001b[0m\u001b[0;34m(\u001b[0m\u001b[0;34m*\u001b[0m\u001b[0margs\u001b[0m\u001b[0;34m,\u001b[0m \u001b[0;34m**\u001b[0m\u001b[0mkwargs\u001b[0m\u001b[0;34m)\u001b[0m\u001b[0;34m\u001b[0m\u001b[0;34m\u001b[0m\u001b[0m\n\u001b[0m\u001b[1;32m    192\u001b[0m \u001b[0;34m\u001b[0m\u001b[0m\n\u001b[1;32m    193\u001b[0m         \u001b[0;32mreturn\u001b[0m \u001b[0mwrapper\u001b[0m\u001b[0;34m\u001b[0m\u001b[0;34m\u001b[0m\u001b[0m\n",
            "\u001b[0;32m/usr/local/lib/python3.11/dist-packages/redis/connection.py\u001b[0m in \u001b[0;36mget_connection\u001b[0;34m(self, command_name, *keys, **options)\u001b[0m\n\u001b[1;32m   1528\u001b[0m         \u001b[0;32mtry\u001b[0m\u001b[0;34m:\u001b[0m\u001b[0;34m\u001b[0m\u001b[0;34m\u001b[0m\u001b[0m\n\u001b[1;32m   1529\u001b[0m             \u001b[0;31m# ensure this connection is connected to Redis\u001b[0m\u001b[0;34m\u001b[0m\u001b[0;34m\u001b[0m\u001b[0m\n\u001b[0;32m-> 1530\u001b[0;31m             \u001b[0mconnection\u001b[0m\u001b[0;34m.\u001b[0m\u001b[0mconnect\u001b[0m\u001b[0;34m(\u001b[0m\u001b[0;34m)\u001b[0m\u001b[0;34m\u001b[0m\u001b[0;34m\u001b[0m\u001b[0m\n\u001b[0m\u001b[1;32m   1531\u001b[0m             \u001b[0;31m# connections that the pool provides should be ready to send\u001b[0m\u001b[0;34m\u001b[0m\u001b[0;34m\u001b[0m\u001b[0m\n\u001b[1;32m   1532\u001b[0m             \u001b[0;31m# a command. if not, the connection was either returned to the\u001b[0m\u001b[0;34m\u001b[0m\u001b[0;34m\u001b[0m\u001b[0m\n",
            "\u001b[0;32m/usr/local/lib/python3.11/dist-packages/redis/connection.py\u001b[0m in \u001b[0;36mconnect\u001b[0;34m(self)\u001b[0m\n\u001b[1;32m    377\u001b[0m     \u001b[0;32mdef\u001b[0m \u001b[0mconnect\u001b[0m\u001b[0;34m(\u001b[0m\u001b[0mself\u001b[0m\u001b[0;34m)\u001b[0m\u001b[0;34m:\u001b[0m\u001b[0;34m\u001b[0m\u001b[0;34m\u001b[0m\u001b[0m\n\u001b[1;32m    378\u001b[0m         \u001b[0;34m\"Connects to the Redis server if not already connected\"\u001b[0m\u001b[0;34m\u001b[0m\u001b[0;34m\u001b[0m\u001b[0m\n\u001b[0;32m--> 379\u001b[0;31m         \u001b[0mself\u001b[0m\u001b[0;34m.\u001b[0m\u001b[0mconnect_check_health\u001b[0m\u001b[0;34m(\u001b[0m\u001b[0mcheck_health\u001b[0m\u001b[0;34m=\u001b[0m\u001b[0;32mTrue\u001b[0m\u001b[0;34m)\u001b[0m\u001b[0;34m\u001b[0m\u001b[0;34m\u001b[0m\u001b[0m\n\u001b[0m\u001b[1;32m    380\u001b[0m \u001b[0;34m\u001b[0m\u001b[0m\n\u001b[1;32m    381\u001b[0m     \u001b[0;32mdef\u001b[0m \u001b[0mconnect_check_health\u001b[0m\u001b[0;34m(\u001b[0m\u001b[0mself\u001b[0m\u001b[0;34m,\u001b[0m \u001b[0mcheck_health\u001b[0m\u001b[0;34m:\u001b[0m \u001b[0mbool\u001b[0m \u001b[0;34m=\u001b[0m \u001b[0;32mTrue\u001b[0m\u001b[0;34m)\u001b[0m\u001b[0;34m:\u001b[0m\u001b[0;34m\u001b[0m\u001b[0;34m\u001b[0m\u001b[0m\n",
            "\u001b[0;32m/usr/local/lib/python3.11/dist-packages/redis/connection.py\u001b[0m in \u001b[0;36mconnect_check_health\u001b[0;34m(self, check_health)\u001b[0m\n\u001b[1;32m    395\u001b[0m             \u001b[0;32mif\u001b[0m \u001b[0mself\u001b[0m\u001b[0;34m.\u001b[0m\u001b[0mredis_connect_func\u001b[0m \u001b[0;32mis\u001b[0m \u001b[0;32mNone\u001b[0m\u001b[0;34m:\u001b[0m\u001b[0;34m\u001b[0m\u001b[0;34m\u001b[0m\u001b[0m\n\u001b[1;32m    396\u001b[0m                 \u001b[0;31m# Use the default on_connect function\u001b[0m\u001b[0;34m\u001b[0m\u001b[0;34m\u001b[0m\u001b[0m\n\u001b[0;32m--> 397\u001b[0;31m                 \u001b[0mself\u001b[0m\u001b[0;34m.\u001b[0m\u001b[0mon_connect_check_health\u001b[0m\u001b[0;34m(\u001b[0m\u001b[0mcheck_health\u001b[0m\u001b[0;34m=\u001b[0m\u001b[0mcheck_health\u001b[0m\u001b[0;34m)\u001b[0m\u001b[0;34m\u001b[0m\u001b[0;34m\u001b[0m\u001b[0m\n\u001b[0m\u001b[1;32m    398\u001b[0m             \u001b[0;32melse\u001b[0m\u001b[0;34m:\u001b[0m\u001b[0;34m\u001b[0m\u001b[0;34m\u001b[0m\u001b[0m\n\u001b[1;32m    399\u001b[0m                 \u001b[0;31m# Use the passed function redis_connect_func\u001b[0m\u001b[0;34m\u001b[0m\u001b[0;34m\u001b[0m\u001b[0m\n",
            "\u001b[0;32m/usr/local/lib/python3.11/dist-packages/redis/connection.py\u001b[0m in \u001b[0;36mon_connect_check_health\u001b[0;34m(self, check_health)\u001b[0m\n\u001b[1;32m    467\u001b[0m \u001b[0;34m\u001b[0m\u001b[0m\n\u001b[1;32m    468\u001b[0m             \u001b[0;32mtry\u001b[0m\u001b[0;34m:\u001b[0m\u001b[0;34m\u001b[0m\u001b[0;34m\u001b[0m\u001b[0m\n\u001b[0;32m--> 469\u001b[0;31m                 \u001b[0mauth_response\u001b[0m \u001b[0;34m=\u001b[0m \u001b[0mself\u001b[0m\u001b[0;34m.\u001b[0m\u001b[0mread_response\u001b[0m\u001b[0;34m(\u001b[0m\u001b[0;34m)\u001b[0m\u001b[0;34m\u001b[0m\u001b[0;34m\u001b[0m\u001b[0m\n\u001b[0m\u001b[1;32m    470\u001b[0m             \u001b[0;32mexcept\u001b[0m \u001b[0mAuthenticationWrongNumberOfArgsError\u001b[0m\u001b[0;34m:\u001b[0m\u001b[0;34m\u001b[0m\u001b[0;34m\u001b[0m\u001b[0m\n\u001b[1;32m    471\u001b[0m                 \u001b[0;31m# a username and password were specified but the Redis\u001b[0m\u001b[0;34m\u001b[0m\u001b[0;34m\u001b[0m\u001b[0m\n",
            "\u001b[0;32m/usr/local/lib/python3.11/dist-packages/redis/connection.py\u001b[0m in \u001b[0;36mread_response\u001b[0;34m(self, disable_decoding, disconnect_on_error, push_request)\u001b[0m\n\u001b[1;32m    642\u001b[0m                 )\n\u001b[1;32m    643\u001b[0m             \u001b[0;32melse\u001b[0m\u001b[0;34m:\u001b[0m\u001b[0;34m\u001b[0m\u001b[0;34m\u001b[0m\u001b[0m\n\u001b[0;32m--> 644\u001b[0;31m                 \u001b[0mresponse\u001b[0m \u001b[0;34m=\u001b[0m \u001b[0mself\u001b[0m\u001b[0;34m.\u001b[0m\u001b[0m_parser\u001b[0m\u001b[0;34m.\u001b[0m\u001b[0mread_response\u001b[0m\u001b[0;34m(\u001b[0m\u001b[0mdisable_decoding\u001b[0m\u001b[0;34m=\u001b[0m\u001b[0mdisable_decoding\u001b[0m\u001b[0;34m)\u001b[0m\u001b[0;34m\u001b[0m\u001b[0;34m\u001b[0m\u001b[0m\n\u001b[0m\u001b[1;32m    645\u001b[0m         \u001b[0;32mexcept\u001b[0m \u001b[0msocket\u001b[0m\u001b[0;34m.\u001b[0m\u001b[0mtimeout\u001b[0m\u001b[0;34m:\u001b[0m\u001b[0;34m\u001b[0m\u001b[0;34m\u001b[0m\u001b[0m\n\u001b[1;32m    646\u001b[0m             \u001b[0;32mif\u001b[0m \u001b[0mdisconnect_on_error\u001b[0m\u001b[0;34m:\u001b[0m\u001b[0;34m\u001b[0m\u001b[0;34m\u001b[0m\u001b[0m\n",
            "\u001b[0;32m/usr/local/lib/python3.11/dist-packages/redis/_parsers/resp2.py\u001b[0m in \u001b[0;36mread_response\u001b[0;34m(self, disable_decoding)\u001b[0m\n\u001b[1;32m     13\u001b[0m         \u001b[0mpos\u001b[0m \u001b[0;34m=\u001b[0m \u001b[0mself\u001b[0m\u001b[0;34m.\u001b[0m\u001b[0m_buffer\u001b[0m\u001b[0;34m.\u001b[0m\u001b[0mget_pos\u001b[0m\u001b[0;34m(\u001b[0m\u001b[0;34m)\u001b[0m \u001b[0;32mif\u001b[0m \u001b[0mself\u001b[0m\u001b[0;34m.\u001b[0m\u001b[0m_buffer\u001b[0m \u001b[0;32melse\u001b[0m \u001b[0;32mNone\u001b[0m\u001b[0;34m\u001b[0m\u001b[0;34m\u001b[0m\u001b[0m\n\u001b[1;32m     14\u001b[0m         \u001b[0;32mtry\u001b[0m\u001b[0;34m:\u001b[0m\u001b[0;34m\u001b[0m\u001b[0;34m\u001b[0m\u001b[0m\n\u001b[0;32m---> 15\u001b[0;31m             \u001b[0mresult\u001b[0m \u001b[0;34m=\u001b[0m \u001b[0mself\u001b[0m\u001b[0;34m.\u001b[0m\u001b[0m_read_response\u001b[0m\u001b[0;34m(\u001b[0m\u001b[0mdisable_decoding\u001b[0m\u001b[0;34m=\u001b[0m\u001b[0mdisable_decoding\u001b[0m\u001b[0;34m)\u001b[0m\u001b[0;34m\u001b[0m\u001b[0;34m\u001b[0m\u001b[0m\n\u001b[0m\u001b[1;32m     16\u001b[0m         \u001b[0;32mexcept\u001b[0m \u001b[0mBaseException\u001b[0m\u001b[0;34m:\u001b[0m\u001b[0;34m\u001b[0m\u001b[0;34m\u001b[0m\u001b[0m\n\u001b[1;32m     17\u001b[0m             \u001b[0;32mif\u001b[0m \u001b[0mself\u001b[0m\u001b[0;34m.\u001b[0m\u001b[0m_buffer\u001b[0m\u001b[0;34m:\u001b[0m\u001b[0;34m\u001b[0m\u001b[0;34m\u001b[0m\u001b[0m\n",
            "\u001b[0;32m/usr/local/lib/python3.11/dist-packages/redis/_parsers/resp2.py\u001b[0m in \u001b[0;36m_read_response\u001b[0;34m(self, disable_decoding)\u001b[0m\n\u001b[1;32m     36\u001b[0m             \u001b[0;31m# is notified\u001b[0m\u001b[0;34m\u001b[0m\u001b[0;34m\u001b[0m\u001b[0m\n\u001b[1;32m     37\u001b[0m             \u001b[0;32mif\u001b[0m \u001b[0misinstance\u001b[0m\u001b[0;34m(\u001b[0m\u001b[0merror\u001b[0m\u001b[0;34m,\u001b[0m \u001b[0mConnectionError\u001b[0m\u001b[0;34m)\u001b[0m\u001b[0;34m:\u001b[0m\u001b[0;34m\u001b[0m\u001b[0;34m\u001b[0m\u001b[0m\n\u001b[0;32m---> 38\u001b[0;31m                 \u001b[0;32mraise\u001b[0m \u001b[0merror\u001b[0m\u001b[0;34m\u001b[0m\u001b[0;34m\u001b[0m\u001b[0m\n\u001b[0m\u001b[1;32m     39\u001b[0m             \u001b[0;31m# otherwise, we're dealing with a ResponseError that might belong\u001b[0m\u001b[0;34m\u001b[0m\u001b[0;34m\u001b[0m\u001b[0m\n\u001b[1;32m     40\u001b[0m             \u001b[0;31m# inside a pipeline response. the connection's read_response()\u001b[0m\u001b[0;34m\u001b[0m\u001b[0;34m\u001b[0m\u001b[0m\n",
            "\u001b[0;31mAuthenticationError\u001b[0m: invalid username-password pair"
          ]
        }
      ],
      "source": [
        "from langchain.memory.chat_message_histories.redis import RedisChatMessageHistory\n",
        "from langchain_core.prompts import ChatPromptTemplate\n",
        "from langchain_openai import ChatOpenAI\n",
        "from langchain_core.runnables.history import RunnableWithMessageHistory\n",
        "\n",
        "redis_url = userdata.get('REDIS_URL')\n",
        "session_id = 'grupo1_juan_sesion_A'\n",
        "history = RedisChatMessageHistory(session_id=session_id, url=redis_url)\n",
        "history.add_user_message(\"Hola, me llamo Adriana\")\n",
        "history.add_ai_message(\"Hola, Adriana\")\n",
        "\n",
        "print(history)"
      ],
      "id": "Pi6ZVx6-63NT"
    },
    {
      "cell_type": "markdown",
      "source": [
        "# Ejercicio grupal 4\n",
        "\n",
        "Para este ejercicio nos dividiremos en grupos. Tendremos 20 minutos para resolverlo y luego 10 para aclarar dudas entre todos los grupos.\n",
        "\n",
        "El objetivo del ejercicio es utilizar Redis para almacenar y gestionar el historial de conversaciones de varios usuarios.\n",
        "\n",
        "\n",
        "## Puntos a Resolver:\n",
        "\n",
        "### Almacenamiento y Recuperación del Historial:\n",
        "\n",
        "1. Cada grupo debe probar el almacenamiento y recuperación del historial de conversaciones para diferentes usuarios en Redis.\n",
        "2. Asegurarse de que el historial de conversaciones se mantiene coherente para cada sesión.\n",
        "\n",
        "### Integración con LangChain:\n",
        "\n",
        "1. Configurar un modelo de lenguaje que pueda responder preguntas basándose en el historial de conversación recuperado de Redis.\n",
        "2. Asegurarse de que el modelo proporciona respuestas coherentes y relevantes utilizando el historial, ejecutando la cadena completa para varios usuarios y validando que el historial se mantiene y se utiliza correctamente en las respuestas generadas por el modelo.\n"
      ],
      "metadata": {
        "id": "itodikQlR1-4"
      },
      "id": "itodikQlR1-4"
    },
    {
      "cell_type": "markdown",
      "source": [
        "# Ejercicio grupal offline\n",
        "\n",
        "Vamos a crear un Chat que funcione como los dispositivos Alexa, Google Home, etc, pero que recuerde las convesaciones con los distintos usuarios.\n",
        "\n",
        "Esto significa que cualquier usuario puede hablar con el asistente y este deberá recordar la conversación de cada uno en forma individual. En la práctica vamos a tener varios historiales de conversación y tendremos que elegir cuál usar en función del nombre que el usuario nos dé.\n",
        "\n",
        "Por ejemplo, si el usuario dice \"Soy Paola, quiero saber más de lo que hablamos antes\", el asistente deberá activar el historial de Paola y continuar la conversación, hasta que otro usuario se identifique.\n",
        "\n",
        "Los historiales de conversación deben guardarse en Redis. Es deseable que utilicen output parser y prompt templates.\n",
        "\n",
        "Aquí hay un ejemplo de código de cómo hacer un ciclo de preguntas y respuesta en Google Colab:"
      ],
      "metadata": {
        "id": "hNlkcAlGpo1N"
      },
      "id": "hNlkcAlGpo1N"
    },
    {
      "cell_type": "code",
      "source": [
        "# Función para hacer preguntas y recibir respuestas\n",
        "while True:\n",
        "    pregunta = input(\"Haz una pregunta (o escribe 'salir' para terminar): \")\n",
        "    print(f\"Tu pregunta fue: {pregunta}\")\n",
        "    if pregunta.lower() == 'salir':\n",
        "        print(\"Fin del ciclo de preguntas y respuestas.\")\n",
        "        break\n"
      ],
      "metadata": {
        "id": "A5JR3vDCqIPS"
      },
      "id": "A5JR3vDCqIPS",
      "execution_count": null,
      "outputs": []
    }
  ],
  "metadata": {
    "colab": {
      "provenance": [],
      "include_colab_link": true
    },
    "language_info": {
      "name": "python"
    },
    "kernelspec": {
      "name": "python3",
      "display_name": "Python 3"
    }
  },
  "nbformat": 4,
  "nbformat_minor": 5
}